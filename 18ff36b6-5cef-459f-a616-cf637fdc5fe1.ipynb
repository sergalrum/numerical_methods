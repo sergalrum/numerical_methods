{
 "cells": [
  {
   "cell_type": "markdown",
   "metadata": {},
   "source": [
    "# Определение стоимости автомобилей"
   ]
  },
  {
   "cell_type": "markdown",
   "metadata": {},
   "source": [
    "Сервис по продаже автомобилей с пробегом «Не бит, не крашен» разрабатывает приложение для привлечения новых клиентов. В нём можно быстро узнать рыночную стоимость своего автомобиля. В вашем распоряжении исторические данные: технические характеристики, комплектации и цены автомобилей. Вам нужно построить модель для определения стоимости. \n",
    "\n",
    "Заказчику важны:\n",
    "\n",
    "- качество предсказания;\n",
    "- скорость предсказания;\n",
    "- время обучения."
   ]
  },
  {
   "cell_type": "markdown",
   "metadata": {},
   "source": [
    "# Основные понятия и описание данных"
   ]
  },
  {
   "cell_type": "markdown",
   "metadata": {},
   "source": [
    "Признаки:\n",
    "- DateCrawled — дата скачивания анкеты из базы\n",
    "- VehicleType — тип автомобильного кузова\n",
    "- RegistrationYear — год регистрации автомобиля\n",
    "- Gearbox — тип коробки передач\n",
    "- Power — мощность (л. с.)\n",
    "- Model — модель автомобиля\n",
    "- Kilometer — пробег (км)\n",
    "- RegistrationMonth — месяц регистрации автомобиля\n",
    "- FuelType — тип топлива\n",
    "- Brand — марка автомобиля\n",
    "- Repaired — была машина в ремонте или нет\n",
    "- DateCreated — дата создания анкеты\n",
    "- NumberOfPictures — количество фотографий автомобиля\n",
    "- PostalCode — почтовый индекс владельца анкеты (пользователя)\n",
    "- LastSeen — дата последней активности пользователя\n",
    "\n",
    "\n",
    "Целевой признак:\n",
    "- Price — цена (евро)"
   ]
  },
  {
   "cell_type": "markdown",
   "metadata": {},
   "source": [
    "# Критерии, которые важны заказчику:\n",
    "- качество предсказания;\n",
    "- время обучения модели;\n",
    "- время предсказания модели."
   ]
  },
  {
   "cell_type": "markdown",
   "metadata": {},
   "source": [
    "## Подготовка данных"
   ]
  },
  {
   "cell_type": "markdown",
   "metadata": {},
   "source": [
    "### Библиотеки"
   ]
  },
  {
   "cell_type": "code",
   "execution_count": 1,
   "metadata": {},
   "outputs": [],
   "source": [
    "import pandas as pd\n",
    "import seaborn as sns\n",
    "import matplotlib.pyplot as plt\n",
    "import numpy as np\n",
    "from scipy import stats as st"
   ]
  },
  {
   "cell_type": "code",
   "execution_count": 4,
   "metadata": {},
   "outputs": [],
   "source": [
    "# %%capture\n",
    "\n",
    "# !pip install category_encoders\n",
    "# import category_encoders as ce\n",
    "\n",
    "# !pip install catboost\n",
    "from catboost import CatBoostRegressor\n",
    "\n",
    "# !pip install lightgbm\n",
    "import lightgbm as lgb\n",
    "from lightgbm import LGBMRegressor"
   ]
  },
  {
   "cell_type": "code",
   "execution_count": 5,
   "metadata": {},
   "outputs": [],
   "source": [
    "# импортируем функцию предобработки\n",
    "from sklearn.model_selection import train_test_split, GridSearchCV\n",
    "from sklearn.preprocessing import StandardScaler\n",
    "# from sklearn.utils import shuffle\n",
    "# from sklearn.preprocessing import OneHotEncoder\n",
    "from sklearn.preprocessing import OrdinalEncoder\n",
    "\n",
    "# импортируем функции машинного обучения\n",
    "from sklearn.linear_model import LinearRegression\n",
    "# from sklearn.tree import DecisionTreeRegressor\n",
    "from sklearn.ensemble import RandomForestRegressor\n",
    "\n",
    "from sklearn.metrics import mean_absolute_error, make_scorer, mean_squared_error as mse\n",
    "# from sklearn.model_selection import cross_val_score\n",
    "\n",
    "# from sklearn.metrics import f1_score, roc_auc_score, confusion_matrix\n",
    "from sklearn.dummy import DummyRegressor, DummyClassifier"
   ]
  },
  {
   "cell_type": "code",
   "execution_count": 6,
   "metadata": {},
   "outputs": [],
   "source": [
    "import category_encoders as ce"
   ]
  },
  {
   "cell_type": "markdown",
   "metadata": {},
   "source": [
    "### Откроем и изучим файлы"
   ]
  },
  {
   "cell_type": "markdown",
   "metadata": {},
   "source": [
    "#### Общая информация"
   ]
  },
  {
   "cell_type": "code",
   "execution_count": 7,
   "metadata": {},
   "outputs": [],
   "source": [
    "try:\n",
    "    df = pd.read_csv('/datasets/autos.csv')\n",
    "except:\n",
    "    df = pd.read_csv('autos.csv')"
   ]
  },
  {
   "cell_type": "code",
   "execution_count": 8,
   "metadata": {},
   "outputs": [],
   "source": [
    "# ProfileReport(df)"
   ]
  },
  {
   "cell_type": "code",
   "execution_count": 9,
   "metadata": {},
   "outputs": [
    {
     "data": {
      "text/html": [
       "<div>\n",
       "<style scoped>\n",
       "    .dataframe tbody tr th:only-of-type {\n",
       "        vertical-align: middle;\n",
       "    }\n",
       "\n",
       "    .dataframe tbody tr th {\n",
       "        vertical-align: top;\n",
       "    }\n",
       "\n",
       "    .dataframe thead th {\n",
       "        text-align: right;\n",
       "    }\n",
       "</style>\n",
       "<table border=\"1\" class=\"dataframe\">\n",
       "  <thead>\n",
       "    <tr style=\"text-align: right;\">\n",
       "      <th></th>\n",
       "      <th>DateCrawled</th>\n",
       "      <th>Price</th>\n",
       "      <th>VehicleType</th>\n",
       "      <th>RegistrationYear</th>\n",
       "      <th>Gearbox</th>\n",
       "      <th>Power</th>\n",
       "      <th>Model</th>\n",
       "      <th>Kilometer</th>\n",
       "      <th>RegistrationMonth</th>\n",
       "      <th>FuelType</th>\n",
       "      <th>Brand</th>\n",
       "      <th>Repaired</th>\n",
       "      <th>DateCreated</th>\n",
       "      <th>NumberOfPictures</th>\n",
       "      <th>PostalCode</th>\n",
       "      <th>LastSeen</th>\n",
       "    </tr>\n",
       "  </thead>\n",
       "  <tbody>\n",
       "    <tr>\n",
       "      <th>0</th>\n",
       "      <td>2016-03-24 11:52:17</td>\n",
       "      <td>480</td>\n",
       "      <td>NaN</td>\n",
       "      <td>1993</td>\n",
       "      <td>manual</td>\n",
       "      <td>0</td>\n",
       "      <td>golf</td>\n",
       "      <td>150000</td>\n",
       "      <td>0</td>\n",
       "      <td>petrol</td>\n",
       "      <td>volkswagen</td>\n",
       "      <td>NaN</td>\n",
       "      <td>2016-03-24 00:00:00</td>\n",
       "      <td>0</td>\n",
       "      <td>70435</td>\n",
       "      <td>2016-04-07 03:16:57</td>\n",
       "    </tr>\n",
       "    <tr>\n",
       "      <th>1</th>\n",
       "      <td>2016-03-24 10:58:45</td>\n",
       "      <td>18300</td>\n",
       "      <td>coupe</td>\n",
       "      <td>2011</td>\n",
       "      <td>manual</td>\n",
       "      <td>190</td>\n",
       "      <td>NaN</td>\n",
       "      <td>125000</td>\n",
       "      <td>5</td>\n",
       "      <td>gasoline</td>\n",
       "      <td>audi</td>\n",
       "      <td>yes</td>\n",
       "      <td>2016-03-24 00:00:00</td>\n",
       "      <td>0</td>\n",
       "      <td>66954</td>\n",
       "      <td>2016-04-07 01:46:50</td>\n",
       "    </tr>\n",
       "    <tr>\n",
       "      <th>2</th>\n",
       "      <td>2016-03-14 12:52:21</td>\n",
       "      <td>9800</td>\n",
       "      <td>suv</td>\n",
       "      <td>2004</td>\n",
       "      <td>auto</td>\n",
       "      <td>163</td>\n",
       "      <td>grand</td>\n",
       "      <td>125000</td>\n",
       "      <td>8</td>\n",
       "      <td>gasoline</td>\n",
       "      <td>jeep</td>\n",
       "      <td>NaN</td>\n",
       "      <td>2016-03-14 00:00:00</td>\n",
       "      <td>0</td>\n",
       "      <td>90480</td>\n",
       "      <td>2016-04-05 12:47:46</td>\n",
       "    </tr>\n",
       "    <tr>\n",
       "      <th>3</th>\n",
       "      <td>2016-03-17 16:54:04</td>\n",
       "      <td>1500</td>\n",
       "      <td>small</td>\n",
       "      <td>2001</td>\n",
       "      <td>manual</td>\n",
       "      <td>75</td>\n",
       "      <td>golf</td>\n",
       "      <td>150000</td>\n",
       "      <td>6</td>\n",
       "      <td>petrol</td>\n",
       "      <td>volkswagen</td>\n",
       "      <td>no</td>\n",
       "      <td>2016-03-17 00:00:00</td>\n",
       "      <td>0</td>\n",
       "      <td>91074</td>\n",
       "      <td>2016-03-17 17:40:17</td>\n",
       "    </tr>\n",
       "    <tr>\n",
       "      <th>4</th>\n",
       "      <td>2016-03-31 17:25:20</td>\n",
       "      <td>3600</td>\n",
       "      <td>small</td>\n",
       "      <td>2008</td>\n",
       "      <td>manual</td>\n",
       "      <td>69</td>\n",
       "      <td>fabia</td>\n",
       "      <td>90000</td>\n",
       "      <td>7</td>\n",
       "      <td>gasoline</td>\n",
       "      <td>skoda</td>\n",
       "      <td>no</td>\n",
       "      <td>2016-03-31 00:00:00</td>\n",
       "      <td>0</td>\n",
       "      <td>60437</td>\n",
       "      <td>2016-04-06 10:17:21</td>\n",
       "    </tr>\n",
       "  </tbody>\n",
       "</table>\n",
       "</div>"
      ],
      "text/plain": [
       "           DateCrawled  Price VehicleType  RegistrationYear Gearbox  Power  \\\n",
       "0  2016-03-24 11:52:17    480         NaN              1993  manual      0   \n",
       "1  2016-03-24 10:58:45  18300       coupe              2011  manual    190   \n",
       "2  2016-03-14 12:52:21   9800         suv              2004    auto    163   \n",
       "3  2016-03-17 16:54:04   1500       small              2001  manual     75   \n",
       "4  2016-03-31 17:25:20   3600       small              2008  manual     69   \n",
       "\n",
       "   Model  Kilometer  RegistrationMonth  FuelType       Brand Repaired  \\\n",
       "0   golf     150000                  0    petrol  volkswagen      NaN   \n",
       "1    NaN     125000                  5  gasoline        audi      yes   \n",
       "2  grand     125000                  8  gasoline        jeep      NaN   \n",
       "3   golf     150000                  6    petrol  volkswagen       no   \n",
       "4  fabia      90000                  7  gasoline       skoda       no   \n",
       "\n",
       "           DateCreated  NumberOfPictures  PostalCode             LastSeen  \n",
       "0  2016-03-24 00:00:00                 0       70435  2016-04-07 03:16:57  \n",
       "1  2016-03-24 00:00:00                 0       66954  2016-04-07 01:46:50  \n",
       "2  2016-03-14 00:00:00                 0       90480  2016-04-05 12:47:46  \n",
       "3  2016-03-17 00:00:00                 0       91074  2016-03-17 17:40:17  \n",
       "4  2016-03-31 00:00:00                 0       60437  2016-04-06 10:17:21  "
      ]
     },
     "execution_count": 9,
     "metadata": {},
     "output_type": "execute_result"
    }
   ],
   "source": [
    "df.head()"
   ]
  },
  {
   "cell_type": "code",
   "execution_count": 10,
   "metadata": {},
   "outputs": [
    {
     "data": {
      "image/png": "[encoded data removed]",
      "text/plain": [
       "<Figure size 1000x1000 with 9 Axes>"
      ]
     },
     "metadata": {},
     "output_type": "display_data"
    }
   ],
   "source": [
    "df.hist(figsize=(10, 10))\n",
    "plt.show()"
   ]
  },
  {
   "cell_type": "markdown",
   "metadata": {},
   "source": [
    "#### Замена названий столбцов"
   ]
  },
  {
   "cell_type": "code",
   "execution_count": 11,
   "metadata": {},
   "outputs": [
    {
     "data": {
      "text/plain": [
       "Index(['DateCrawled', 'Price', 'VehicleType', 'RegistrationYear', 'Gearbox',\n",
       "       'Power', 'Model', 'Kilometer', 'RegistrationMonth', 'FuelType', 'Brand',\n",
       "       'Repaired', 'DateCreated', 'NumberOfPictures', 'PostalCode',\n",
       "       'LastSeen'],\n",
       "      dtype='object')"
      ]
     },
     "execution_count": 11,
     "metadata": {},
     "output_type": "execute_result"
    }
   ],
   "source": [
    "# Приведем названия столбцов к змеиному регистру\n",
    "df.columns"
   ]
  },
  {
   "cell_type": "code",
   "execution_count": 12,
   "metadata": {},
   "outputs": [],
   "source": [
    "df.columns = ['Date_Crawled', 'Price', 'Vehicle_Type', 'Registration_Year', 'Gearbox',\n",
    "       'Power', 'Model', 'Kilometer', 'Registration_Month', 'Fuel_Type', 'Brand',\n",
    "       'Repaired', 'Date_Created', 'Number_Of_Pictures', 'Postal_Code',\n",
    "       'Last_Seen']\n",
    "df.columns = df.columns.str.lower()"
   ]
  },
  {
   "cell_type": "code",
   "execution_count": 13,
   "metadata": {},
   "outputs": [
    {
     "data": {
      "text/plain": [
       "Index(['date_crawled', 'price', 'vehicle_type', 'registration_year', 'gearbox',\n",
       "       'power', 'model', 'kilometer', 'registration_month', 'fuel_type',\n",
       "       'brand', 'repaired', 'date_created', 'number_of_pictures',\n",
       "       'postal_code', 'last_seen'],\n",
       "      dtype='object')"
      ]
     },
     "execution_count": 13,
     "metadata": {},
     "output_type": "execute_result"
    }
   ],
   "source": [
    "df.columns"
   ]
  },
  {
   "cell_type": "markdown",
   "metadata": {},
   "source": [
    "#### Работа с пропусками"
   ]
  },
  {
   "cell_type": "code",
   "execution_count": 14,
   "metadata": {
    "scrolled": true
   },
   "outputs": [
    {
     "data": {
      "text/plain": [
       "date_crawled           0.00\n",
       "price                  0.00\n",
       "vehicle_type          10.58\n",
       "registration_year      0.00\n",
       "gearbox                5.60\n",
       "power                  0.00\n",
       "model                  5.56\n",
       "kilometer              0.00\n",
       "registration_month     0.00\n",
       "fuel_type              9.28\n",
       "brand                  0.00\n",
       "repaired              20.08\n",
       "date_created           0.00\n",
       "number_of_pictures     0.00\n",
       "postal_code            0.00\n",
       "last_seen              0.00\n",
       "dtype: float64"
      ]
     },
     "execution_count": 14,
     "metadata": {},
     "output_type": "execute_result"
    }
   ],
   "source": [
    "round(df.isna().sum() / len(df) * 100, 2)"
   ]
  },
  {
   "cell_type": "markdown",
   "metadata": {},
   "source": [
    "Пропуски в столбце `vehicle_type` заменим константным значением, тк не мы не может достаточно точно определить тип кузова."
   ]
  },
  {
   "cell_type": "markdown",
   "metadata": {},
   "source": [
    "Со столбцами `gearbox`, `model`, `fuel_type` и `repaired` поступим также."
   ]
  },
  {
   "cell_type": "code",
   "execution_count": 15,
   "metadata": {},
   "outputs": [],
   "source": [
    "fillna_coll = ['vehicle_type', 'gearbox', 'model', 'fuel_type', 'repaired']\n",
    "\n",
    "for i in range(len(fillna_coll)):\n",
    "    df[fillna_coll[i]] = df[fillna_coll[i]].fillna('unknown')"
   ]
  },
  {
   "cell_type": "markdown",
   "metadata": {},
   "source": [
    "#### Работа с дубликатами"
   ]
  },
  {
   "cell_type": "markdown",
   "metadata": {},
   "source": [
    "Определим наличие явных дубликатов и удалим их."
   ]
  },
  {
   "cell_type": "code",
   "execution_count": 16,
   "metadata": {},
   "outputs": [
    {
     "data": {
      "text/plain": [
       "4"
      ]
     },
     "execution_count": 16,
     "metadata": {},
     "output_type": "execute_result"
    }
   ],
   "source": [
    "df.duplicated().sum()"
   ]
  },
  {
   "cell_type": "code",
   "execution_count": 17,
   "metadata": {},
   "outputs": [],
   "source": [
    "df = df.drop_duplicates()"
   ]
  },
  {
   "cell_type": "markdown",
   "metadata": {},
   "source": [
    "Изучим датафрейм на наличие неявных дубликатов."
   ]
  },
  {
   "cell_type": "code",
   "execution_count": 18,
   "metadata": {},
   "outputs": [
    {
     "data": {
      "text/plain": [
       "array(['unknown', 'coupe', 'suv', 'small', 'sedan', 'convertible', 'bus',\n",
       "       'wagon', 'other'], dtype=object)"
      ]
     },
     "execution_count": 18,
     "metadata": {},
     "output_type": "execute_result"
    }
   ],
   "source": [
    "df['vehicle_type'].unique()"
   ]
  },
  {
   "cell_type": "code",
   "execution_count": 19,
   "metadata": {},
   "outputs": [
    {
     "data": {
      "text/plain": [
       "manual     268249\n",
       "auto        66283\n",
       "unknown     19833\n",
       "Name: gearbox, dtype: int64"
      ]
     },
     "execution_count": 19,
     "metadata": {},
     "output_type": "execute_result"
    }
   ],
   "source": [
    "df['gearbox'].value_counts()"
   ]
  },
  {
   "cell_type": "code",
   "execution_count": 20,
   "metadata": {},
   "outputs": [
    {
     "data": {
      "text/plain": [
       "petrol      216349\n",
       "gasoline     98719\n",
       "unknown      32895\n",
       "lpg           5310\n",
       "cng            565\n",
       "hybrid         233\n",
       "other          204\n",
       "electric        90\n",
       "Name: fuel_type, dtype: int64"
      ]
     },
     "execution_count": 20,
     "metadata": {},
     "output_type": "execute_result"
    }
   ],
   "source": [
    "df['fuel_type'].value_counts()"
   ]
  },
  {
   "cell_type": "markdown",
   "metadata": {},
   "source": [
    "`lpg` и `cng` считаются обозначением сжиженного углеводородного газа, их можно объединить"
   ]
  },
  {
   "cell_type": "markdown",
   "metadata": {},
   "source": [
    "`petrol` - обозначение бензина в Англии\n",
    "\n",
    "`gasoline` - обозначение бензина в Америке  \n",
    "*В Крыму \"газолин\" - это бензин тоже :)*\n",
    "\n",
    "`gasoline` и `petrol` можно объединить"
   ]
  },
  {
   "cell_type": "code",
   "execution_count": 21,
   "metadata": {},
   "outputs": [],
   "source": [
    "df.loc[df['fuel_type'] == 'gasoline', 'fuel_type'] = 'petrol'\n",
    "df.loc[df['fuel_type'] == 'cng', 'fuel_type'] = 'lpg'"
   ]
  },
  {
   "cell_type": "code",
   "execution_count": 22,
   "metadata": {},
   "outputs": [
    {
     "data": {
      "text/plain": [
       "array(['volkswagen', 'audi', 'jeep', 'skoda', 'bmw', 'peugeot', 'ford',\n",
       "       'mazda', 'nissan', 'renault', 'mercedes_benz', 'opel', 'seat',\n",
       "       'citroen', 'honda', 'fiat', 'mini', 'smart', 'hyundai',\n",
       "       'sonstige_autos', 'alfa_romeo', 'subaru', 'volvo', 'mitsubishi',\n",
       "       'kia', 'suzuki', 'lancia', 'toyota', 'chevrolet', 'dacia',\n",
       "       'daihatsu', 'trabant', 'saab', 'chrysler', 'jaguar', 'daewoo',\n",
       "       'porsche', 'rover', 'land_rover', 'lada'], dtype=object)"
      ]
     },
     "execution_count": 22,
     "metadata": {},
     "output_type": "execute_result"
    }
   ],
   "source": [
    "df['brand'].unique()"
   ]
  },
  {
   "cell_type": "code",
   "execution_count": 23,
   "metadata": {},
   "outputs": [
    {
     "data": {
      "text/plain": [
       "251"
      ]
     },
     "execution_count": 23,
     "metadata": {},
     "output_type": "execute_result"
    }
   ],
   "source": [
    "len(df['model'].unique())"
   ]
  },
  {
   "cell_type": "code",
   "execution_count": 24,
   "metadata": {},
   "outputs": [
    {
     "data": {
      "text/plain": [
       "251"
      ]
     },
     "execution_count": 24,
     "metadata": {},
     "output_type": "execute_result"
    }
   ],
   "source": [
    "len(df['model'].str.lower().unique())"
   ]
  },
  {
   "cell_type": "markdown",
   "metadata": {},
   "source": [
    "Если в столбце `model` присутствуют неявные дубликаты их будет сложно определить, однако случаи должны быть единичны.\n",
    "\n",
    "Для корректорй проверки может подойти отдельный датафрейм со связью."
   ]
  },
  {
   "cell_type": "markdown",
   "metadata": {},
   "source": [
    "#### Удалим неинформативные столбцы"
   ]
  },
  {
   "cell_type": "markdown",
   "metadata": {},
   "source": [
    "Для определения корреляций проведем прямое кодирование \n",
    "\n",
    "Используем OrdinalEncoder, тк он быстрее других подобных"
   ]
  },
  {
   "cell_type": "code",
   "execution_count": 25,
   "metadata": {},
   "outputs": [],
   "source": [
    "# encoder = OrdinalEncoder() "
   ]
  },
  {
   "cell_type": "code",
   "execution_count": 26,
   "metadata": {},
   "outputs": [],
   "source": [
    "# encoder.fit(df) "
   ]
  },
  {
   "cell_type": "code",
   "execution_count": 27,
   "metadata": {},
   "outputs": [],
   "source": [
    "# data_ordinal = pd.DataFrame(encoder.transform(df), columns=df.columns) "
   ]
  },
  {
   "cell_type": "markdown",
   "metadata": {},
   "source": [
    "Оценим корреляцию признаков с целевым."
   ]
  },
  {
   "cell_type": "code",
   "execution_count": 28,
   "metadata": {
    "scrolled": true
   },
   "outputs": [],
   "source": [
    "# corr = data_ordinal.corr(min_periods=50)\n",
    "# corr_price = pd.DataFrame(corr['price']).sort_values(by='price', ascending=False)"
   ]
  },
  {
   "cell_type": "code",
   "execution_count": 29,
   "metadata": {},
   "outputs": [],
   "source": [
    "# corr_price.style.background_gradient(cmap='coolwarm')"
   ]
  },
  {
   "cell_type": "markdown",
   "metadata": {},
   "source": [
    "Сочтем столбцы `date_crawled`, `date_created`, `number_of_pictures`, `last_seen` и `postal_code` неинформативными, остальные изучим позднее."
   ]
  },
  {
   "cell_type": "code",
   "execution_count": 30,
   "metadata": {},
   "outputs": [],
   "source": [
    "drop_coll = ['date_crawled', 'date_created', 'postal_code', 'number_of_pictures', 'last_seen']"
   ]
  },
  {
   "cell_type": "code",
   "execution_count": 31,
   "metadata": {},
   "outputs": [],
   "source": [
    "df_clear = df.drop(drop_coll, axis=1)"
   ]
  },
  {
   "cell_type": "code",
   "execution_count": 32,
   "metadata": {},
   "outputs": [],
   "source": [
    "# del data_ordinal, encoder, corr, corr_price"
   ]
  },
  {
   "cell_type": "markdown",
   "metadata": {},
   "source": [
    "#### Рассмотрим выбивающиеся значения"
   ]
  },
  {
   "cell_type": "markdown",
   "metadata": {},
   "source": [
    "Из пунта 1.2.1 видно, что присутствуют выбивающиеся значения в столбцах `registration_year` и `power`. Рассмотрим их подробнее."
   ]
  },
  {
   "cell_type": "code",
   "execution_count": 33,
   "metadata": {},
   "outputs": [
    {
     "data": {
      "text/plain": [
       "[1000,\n",
       " 1001,\n",
       " 1039,\n",
       " 1111,\n",
       " 1200,\n",
       " 1234,\n",
       " 1253,\n",
       " 1255,\n",
       " 1300,\n",
       " 1400,\n",
       " 1500,\n",
       " 1600,\n",
       " 1602,\n",
       " 1688,\n",
       " 1800,\n",
       " 1910,\n",
       " 1915,\n",
       " 1919,\n",
       " 1920,\n",
       " 1923,\n",
       " 1925,\n",
       " 1927,\n",
       " 1928,\n",
       " 1929,\n",
       " 1930,\n",
       " 1931,\n",
       " 1932,\n",
       " 1933,\n",
       " 1934,\n",
       " 1935,\n",
       " 1936,\n",
       " 1937,\n",
       " 1938,\n",
       " 1940,\n",
       " 1941,\n",
       " 1942,\n",
       " 1943,\n",
       " 1944,\n",
       " 1945,\n",
       " 1946,\n",
       " 1947,\n",
       " 1948,\n",
       " 1949,\n",
       " 1950,\n",
       " 1951,\n",
       " 1952,\n",
       " 1953,\n",
       " 1954,\n",
       " 1955,\n",
       " 1956,\n",
       " 1957,\n",
       " 1958,\n",
       " 1959,\n",
       " 1960,\n",
       " 1961,\n",
       " 1962,\n",
       " 1963,\n",
       " 1964,\n",
       " 1965,\n",
       " 1966,\n",
       " 1967,\n",
       " 1968,\n",
       " 1969,\n",
       " 1970,\n",
       " 1971,\n",
       " 1972,\n",
       " 1973,\n",
       " 1974,\n",
       " 1975,\n",
       " 1976,\n",
       " 1977,\n",
       " 1978,\n",
       " 1979,\n",
       " 1980,\n",
       " 1981,\n",
       " 1982,\n",
       " 1983,\n",
       " 1984,\n",
       " 1985,\n",
       " 1986,\n",
       " 1987,\n",
       " 1988,\n",
       " 1989,\n",
       " 1990,\n",
       " 1991,\n",
       " 1992,\n",
       " 1993,\n",
       " 1994,\n",
       " 1995,\n",
       " 1996,\n",
       " 1997,\n",
       " 1998,\n",
       " 1999,\n",
       " 2000,\n",
       " 2001,\n",
       " 2002,\n",
       " 2003,\n",
       " 2004,\n",
       " 2005,\n",
       " 2006,\n",
       " 2007,\n",
       " 2008,\n",
       " 2009,\n",
       " 2010,\n",
       " 2011,\n",
       " 2012,\n",
       " 2013,\n",
       " 2014,\n",
       " 2015,\n",
       " 2016,\n",
       " 2017,\n",
       " 2018,\n",
       " 2019,\n",
       " 2066,\n",
       " 2200,\n",
       " 2222,\n",
       " 2290,\n",
       " 2500,\n",
       " 2800,\n",
       " 2900,\n",
       " 3000,\n",
       " 3200,\n",
       " 3500,\n",
       " 3700,\n",
       " 3800,\n",
       " 4000,\n",
       " 4100,\n",
       " 4500,\n",
       " 4800,\n",
       " 5000,\n",
       " 5300,\n",
       " 5555,\n",
       " 5600,\n",
       " 5900,\n",
       " 5911,\n",
       " 6000,\n",
       " 6500,\n",
       " 7000,\n",
       " 7100,\n",
       " 7500,\n",
       " 7800,\n",
       " 8000,\n",
       " 8200,\n",
       " 8455,\n",
       " 8500,\n",
       " 8888,\n",
       " 9000,\n",
       " 9229,\n",
       " 9450,\n",
       " 9996,\n",
       " 9999]"
      ]
     },
     "execution_count": 33,
     "metadata": {},
     "output_type": "execute_result"
    }
   ],
   "source": [
    "sorted(df_clear['registration_year'].unique())"
   ]
  },
  {
   "cell_type": "markdown",
   "metadata": {},
   "source": [
    "Оставим значния, похожие на правду и актуальные для нас(с 1950 до 2019)"
   ]
  },
  {
   "cell_type": "code",
   "execution_count": 34,
   "metadata": {},
   "outputs": [],
   "source": [
    "MIN_YEAR = 1950\n",
    "MAX_YEAR = 2016"
   ]
  },
  {
   "cell_type": "code",
   "execution_count": 35,
   "metadata": {},
   "outputs": [],
   "source": [
    "df_clear = df_clear.loc[(df_clear['registration_year'] >= MIN_YEAR) & (df_clear['registration_year'] <= MAX_YEAR)]"
   ]
  },
  {
   "cell_type": "code",
   "execution_count": 36,
   "metadata": {},
   "outputs": [
    {
     "data": {
      "text/plain": [
       "'2016-04-07 14:36:58'"
      ]
     },
     "execution_count": 36,
     "metadata": {},
     "output_type": "execute_result"
    }
   ],
   "source": [
    "df['date_crawled'].max()"
   ]
  },
  {
   "cell_type": "code",
   "execution_count": 37,
   "metadata": {},
   "outputs": [
    {
     "data": {
      "text/plain": [
       "[0,\n",
       " 1,\n",
       " 2,\n",
       " 3,\n",
       " 4,\n",
       " 5,\n",
       " 6,\n",
       " 7,\n",
       " 8,\n",
       " 9,\n",
       " 10,\n",
       " 11,\n",
       " 12,\n",
       " 13,\n",
       " 14,\n",
       " 15,\n",
       " 16,\n",
       " 17,\n",
       " 18,\n",
       " 19,\n",
       " 20,\n",
       " 21,\n",
       " 22,\n",
       " 23,\n",
       " 24,\n",
       " 25,\n",
       " 26,\n",
       " 27,\n",
       " 28,\n",
       " 29,\n",
       " 30,\n",
       " 31,\n",
       " 32,\n",
       " 33,\n",
       " 34,\n",
       " 35,\n",
       " 36,\n",
       " 37,\n",
       " 38,\n",
       " 39,\n",
       " 40,\n",
       " 41,\n",
       " 42,\n",
       " 43,\n",
       " 44,\n",
       " 45,\n",
       " 46,\n",
       " 47,\n",
       " 48,\n",
       " 49,\n",
       " 50,\n",
       " 51,\n",
       " 52,\n",
       " 53,\n",
       " 54,\n",
       " 55,\n",
       " 56,\n",
       " 57,\n",
       " 58,\n",
       " 59,\n",
       " 60,\n",
       " 61,\n",
       " 62,\n",
       " 63,\n",
       " 64,\n",
       " 65,\n",
       " 66,\n",
       " 67,\n",
       " 68,\n",
       " 69,\n",
       " 70,\n",
       " 71,\n",
       " 72,\n",
       " 73,\n",
       " 74,\n",
       " 75,\n",
       " 76,\n",
       " 77,\n",
       " 78,\n",
       " 79,\n",
       " 80,\n",
       " 81,\n",
       " 82,\n",
       " 83,\n",
       " 84,\n",
       " 85,\n",
       " 86,\n",
       " 87,\n",
       " 88,\n",
       " 89,\n",
       " 90,\n",
       " 91,\n",
       " 92,\n",
       " 93,\n",
       " 94,\n",
       " 95,\n",
       " 96,\n",
       " 97,\n",
       " 98,\n",
       " 99,\n",
       " 100,\n",
       " 101,\n",
       " 102,\n",
       " 103,\n",
       " 104,\n",
       " 105,\n",
       " 106,\n",
       " 107,\n",
       " 108,\n",
       " 109,\n",
       " 110,\n",
       " 111,\n",
       " 112,\n",
       " 113,\n",
       " 114,\n",
       " 115,\n",
       " 116,\n",
       " 117,\n",
       " 118,\n",
       " 119,\n",
       " 120,\n",
       " 121,\n",
       " 122,\n",
       " 123,\n",
       " 124,\n",
       " 125,\n",
       " 126,\n",
       " 127,\n",
       " 128,\n",
       " 129,\n",
       " 130,\n",
       " 131,\n",
       " 132,\n",
       " 133,\n",
       " 134,\n",
       " 135,\n",
       " 136,\n",
       " 137,\n",
       " 138,\n",
       " 139,\n",
       " 140,\n",
       " 141,\n",
       " 142,\n",
       " 143,\n",
       " 144,\n",
       " 145,\n",
       " 146,\n",
       " 147,\n",
       " 148,\n",
       " 149,\n",
       " 150,\n",
       " 151,\n",
       " 152,\n",
       " 153,\n",
       " 154,\n",
       " 155,\n",
       " 156,\n",
       " 157,\n",
       " 158,\n",
       " 159,\n",
       " 160,\n",
       " 161,\n",
       " 162,\n",
       " 163,\n",
       " 164,\n",
       " 165,\n",
       " 166,\n",
       " 167,\n",
       " 168,\n",
       " 169,\n",
       " 170,\n",
       " 171,\n",
       " 172,\n",
       " 173,\n",
       " 174,\n",
       " 175,\n",
       " 176,\n",
       " 177,\n",
       " 178,\n",
       " 179,\n",
       " 180,\n",
       " 181,\n",
       " 182,\n",
       " 183,\n",
       " 184,\n",
       " 185,\n",
       " 186,\n",
       " 187,\n",
       " 188,\n",
       " 189,\n",
       " 190,\n",
       " 191,\n",
       " 192,\n",
       " 193,\n",
       " 194,\n",
       " 195,\n",
       " 196,\n",
       " 197,\n",
       " 198,\n",
       " 199,\n",
       " 200,\n",
       " 201,\n",
       " 202,\n",
       " 203,\n",
       " 204,\n",
       " 205,\n",
       " 206,\n",
       " 207,\n",
       " 208,\n",
       " 209,\n",
       " 210,\n",
       " 211,\n",
       " 212,\n",
       " 213,\n",
       " 214,\n",
       " 215,\n",
       " 216,\n",
       " 217,\n",
       " 218,\n",
       " 219,\n",
       " 220,\n",
       " 221,\n",
       " 222,\n",
       " 223,\n",
       " 224,\n",
       " 225,\n",
       " 226,\n",
       " 227,\n",
       " 228,\n",
       " 229,\n",
       " 230,\n",
       " 231,\n",
       " 232,\n",
       " 233,\n",
       " 234,\n",
       " 235,\n",
       " 236,\n",
       " 237,\n",
       " 238,\n",
       " 239,\n",
       " 240,\n",
       " 241,\n",
       " 242,\n",
       " 243,\n",
       " 244,\n",
       " 245,\n",
       " 246,\n",
       " 247,\n",
       " 248,\n",
       " 249,\n",
       " 250,\n",
       " 251,\n",
       " 252,\n",
       " 253,\n",
       " 254,\n",
       " 255,\n",
       " 256,\n",
       " 257,\n",
       " 258,\n",
       " 259,\n",
       " 260,\n",
       " 261,\n",
       " 262,\n",
       " 264,\n",
       " 265,\n",
       " 266,\n",
       " 267,\n",
       " 268,\n",
       " 269,\n",
       " 270,\n",
       " 271,\n",
       " 272,\n",
       " 273,\n",
       " 274,\n",
       " 275,\n",
       " 276,\n",
       " 277,\n",
       " 278,\n",
       " 279,\n",
       " 280,\n",
       " 281,\n",
       " 282,\n",
       " 283,\n",
       " 284,\n",
       " 285,\n",
       " 286,\n",
       " 287,\n",
       " 288,\n",
       " 289,\n",
       " 290,\n",
       " 292,\n",
       " 293,\n",
       " 294,\n",
       " 295,\n",
       " 296,\n",
       " 297,\n",
       " 298,\n",
       " 299,\n",
       " 300,\n",
       " 301,\n",
       " 303,\n",
       " 304,\n",
       " 305,\n",
       " 306,\n",
       " 307,\n",
       " 308,\n",
       " 309,\n",
       " 310,\n",
       " 311,\n",
       " 313,\n",
       " 314,\n",
       " 315,\n",
       " 316,\n",
       " 317,\n",
       " 318,\n",
       " 320,\n",
       " 321,\n",
       " 322,\n",
       " 323,\n",
       " 324,\n",
       " 325,\n",
       " 326,\n",
       " 327,\n",
       " 328,\n",
       " 329,\n",
       " 330,\n",
       " 331,\n",
       " 332,\n",
       " 333,\n",
       " 334,\n",
       " 335,\n",
       " 336,\n",
       " 337,\n",
       " 338,\n",
       " 339,\n",
       " 340,\n",
       " 341,\n",
       " 343,\n",
       " 344,\n",
       " 345,\n",
       " 346,\n",
       " 347,\n",
       " 348,\n",
       " 349,\n",
       " 350,\n",
       " 351,\n",
       " 352,\n",
       " 353,\n",
       " 354,\n",
       " 355,\n",
       " 356,\n",
       " 357,\n",
       " 358,\n",
       " 360,\n",
       " 361,\n",
       " 362,\n",
       " 363,\n",
       " 364,\n",
       " 365,\n",
       " 367,\n",
       " 368,\n",
       " 370,\n",
       " 371,\n",
       " 374,\n",
       " 375,\n",
       " 376,\n",
       " 377,\n",
       " 379,\n",
       " 380,\n",
       " 381,\n",
       " 382,\n",
       " 385,\n",
       " 386,\n",
       " 387,\n",
       " 388,\n",
       " 390,\n",
       " 392,\n",
       " 394,\n",
       " 396,\n",
       " 398,\n",
       " 399,\n",
       " 400,\n",
       " 401,\n",
       " 405,\n",
       " 408,\n",
       " 409,\n",
       " 411,\n",
       " 416,\n",
       " 420,\n",
       " 421,\n",
       " 425,\n",
       " 426,\n",
       " 428,\n",
       " 430,\n",
       " 431,\n",
       " 435,\n",
       " 440,\n",
       " 442,\n",
       " 445,\n",
       " 449,\n",
       " 450,\n",
       " 454,\n",
       " 457,\n",
       " 459,\n",
       " 460,\n",
       " 475,\n",
       " 476,\n",
       " 485,\n",
       " 487,\n",
       " 489,\n",
       " 490,\n",
       " 500,\n",
       " 504,\n",
       " 505,\n",
       " 507,\n",
       " 508,\n",
       " 510,\n",
       " 514,\n",
       " 515,\n",
       " 517,\n",
       " 519,\n",
       " 520,\n",
       " 521,\n",
       " 525,\n",
       " 530,\n",
       " 540,\n",
       " 541,\n",
       " 544,\n",
       " 550,\n",
       " 551,\n",
       " 553,\n",
       " 560,\n",
       " 572,\n",
       " 574,\n",
       " 579,\n",
       " 580,\n",
       " 584,\n",
       " 585,\n",
       " 599,\n",
       " 600,\n",
       " 601,\n",
       " 602,\n",
       " 603,\n",
       " 604,\n",
       " 606,\n",
       " 610,\n",
       " 612,\n",
       " 620,\n",
       " 640,\n",
       " 645,\n",
       " 650,\n",
       " 651,\n",
       " 671,\n",
       " 678,\n",
       " 682,\n",
       " 685,\n",
       " 696,\n",
       " 700,\n",
       " 702,\n",
       " 703,\n",
       " 732,\n",
       " 743,\n",
       " 750,\n",
       " 751,\n",
       " 754,\n",
       " 771,\n",
       " 776,\n",
       " 800,\n",
       " 805,\n",
       " 850,\n",
       " 851,\n",
       " 871,\n",
       " 900,\n",
       " 902,\n",
       " 903,\n",
       " 907,\n",
       " 909,\n",
       " 923,\n",
       " 950,\n",
       " 952,\n",
       " 953,\n",
       " 960,\n",
       " 998,\n",
       " 999,\n",
       " 1000,\n",
       " 1001,\n",
       " 1002,\n",
       " 1003,\n",
       " 1004,\n",
       " 1005,\n",
       " 1011,\n",
       " 1012,\n",
       " 1016,\n",
       " 1017,\n",
       " 1021,\n",
       " 1024,\n",
       " 1054,\n",
       " 1055,\n",
       " 1056,\n",
       " 1062,\n",
       " 1079,\n",
       " 1082,\n",
       " 1090,\n",
       " 1100,\n",
       " 1102,\n",
       " 1103,\n",
       " 1105,\n",
       " 1111,\n",
       " 1115,\n",
       " 1120,\n",
       " 1149,\n",
       " 1151,\n",
       " 1158,\n",
       " 1160,\n",
       " 1162,\n",
       " 1164,\n",
       " 1199,\n",
       " 1200,\n",
       " 1202,\n",
       " 1221,\n",
       " 1223,\n",
       " 1230,\n",
       " 1239,\n",
       " 1240,\n",
       " 1241,\n",
       " 1250,\n",
       " 1256,\n",
       " 1275,\n",
       " 1288,\n",
       " 1299,\n",
       " 1300,\n",
       " 1312,\n",
       " 1317,\n",
       " 1324,\n",
       " 1339,\n",
       " 1360,\n",
       " 1362,\n",
       " 1363,\n",
       " 1367,\n",
       " 1390,\n",
       " 1398,\n",
       " 1399,\n",
       " 1400,\n",
       " 1401,\n",
       " 1403,\n",
       " 1405,\n",
       " 1416,\n",
       " 1432,\n",
       " 1433,\n",
       " 1436,\n",
       " 1500,\n",
       " 1501,\n",
       " 1502,\n",
       " 1503,\n",
       " 1506,\n",
       " 1521,\n",
       " 1548,\n",
       " 1595,\n",
       " 1596,\n",
       " 1597,\n",
       " 1598,\n",
       " 1600,\n",
       " 1625,\n",
       " 1631,\n",
       " 1653,\n",
       " 1659,\n",
       " 1689,\n",
       " 1700,\n",
       " 1701,\n",
       " 1703,\n",
       " 1704,\n",
       " 1707,\n",
       " 1753,\n",
       " 1771,\n",
       " 1779,\n",
       " 1780,\n",
       " 1781,\n",
       " 1783,\n",
       " 1793,\n",
       " 1796,\n",
       " 1799,\n",
       " 1800,\n",
       " 1801,\n",
       " 1870,\n",
       " 1895,\n",
       " 1896,\n",
       " 1900,\n",
       " 1910,\n",
       " 1920,\n",
       " 1922,\n",
       " 1933,\n",
       " 1937,\n",
       " 1968,\n",
       " 1988,\n",
       " 1992,\n",
       " 1993,\n",
       " 1995,\n",
       " 1998,\n",
       " 1999,\n",
       " 2000,\n",
       " 2004,\n",
       " 2005,\n",
       " 2007,\n",
       " 2009,\n",
       " 2016,\n",
       " 2017,\n",
       " 2018,\n",
       " 2172,\n",
       " 2200,\n",
       " 2201,\n",
       " 2331,\n",
       " 2340,\n",
       " 2389,\n",
       " 2402,\n",
       " 2461,\n",
       " 2598,\n",
       " 2729,\n",
       " 2789,\n",
       " 2792,\n",
       " 2799,\n",
       " 3199,\n",
       " 3454,\n",
       " 3500,\n",
       " 3750,\n",
       " 4400,\n",
       " 4507,\n",
       " 4700,\n",
       " 5000,\n",
       " 5411,\n",
       " 5420,\n",
       " 5575,\n",
       " 5809,\n",
       " 5815,\n",
       " 5867,\n",
       " 6006,\n",
       " 6010,\n",
       " 6011,\n",
       " 6012,\n",
       " 6018,\n",
       " 6045,\n",
       " 6062,\n",
       " 6226,\n",
       " 6512,\n",
       " 6920,\n",
       " 7508,\n",
       " 7511,\n",
       " 7512,\n",
       " 7515,\n",
       " 7518,\n",
       " 7529,\n",
       " 7544,\n",
       " 8011,\n",
       " 8259,\n",
       " 8404,\n",
       " 8500,\n",
       " 9007,\n",
       " 9012,\n",
       " 9013,\n",
       " 9710,\n",
       " 10000,\n",
       " 10110,\n",
       " 10218,\n",
       " 10311,\n",
       " 10317,\n",
       " 10520,\n",
       " 10522,\n",
       " 10710,\n",
       " 10910,\n",
       " 10912,\n",
       " 11011,\n",
       " 11025,\n",
       " 11111,\n",
       " 11509,\n",
       " 11530,\n",
       " 11635,\n",
       " 12012,\n",
       " 12510,\n",
       " 12512,\n",
       " 12684,\n",
       " 13616,\n",
       " 13636,\n",
       " 14009,\n",
       " 15001,\n",
       " 15016,\n",
       " 15017,\n",
       " 15020,\n",
       " 15033,\n",
       " 16051,\n",
       " 16311,\n",
       " 16312,\n",
       " 17011,\n",
       " 17019,\n",
       " 17410,\n",
       " 17700,\n",
       " 17932,\n",
       " 19208,\n",
       " 19211,\n",
       " 19312,\n",
       " 20000]"
      ]
     },
     "execution_count": 37,
     "metadata": {},
     "output_type": "execute_result"
    }
   ],
   "source": [
    "sorted(df_clear['power'].unique())"
   ]
  },
  {
   "cell_type": "code",
   "execution_count": 38,
   "metadata": {},
   "outputs": [
    {
     "data": {
      "text/plain": [
       "count    339589.000000\n",
       "mean        111.045163\n",
       "std         186.900896\n",
       "min           0.000000\n",
       "25%          69.000000\n",
       "50%         105.000000\n",
       "75%         143.000000\n",
       "max       20000.000000\n",
       "Name: power, dtype: float64"
      ]
     },
     "execution_count": 38,
     "metadata": {},
     "output_type": "execute_result"
    }
   ],
   "source": [
    "df_clear['power'].describe()"
   ]
  },
  {
   "cell_type": "code",
   "execution_count": 39,
   "metadata": {},
   "outputs": [
    {
     "data": {
      "image/png": "[encoded data removed]",
      "text/plain": [
       "<Figure size 1200x600 with 1 Axes>"
      ]
     },
     "metadata": {},
     "output_type": "display_data"
    }
   ],
   "source": [
    "(pd.Series(\n",
    "    list(df_clear.power.unique()))\n",
    "    .sort_values(ascending=False)\n",
    "    .plot(kind='hist', figsize=(12,6), grid=True, bins=50)\n",
    ")\n",
    "\n",
    "plt.title('График распределения уникальных значений мощности а/м')\n",
    "plt.ylabel('количество')\n",
    "plt.xlabel('Мощность, л.с.')\n",
    "plt.show()"
   ]
  },
  {
   "cell_type": "code",
   "execution_count": 40,
   "metadata": {},
   "outputs": [],
   "source": [
    "df_clear = df_clear.query('power > 15 & power < 2500')"
   ]
  },
  {
   "cell_type": "code",
   "execution_count": 41,
   "metadata": {},
   "outputs": [
    {
     "data": {
      "image/png": "[encoded data removed]",
      "text/plain": [
       "<Figure size 1200x600 with 1 Axes>"
      ]
     },
     "metadata": {},
     "output_type": "display_data"
    }
   ],
   "source": [
    "(pd.Series(\n",
    "    list(df_clear.price.unique()))\n",
    "    .sort_values(ascending=False)\n",
    "    .plot(kind='hist', figsize=(12,6), grid=True, bins=50)\n",
    ")\n",
    "\n",
    "plt.title('График распределения значений стоимости а/м')\n",
    "plt.ylabel('Количество')\n",
    "plt.xlabel('Стоимость')\n",
    "plt.show()"
   ]
  },
  {
   "cell_type": "code",
   "execution_count": 42,
   "metadata": {},
   "outputs": [
    {
     "data": {
      "text/plain": [
       "8185"
      ]
     },
     "execution_count": 42,
     "metadata": {},
     "output_type": "execute_result"
    }
   ],
   "source": [
    "df_clear.loc[df_clear['price'] <= 100]['price'].count()"
   ]
  },
  {
   "cell_type": "markdown",
   "metadata": {},
   "source": [
    "Распределение Пуассона выглядит нормально, однако следует удалить значения ниже 100 евро, поскольку нас такие случаи не интересуют. Это могут быть разбитые машины или владельцы настроены на обмен."
   ]
  },
  {
   "cell_type": "code",
   "execution_count": 43,
   "metadata": {},
   "outputs": [],
   "source": [
    "df_clear = df_clear.query('price > 100')"
   ]
  },
  {
   "cell_type": "markdown",
   "metadata": {},
   "source": [
    "#### Именение типа данных"
   ]
  },
  {
   "cell_type": "code",
   "execution_count": 44,
   "metadata": {},
   "outputs": [],
   "source": [
    "# df_clear['last_seen'] = pd.to_datetime(df_clear['last_seen'], format='%Y-%m-%d %H:%M:%S')"
   ]
  },
  {
   "cell_type": "markdown",
   "metadata": {},
   "source": [
    "#### Разбиение данных на выборки"
   ]
  },
  {
   "cell_type": "code",
   "execution_count": 45,
   "metadata": {},
   "outputs": [],
   "source": [
    "features = df_clear.drop('price', axis=1)\n",
    "target = df_clear['price']"
   ]
  },
  {
   "cell_type": "code",
   "execution_count": 46,
   "metadata": {},
   "outputs": [],
   "source": [
    "RANDOM_STATE = 42"
   ]
  },
  {
   "cell_type": "code",
   "execution_count": 47,
   "metadata": {},
   "outputs": [],
   "source": [
    "# features_train, features_test, target_train, target_test = train_test_split(\n",
    "#     feature, target, test_size=0.25, random_state=RANDOM_STATE)"
   ]
  },
  {
   "cell_type": "code",
   "execution_count": 48,
   "metadata": {},
   "outputs": [],
   "source": [
    "# отделим 25% для тестовой\n",
    "features_tv, features_test, target_tv, target_test = train_test_split(\n",
    "    features, target, test_size=0.2, train_size=0.8, random_state=RANDOM_STATE)\n",
    "\n",
    "# оставшиеся данные разделим в соответствии с ожидаемыми размерами выборки\n",
    "features_train, features_valid, target_train, target_valid = train_test_split(\n",
    "    features_tv, target_tv, test_size = 0.25, train_size =0.75, random_state=RANDOM_STATE)"
   ]
  },
  {
   "cell_type": "markdown",
   "metadata": {},
   "source": [
    "#### Анализ категориальных признаков, кодирование"
   ]
  },
  {
   "cell_type": "markdown",
   "metadata": {},
   "source": [
    "<!-- Проведем прямое кодирование, поскольку нам важно время обучения модели. Однако этот метод имеет ряд недостатков, например, неворзможно обучать на тренировочной выборке, а потом уже обученные на них скелеры, кодера и пр. применять к валидационной и тестовой выборке.\n",
    "\n",
    "Однако, в данном проекте это не имеет большое значение.\n",
    "\n",
    "Возникающий после применения дисбаланс устраним масштабированием данных. -->\n",
    "\n",
    "<!-- Проведем таргетное кодирование, для уменьшения нагрузки при обучении модели и устранении проблем OrdinalEncoder при очуении моделей для задач регрессии. -->\n",
    "\n",
    "Проведем кодирование c помощью обобщенной линейной смешанной модели(GLMM), для значительного уменьшения нагрузки при обучении модели с техникой ОНЕ и устранении проблем OrdinalEncoder при обучении моделей для задач регрессии."
   ]
  },
  {
   "cell_type": "code",
   "execution_count": 49,
   "metadata": {},
   "outputs": [],
   "source": [
    "glmm_encoder = ce.GLMMEncoder(binomial_target=False)\n",
    "# binomial_target = True (for Classification)\n",
    "# binomial_target = False (for Regression)"
   ]
  },
  {
   "cell_type": "code",
   "execution_count": 50,
   "metadata": {},
   "outputs": [
    {
     "name": "stdout",
     "output_type": "stream",
     "text": [
      "CPU times: total: 15.5 s\n",
      "Wall time: 4.54 s\n"
     ]
    },
    {
     "data": {
      "text/html": [
       "<style>#sk-container-id-1 {color: black;background-color: white;}#sk-container-id-1 pre{padding: 0;}#sk-container-id-1 div.sk-toggleable {background-color: white;}#sk-container-id-1 label.sk-toggleable__label {cursor: pointer;display: block;width: 100%;margin-bottom: 0;padding: 0.3em;box-sizing: border-box;text-align: center;}#sk-container-id-1 label.sk-toggleable__label-arrow:before {content: \"▸\";float: left;margin-right: 0.25em;color: #696969;}#sk-container-id-1 label.sk-toggleable__label-arrow:hover:before {color: black;}#sk-container-id-1 div.sk-estimator:hover label.sk-toggleable__label-arrow:before {color: black;}#sk-container-id-1 div.sk-toggleable__content {max-height: 0;max-width: 0;overflow: hidden;text-align: left;background-color: #f0f8ff;}#sk-container-id-1 div.sk-toggleable__content pre {margin: 0.2em;color: black;border-radius: 0.25em;background-color: #f0f8ff;}#sk-container-id-1 input.sk-toggleable__control:checked~div.sk-toggleable__content {max-height: 200px;max-width: 100%;overflow: auto;}#sk-container-id-1 input.sk-toggleable__control:checked~label.sk-toggleable__label-arrow:before {content: \"▾\";}#sk-container-id-1 div.sk-estimator input.sk-toggleable__control:checked~label.sk-toggleable__label {background-color: #d4ebff;}#sk-container-id-1 div.sk-label input.sk-toggleable__control:checked~label.sk-toggleable__label {background-color: #d4ebff;}#sk-container-id-1 input.sk-hidden--visually {border: 0;clip: rect(1px 1px 1px 1px);clip: rect(1px, 1px, 1px, 1px);height: 1px;margin: -1px;overflow: hidden;padding: 0;position: absolute;width: 1px;}#sk-container-id-1 div.sk-estimator {font-family: monospace;background-color: #f0f8ff;border: 1px dotted black;border-radius: 0.25em;box-sizing: border-box;margin-bottom: 0.5em;}#sk-container-id-1 div.sk-estimator:hover {background-color: #d4ebff;}#sk-container-id-1 div.sk-parallel-item::after {content: \"\";width: 100%;border-bottom: 1px solid gray;flex-grow: 1;}#sk-container-id-1 div.sk-label:hover label.sk-toggleable__label {background-color: #d4ebff;}#sk-container-id-1 div.sk-serial::before {content: \"\";position: absolute;border-left: 1px solid gray;box-sizing: border-box;top: 0;bottom: 0;left: 50%;z-index: 0;}#sk-container-id-1 div.sk-serial {display: flex;flex-direction: column;align-items: center;background-color: white;padding-right: 0.2em;padding-left: 0.2em;position: relative;}#sk-container-id-1 div.sk-item {position: relative;z-index: 1;}#sk-container-id-1 div.sk-parallel {display: flex;align-items: stretch;justify-content: center;background-color: white;position: relative;}#sk-container-id-1 div.sk-item::before, #sk-container-id-1 div.sk-parallel-item::before {content: \"\";position: absolute;border-left: 1px solid gray;box-sizing: border-box;top: 0;bottom: 0;left: 50%;z-index: -1;}#sk-container-id-1 div.sk-parallel-item {display: flex;flex-direction: column;z-index: 1;position: relative;background-color: white;}#sk-container-id-1 div.sk-parallel-item:first-child::after {align-self: flex-end;width: 50%;}#sk-container-id-1 div.sk-parallel-item:last-child::after {align-self: flex-start;width: 50%;}#sk-container-id-1 div.sk-parallel-item:only-child::after {width: 0;}#sk-container-id-1 div.sk-dashed-wrapped {border: 1px dashed gray;margin: 0 0.4em 0.5em 0.4em;box-sizing: border-box;padding-bottom: 0.4em;background-color: white;}#sk-container-id-1 div.sk-label label {font-family: monospace;font-weight: bold;display: inline-block;line-height: 1.2em;}#sk-container-id-1 div.sk-label-container {text-align: center;}#sk-container-id-1 div.sk-container {/* jupyter's `normalize.less` sets `[hidden] { display: none; }` but bootstrap.min.css set `[hidden] { display: none !important; }` so we also need the `!important` here to be able to override the default hidden behavior on the sphinx rendered scikit-learn.org. See: https://github.com/scikit-learn/scikit-learn/issues/21755 */display: inline-block !important;position: relative;}#sk-container-id-1 div.sk-text-repr-fallback {display: none;}</style><div id=\"sk-container-id-1\" class=\"sk-top-container\"><div class=\"sk-text-repr-fallback\"><pre>GLMMEncoder(binomial_target=False,\n",
       "            cols=[&#x27;vehicle_type&#x27;, &#x27;gearbox&#x27;, &#x27;model&#x27;, &#x27;fuel_type&#x27;, &#x27;brand&#x27;,\n",
       "                  &#x27;repaired&#x27;])</pre><b>In a Jupyter environment, please rerun this cell to show the HTML representation or trust the notebook. <br />On GitHub, the HTML representation is unable to render, please try loading this page with nbviewer.org.</b></div><div class=\"sk-container\" hidden><div class=\"sk-item\"><div class=\"sk-estimator sk-toggleable\"><input class=\"sk-toggleable__control sk-hidden--visually\" id=\"sk-estimator-id-1\" type=\"checkbox\" checked><label for=\"sk-estimator-id-1\" class=\"sk-toggleable__label sk-toggleable__label-arrow\">GLMMEncoder</label><div class=\"sk-toggleable__content\"><pre>GLMMEncoder(binomial_target=False,\n",
       "            cols=[&#x27;vehicle_type&#x27;, &#x27;gearbox&#x27;, &#x27;model&#x27;, &#x27;fuel_type&#x27;, &#x27;brand&#x27;,\n",
       "                  &#x27;repaired&#x27;])</pre></div></div></div></div></div>"
      ],
      "text/plain": [
       "GLMMEncoder(binomial_target=False,\n",
       "            cols=['vehicle_type', 'gearbox', 'model', 'fuel_type', 'brand',\n",
       "                  'repaired'])"
      ]
     },
     "execution_count": 50,
     "metadata": {},
     "output_type": "execute_result"
    }
   ],
   "source": [
    "%%time\n",
    "\n",
    "glmm_encoder.fit(features_train, target_train)"
   ]
  },
  {
   "cell_type": "code",
   "execution_count": 51,
   "metadata": {},
   "outputs": [
    {
     "data": {
      "text/html": [
       "<div>\n",
       "<style scoped>\n",
       "    .dataframe tbody tr th:only-of-type {\n",
       "        vertical-align: middle;\n",
       "    }\n",
       "\n",
       "    .dataframe tbody tr th {\n",
       "        vertical-align: top;\n",
       "    }\n",
       "\n",
       "    .dataframe thead th {\n",
       "        text-align: right;\n",
       "    }\n",
       "</style>\n",
       "<table border=\"1\" class=\"dataframe\">\n",
       "  <thead>\n",
       "    <tr style=\"text-align: right;\">\n",
       "      <th></th>\n",
       "      <th>vehicle_type</th>\n",
       "      <th>registration_year</th>\n",
       "      <th>gearbox</th>\n",
       "      <th>power</th>\n",
       "      <th>model</th>\n",
       "      <th>kilometer</th>\n",
       "      <th>registration_month</th>\n",
       "      <th>fuel_type</th>\n",
       "      <th>brand</th>\n",
       "      <th>repaired</th>\n",
       "    </tr>\n",
       "  </thead>\n",
       "  <tbody>\n",
       "    <tr>\n",
       "      <th>count</th>\n",
       "      <td>176805.000000</td>\n",
       "      <td>176805.000000</td>\n",
       "      <td>176805.000000</td>\n",
       "      <td>176805.000000</td>\n",
       "      <td>176805.000000</td>\n",
       "      <td>176805.000000</td>\n",
       "      <td>176805.000000</td>\n",
       "      <td>176805.000000</td>\n",
       "      <td>176805.000000</td>\n",
       "      <td>176805.000000</td>\n",
       "    </tr>\n",
       "    <tr>\n",
       "      <th>mean</th>\n",
       "      <td>-496.864568</td>\n",
       "      <td>2002.838585</td>\n",
       "      <td>4.241375</td>\n",
       "      <td>121.606651</td>\n",
       "      <td>-1247.521118</td>\n",
       "      <td>128215.604762</td>\n",
       "      <td>6.002907</td>\n",
       "      <td>-900.953315</td>\n",
       "      <td>27.606037</td>\n",
       "      <td>1241.326977</td>\n",
       "    </tr>\n",
       "    <tr>\n",
       "      <th>std</th>\n",
       "      <td>1532.747202</td>\n",
       "      <td>6.487558</td>\n",
       "      <td>1196.234621</td>\n",
       "      <td>64.677262</td>\n",
       "      <td>2442.302477</td>\n",
       "      <td>36806.342619</td>\n",
       "      <td>3.581306</td>\n",
       "      <td>508.201234</td>\n",
       "      <td>1530.066375</td>\n",
       "      <td>1200.477863</td>\n",
       "    </tr>\n",
       "    <tr>\n",
       "      <th>min</th>\n",
       "      <td>-2785.100255</td>\n",
       "      <td>1950.000000</td>\n",
       "      <td>-1830.809297</td>\n",
       "      <td>16.000000</td>\n",
       "      <td>-5264.916646</td>\n",
       "      <td>5000.000000</td>\n",
       "      <td>0.000000</td>\n",
       "      <td>-2956.608153</td>\n",
       "      <td>-3670.373653</td>\n",
       "      <td>-1430.084298</td>\n",
       "    </tr>\n",
       "    <tr>\n",
       "      <th>25%</th>\n",
       "      <td>-2449.505070</td>\n",
       "      <td>1999.000000</td>\n",
       "      <td>-555.536449</td>\n",
       "      <td>77.000000</td>\n",
       "      <td>-2826.761064</td>\n",
       "      <td>125000.000000</td>\n",
       "      <td>3.000000</td>\n",
       "      <td>-778.762709</td>\n",
       "      <td>-1299.441534</td>\n",
       "      <td>1902.718300</td>\n",
       "    </tr>\n",
       "    <tr>\n",
       "      <th>50%</th>\n",
       "      <td>-382.265365</td>\n",
       "      <td>2003.000000</td>\n",
       "      <td>-555.536449</td>\n",
       "      <td>111.000000</td>\n",
       "      <td>-1599.743455</td>\n",
       "      <td>150000.000000</td>\n",
       "      <td>6.000000</td>\n",
       "      <td>-778.762709</td>\n",
       "      <td>-14.260917</td>\n",
       "      <td>1902.718300</td>\n",
       "    </tr>\n",
       "    <tr>\n",
       "      <th>75%</th>\n",
       "      <td>-198.282435</td>\n",
       "      <td>2007.000000</td>\n",
       "      <td>-555.536449</td>\n",
       "      <td>150.000000</td>\n",
       "      <td>50.080015</td>\n",
       "      <td>150000.000000</td>\n",
       "      <td>9.000000</td>\n",
       "      <td>-778.762709</td>\n",
       "      <td>1462.016616</td>\n",
       "      <td>1902.718300</td>\n",
       "    </tr>\n",
       "    <tr>\n",
       "      <th>max</th>\n",
       "      <td>4025.624746</td>\n",
       "      <td>2016.000000</td>\n",
       "      <td>2386.346486</td>\n",
       "      <td>2461.000000</td>\n",
       "      <td>10990.192133</td>\n",
       "      <td>150000.000000</td>\n",
       "      <td>12.000000</td>\n",
       "      <td>4239.394903</td>\n",
       "      <td>7715.311166</td>\n",
       "      <td>1902.718300</td>\n",
       "    </tr>\n",
       "  </tbody>\n",
       "</table>\n",
       "</div>"
      ],
      "text/plain": [
       "        vehicle_type  registration_year        gearbox          power  \\\n",
       "count  176805.000000      176805.000000  176805.000000  176805.000000   \n",
       "mean     -496.864568        2002.838585       4.241375     121.606651   \n",
       "std      1532.747202           6.487558    1196.234621      64.677262   \n",
       "min     -2785.100255        1950.000000   -1830.809297      16.000000   \n",
       "25%     -2449.505070        1999.000000    -555.536449      77.000000   \n",
       "50%      -382.265365        2003.000000    -555.536449     111.000000   \n",
       "75%      -198.282435        2007.000000    -555.536449     150.000000   \n",
       "max      4025.624746        2016.000000    2386.346486    2461.000000   \n",
       "\n",
       "               model      kilometer  registration_month      fuel_type  \\\n",
       "count  176805.000000  176805.000000       176805.000000  176805.000000   \n",
       "mean    -1247.521118  128215.604762            6.002907    -900.953315   \n",
       "std      2442.302477   36806.342619            3.581306     508.201234   \n",
       "min     -5264.916646    5000.000000            0.000000   -2956.608153   \n",
       "25%     -2826.761064  125000.000000            3.000000    -778.762709   \n",
       "50%     -1599.743455  150000.000000            6.000000    -778.762709   \n",
       "75%        50.080015  150000.000000            9.000000    -778.762709   \n",
       "max     10990.192133  150000.000000           12.000000    4239.394903   \n",
       "\n",
       "               brand       repaired  \n",
       "count  176805.000000  176805.000000  \n",
       "mean       27.606037    1241.326977  \n",
       "std      1530.066375    1200.477863  \n",
       "min     -3670.373653   -1430.084298  \n",
       "25%     -1299.441534    1902.718300  \n",
       "50%       -14.260917    1902.718300  \n",
       "75%      1462.016616    1902.718300  \n",
       "max      7715.311166    1902.718300  "
      ]
     },
     "execution_count": 51,
     "metadata": {},
     "output_type": "execute_result"
    }
   ],
   "source": [
    "features_train_enc = glmm_encoder.transform(features_train)\n",
    "features_valid_enc = glmm_encoder.transform(features_valid)\n",
    "features_test_enc = glmm_encoder.transform(features_test)\n",
    "features_train_enc.describe()"
   ]
  },
  {
   "cell_type": "code",
   "execution_count": 52,
   "metadata": {},
   "outputs": [],
   "source": [
    "# encoder_targ = ce.TargetEncoder(return_df=True)\n",
    "# X_train_loo = encoder_targ.fit_transform(features_train, target_train)\n",
    "# X_train_loo.dtypes\n",
    "# \n",
    "# X_valid_loo = encoder_targ.transform(features_valid)\n",
    "# X_valid_loo.head()"
   ]
  },
  {
   "cell_type": "markdown",
   "metadata": {},
   "source": [
    "#### Масштабирование данных"
   ]
  },
  {
   "cell_type": "code",
   "execution_count": 53,
   "metadata": {},
   "outputs": [],
   "source": [
    "# Удаление предупреждения\n",
    "pd.options.mode.chained_assignment = None\n",
    "\n",
    "# Числовые признаки\n",
    "numeric_num = ['registration_year', 'power', 'kilometer', 'registration_month']\n",
    "# Категориальные признаки\n",
    "numeric_cat = ['vehicle_type', 'gearbox', 'model', 'fuel_type', 'brand', 'repaired']\n",
    "\n",
    "# Числовые признаки кодированных данных\n",
    "numeric_enc = ['vehicle_type', 'registration_year', 'gearbox', 'power', 'model',\n",
    "       'kilometer', 'registration_month', 'fuel_type', 'brand', 'repaired']"
   ]
  },
  {
   "cell_type": "code",
   "execution_count": 54,
   "metadata": {},
   "outputs": [
    {
     "name": "stdout",
     "output_type": "stream",
     "text": [
      "CPU times: total: 46.9 ms\n",
      "Wall time: 36 ms\n"
     ]
    }
   ],
   "source": [
    "%%time\n",
    "\n",
    "# Масштабирование не кодированных данных\n",
    "# Создадим объект структуры и настроим его на обучающих данных\n",
    "scaler = StandardScaler()\n",
    "scaler.fit(features_train[numeric_num])\n",
    "\n",
    "features_train[numeric_num] = scaler.transform(features_train[numeric_num])\n",
    "features_valid[numeric_num] = scaler.transform(features_valid[numeric_num])\n",
    "features_test[numeric_num] = scaler.transform(features_test[numeric_num])"
   ]
  },
  {
   "cell_type": "code",
   "execution_count": 55,
   "metadata": {},
   "outputs": [
    {
     "data": {
      "text/html": [
       "<div>\n",
       "<style scoped>\n",
       "    .dataframe tbody tr th:only-of-type {\n",
       "        vertical-align: middle;\n",
       "    }\n",
       "\n",
       "    .dataframe tbody tr th {\n",
       "        vertical-align: top;\n",
       "    }\n",
       "\n",
       "    .dataframe thead th {\n",
       "        text-align: right;\n",
       "    }\n",
       "</style>\n",
       "<table border=\"1\" class=\"dataframe\">\n",
       "  <thead>\n",
       "    <tr style=\"text-align: right;\">\n",
       "      <th></th>\n",
       "      <th>vehicle_type</th>\n",
       "      <th>registration_year</th>\n",
       "      <th>gearbox</th>\n",
       "      <th>power</th>\n",
       "      <th>model</th>\n",
       "      <th>kilometer</th>\n",
       "      <th>registration_month</th>\n",
       "      <th>fuel_type</th>\n",
       "      <th>brand</th>\n",
       "      <th>repaired</th>\n",
       "    </tr>\n",
       "  </thead>\n",
       "  <tbody>\n",
       "    <tr>\n",
       "      <th>157261</th>\n",
       "      <td>wagon</td>\n",
       "      <td>-0.745827</td>\n",
       "      <td>auto</td>\n",
       "      <td>0.732769</td>\n",
       "      <td>unknown</td>\n",
       "      <td>0.591867</td>\n",
       "      <td>-0.000812</td>\n",
       "      <td>petrol</td>\n",
       "      <td>audi</td>\n",
       "      <td>unknown</td>\n",
       "    </tr>\n",
       "    <tr>\n",
       "      <th>353689</th>\n",
       "      <td>sedan</td>\n",
       "      <td>0.179022</td>\n",
       "      <td>manual</td>\n",
       "      <td>0.006082</td>\n",
       "      <td>carisma</td>\n",
       "      <td>-1.038292</td>\n",
       "      <td>1.674559</td>\n",
       "      <td>petrol</td>\n",
       "      <td>mitsubishi</td>\n",
       "      <td>no</td>\n",
       "    </tr>\n",
       "    <tr>\n",
       "      <th>303815</th>\n",
       "      <td>small</td>\n",
       "      <td>-1.054111</td>\n",
       "      <td>manual</td>\n",
       "      <td>-1.029834</td>\n",
       "      <td>ka</td>\n",
       "      <td>0.591867</td>\n",
       "      <td>1.395331</td>\n",
       "      <td>petrol</td>\n",
       "      <td>ford</td>\n",
       "      <td>yes</td>\n",
       "    </tr>\n",
       "    <tr>\n",
       "      <th>15110</th>\n",
       "      <td>wagon</td>\n",
       "      <td>0.795589</td>\n",
       "      <td>auto</td>\n",
       "      <td>0.284387</td>\n",
       "      <td>golf</td>\n",
       "      <td>-1.309985</td>\n",
       "      <td>0.836874</td>\n",
       "      <td>petrol</td>\n",
       "      <td>volkswagen</td>\n",
       "      <td>no</td>\n",
       "    </tr>\n",
       "    <tr>\n",
       "      <th>229365</th>\n",
       "      <td>small</td>\n",
       "      <td>-0.591686</td>\n",
       "      <td>manual</td>\n",
       "      <td>-0.952527</td>\n",
       "      <td>2_reihe</td>\n",
       "      <td>-0.087366</td>\n",
       "      <td>-0.559269</td>\n",
       "      <td>petrol</td>\n",
       "      <td>peugeot</td>\n",
       "      <td>no</td>\n",
       "    </tr>\n",
       "    <tr>\n",
       "      <th>...</th>\n",
       "      <td>...</td>\n",
       "      <td>...</td>\n",
       "      <td>...</td>\n",
       "      <td>...</td>\n",
       "      <td>...</td>\n",
       "      <td>...</td>\n",
       "      <td>...</td>\n",
       "      <td>...</td>\n",
       "      <td>...</td>\n",
       "      <td>...</td>\n",
       "    </tr>\n",
       "    <tr>\n",
       "      <th>151006</th>\n",
       "      <td>wagon</td>\n",
       "      <td>0.795589</td>\n",
       "      <td>manual</td>\n",
       "      <td>-0.194917</td>\n",
       "      <td>focus</td>\n",
       "      <td>0.591867</td>\n",
       "      <td>0.278417</td>\n",
       "      <td>petrol</td>\n",
       "      <td>ford</td>\n",
       "      <td>no</td>\n",
       "    </tr>\n",
       "    <tr>\n",
       "      <th>138133</th>\n",
       "      <td>convertible</td>\n",
       "      <td>-0.899969</td>\n",
       "      <td>manual</td>\n",
       "      <td>0.222542</td>\n",
       "      <td>slk</td>\n",
       "      <td>0.591867</td>\n",
       "      <td>0.278417</td>\n",
       "      <td>petrol</td>\n",
       "      <td>mercedes_benz</td>\n",
       "      <td>no</td>\n",
       "    </tr>\n",
       "    <tr>\n",
       "      <th>279317</th>\n",
       "      <td>sedan</td>\n",
       "      <td>1.103872</td>\n",
       "      <td>manual</td>\n",
       "      <td>-0.256763</td>\n",
       "      <td>golf</td>\n",
       "      <td>-0.766598</td>\n",
       "      <td>-0.559269</td>\n",
       "      <td>petrol</td>\n",
       "      <td>volkswagen</td>\n",
       "      <td>no</td>\n",
       "    </tr>\n",
       "    <tr>\n",
       "      <th>117198</th>\n",
       "      <td>small</td>\n",
       "      <td>-0.591686</td>\n",
       "      <td>manual</td>\n",
       "      <td>-0.720605</td>\n",
       "      <td>golf</td>\n",
       "      <td>-0.766598</td>\n",
       "      <td>1.395331</td>\n",
       "      <td>petrol</td>\n",
       "      <td>volkswagen</td>\n",
       "      <td>no</td>\n",
       "    </tr>\n",
       "    <tr>\n",
       "      <th>161999</th>\n",
       "      <td>sedan</td>\n",
       "      <td>-0.591686</td>\n",
       "      <td>manual</td>\n",
       "      <td>0.052466</td>\n",
       "      <td>octavia</td>\n",
       "      <td>0.591867</td>\n",
       "      <td>-1.117726</td>\n",
       "      <td>petrol</td>\n",
       "      <td>skoda</td>\n",
       "      <td>no</td>\n",
       "    </tr>\n",
       "  </tbody>\n",
       "</table>\n",
       "<p>176805 rows × 10 columns</p>\n",
       "</div>"
      ],
      "text/plain": [
       "       vehicle_type  registration_year gearbox     power    model  kilometer  \\\n",
       "157261        wagon          -0.745827    auto  0.732769  unknown   0.591867   \n",
       "353689        sedan           0.179022  manual  0.006082  carisma  -1.038292   \n",
       "303815        small          -1.054111  manual -1.029834       ka   0.591867   \n",
       "15110         wagon           0.795589    auto  0.284387     golf  -1.309985   \n",
       "229365        small          -0.591686  manual -0.952527  2_reihe  -0.087366   \n",
       "...             ...                ...     ...       ...      ...        ...   \n",
       "151006        wagon           0.795589  manual -0.194917    focus   0.591867   \n",
       "138133  convertible          -0.899969  manual  0.222542      slk   0.591867   \n",
       "279317        sedan           1.103872  manual -0.256763     golf  -0.766598   \n",
       "117198        small          -0.591686  manual -0.720605     golf  -0.766598   \n",
       "161999        sedan          -0.591686  manual  0.052466  octavia   0.591867   \n",
       "\n",
       "        registration_month fuel_type          brand repaired  \n",
       "157261           -0.000812    petrol           audi  unknown  \n",
       "353689            1.674559    petrol     mitsubishi       no  \n",
       "303815            1.395331    petrol           ford      yes  \n",
       "15110             0.836874    petrol     volkswagen       no  \n",
       "229365           -0.559269    petrol        peugeot       no  \n",
       "...                    ...       ...            ...      ...  \n",
       "151006            0.278417    petrol           ford       no  \n",
       "138133            0.278417    petrol  mercedes_benz       no  \n",
       "279317           -0.559269    petrol     volkswagen       no  \n",
       "117198            1.395331    petrol     volkswagen       no  \n",
       "161999           -1.117726    petrol          skoda       no  \n",
       "\n",
       "[176805 rows x 10 columns]"
      ]
     },
     "execution_count": 55,
     "metadata": {},
     "output_type": "execute_result"
    }
   ],
   "source": [
    "features_train"
   ]
  },
  {
   "cell_type": "code",
   "execution_count": 55,
   "metadata": {},
   "outputs": [
    {
     "name": "stdout",
     "output_type": "stream",
     "text": [
      "CPU times: total: 78.1 ms\n",
      "Wall time: 77.8 ms\n"
     ]
    }
   ],
   "source": [
    "%%time\n",
    "\n",
    "# Масштабирование кодированных данных\n",
    "# Создадим объект структуры и настроим его на обучающих данных\n",
    "scaler = StandardScaler()\n",
    "scaler.fit(features_train_enc[numeric_enc])\n",
    "\n",
    "features_train_enc[numeric_enc] = scaler.transform(features_train_enc[numeric_enc])\n",
    "features_valid_enc[numeric_enc] = scaler.transform(features_valid_enc[numeric_enc])\n",
    "features_test_enc[numeric_enc] = scaler.transform(features_test_enc[numeric_enc])"
   ]
  },
  {
   "cell_type": "code",
   "execution_count": 56,
   "metadata": {},
   "outputs": [
    {
     "data": {
      "text/html": [
       "<div>\n",
       "<style scoped>\n",
       "    .dataframe tbody tr th:only-of-type {\n",
       "        vertical-align: middle;\n",
       "    }\n",
       "\n",
       "    .dataframe tbody tr th {\n",
       "        vertical-align: top;\n",
       "    }\n",
       "\n",
       "    .dataframe thead th {\n",
       "        text-align: right;\n",
       "    }\n",
       "</style>\n",
       "<table border=\"1\" class=\"dataframe\">\n",
       "  <thead>\n",
       "    <tr style=\"text-align: right;\">\n",
       "      <th></th>\n",
       "      <th>vehicle_type</th>\n",
       "      <th>registration_year</th>\n",
       "      <th>gearbox</th>\n",
       "      <th>power</th>\n",
       "      <th>model</th>\n",
       "      <th>kilometer</th>\n",
       "      <th>registration_month</th>\n",
       "      <th>fuel_type</th>\n",
       "      <th>brand</th>\n",
       "      <th>repaired</th>\n",
       "    </tr>\n",
       "  </thead>\n",
       "  <tbody>\n",
       "    <tr>\n",
       "      <th>158902</th>\n",
       "      <td>0.194802</td>\n",
       "      <td>-0.283403</td>\n",
       "      <td>1.991342</td>\n",
       "      <td>1.088382</td>\n",
       "      <td>0.773416</td>\n",
       "      <td>0.591867</td>\n",
       "      <td>-0.280040</td>\n",
       "      <td>0.240438</td>\n",
       "      <td>1.148550</td>\n",
       "      <td>0.550942</td>\n",
       "    </tr>\n",
       "    <tr>\n",
       "      <th>145969</th>\n",
       "      <td>0.074767</td>\n",
       "      <td>-0.591686</td>\n",
       "      <td>-0.467951</td>\n",
       "      <td>-0.952527</td>\n",
       "      <td>-0.452838</td>\n",
       "      <td>-0.087366</td>\n",
       "      <td>-0.000812</td>\n",
       "      <td>0.240438</td>\n",
       "      <td>-2.416882</td>\n",
       "      <td>0.550942</td>\n",
       "    </tr>\n",
       "    <tr>\n",
       "      <th>72846</th>\n",
       "      <td>-1.273952</td>\n",
       "      <td>-0.283403</td>\n",
       "      <td>-0.467951</td>\n",
       "      <td>-0.952527</td>\n",
       "      <td>-1.182169</td>\n",
       "      <td>-1.581678</td>\n",
       "      <td>-0.559269</td>\n",
       "      <td>0.240438</td>\n",
       "      <td>-0.218493</td>\n",
       "      <td>0.550942</td>\n",
       "    </tr>\n",
       "    <tr>\n",
       "      <th>277526</th>\n",
       "      <td>0.194802</td>\n",
       "      <td>-0.899969</td>\n",
       "      <td>-0.467951</td>\n",
       "      <td>-0.720605</td>\n",
       "      <td>-0.837055</td>\n",
       "      <td>0.591867</td>\n",
       "      <td>1.395331</td>\n",
       "      <td>0.240438</td>\n",
       "      <td>-0.027363</td>\n",
       "      <td>0.550942</td>\n",
       "    </tr>\n",
       "    <tr>\n",
       "      <th>151097</th>\n",
       "      <td>0.581819</td>\n",
       "      <td>0.487306</td>\n",
       "      <td>-0.467951</td>\n",
       "      <td>-0.256763</td>\n",
       "      <td>0.732708</td>\n",
       "      <td>0.591867</td>\n",
       "      <td>-0.000812</td>\n",
       "      <td>0.240438</td>\n",
       "      <td>-0.383915</td>\n",
       "      <td>0.550942</td>\n",
       "    </tr>\n",
       "  </tbody>\n",
       "</table>\n",
       "</div>"
      ],
      "text/plain": [
       "        vehicle_type  registration_year   gearbox     power     model  \\\n",
       "158902      0.194802          -0.283403  1.991342  1.088382  0.773416   \n",
       "145969      0.074767          -0.591686 -0.467951 -0.952527 -0.452838   \n",
       "72846      -1.273952          -0.283403 -0.467951 -0.952527 -1.182169   \n",
       "277526      0.194802          -0.899969 -0.467951 -0.720605 -0.837055   \n",
       "151097      0.581819           0.487306 -0.467951 -0.256763  0.732708   \n",
       "\n",
       "        kilometer  registration_month  fuel_type     brand  repaired  \n",
       "158902   0.591867           -0.280040   0.240438  1.148550  0.550942  \n",
       "145969  -0.087366           -0.000812   0.240438 -2.416882  0.550942  \n",
       "72846   -1.581678           -0.559269   0.240438 -0.218493  0.550942  \n",
       "277526   0.591867            1.395331   0.240438 -0.027363  0.550942  \n",
       "151097   0.591867           -0.000812   0.240438 -0.383915  0.550942  "
      ]
     },
     "execution_count": 56,
     "metadata": {},
     "output_type": "execute_result"
    }
   ],
   "source": [
    "features_train_enc\n",
    "features_test_enc.head()"
   ]
  },
  {
   "cell_type": "markdown",
   "metadata": {},
   "source": [
    "### Вывод по итогу подготовки данных"
   ]
  },
  {
   "cell_type": "markdown",
   "metadata": {},
   "source": [
    "- приведены названия столбцов к змеиному регистру\n",
    "- в столбцах `VehicleType`, `Gearbox`, `Model`, `FuelType` и `Repaired` устранены пропуски;\n",
    "- проведена работа с явными и неявными дубликатами;\n",
    "- обработаны выбросы;\n",
    "\n",
    "Удалены неинформативные признаки: `number_of_pictures`, `date_created`, `postal_code`, `date_crawled`\n",
    "\n",
    "---\n",
    "\n",
    "Проведено:\n",
    "- разбиение на выборки\n",
    "- кодирование категориальных признаков\n",
    "- масштабирование данных"
   ]
  },
  {
   "cell_type": "markdown",
   "metadata": {},
   "source": [
    "`df_clear` - предобработанная база данных.\n",
    "\n",
    "`target_train`, `target_valid`, `target_test` - выборки с целевым признаком.\n",
    "\n",
    "`features_test`, `features_test`, `features_valid` - признаки. Данные для моделей, способных воспринимать текст.\n",
    " \n",
    "`features_train_enc`, `features_test_enc`, `features_valid_enc` - признаки. Кодированные и масштабированные данные."
   ]
  },
  {
   "cell_type": "markdown",
   "metadata": {},
   "source": [
    "## Обучение моделей"
   ]
  },
  {
   "cell_type": "markdown",
   "metadata": {},
   "source": [
    "*Переборы урезаны в целях экономии времени после подбора гиперпараметров*"
   ]
  },
  {
   "cell_type": "code",
   "execution_count": 57,
   "metadata": {},
   "outputs": [],
   "source": [
    "# Функция для подсчета RMSE\n",
    "def rmse(target, predicted):\n",
    "    return mse(target, predicted) ** 0.5"
   ]
  },
  {
   "cell_type": "markdown",
   "metadata": {},
   "source": [
    "Обучим разные модели, одна из которых — LightGBM, как минимум одна — не бустинг. Для каждой модели попробуем разные гиперпараметры.\n",
    "\n",
    "Воспользуемся следующими моделями:\n",
    "- Линейная регрессия;\n",
    "- Случайный лес;\n",
    "- CatBoost;\n",
    "- LightGBM;"
   ]
  },
  {
   "cell_type": "markdown",
   "metadata": {},
   "source": [
    "Создадим вспомогательный класс для фиксации результатов моделей"
   ]
  },
  {
   "cell_type": "code",
   "execution_count": 58,
   "metadata": {},
   "outputs": [],
   "source": [
    "import time\n",
    "\n",
    "class Helper:\n",
    "    def __init__(self, name, model): # инициализация модели\n",
    "        self.name = name\n",
    "        self.model = model\n",
    "        \n",
    "    def fit(self, feature, target): # обучение\n",
    "        start = time.time()\n",
    "        self.model.fit(feature, target)\n",
    "        end = time.time()\n",
    "        self.fit_time = end - start\n",
    "        \n",
    "    def predict(self, feature, target): # предсказание\n",
    "        start = time.time()\n",
    "        predicted = self.model.predict(feature)\n",
    "        end = time.time()\n",
    "        self.predicted_time = end - start\n",
    "        self.rmse = round(rmse(target, predicted), 2)\n",
    "        \n",
    "    def getResult(self): # фиксация результатов модели\n",
    "        return self.name, self.fit_time, self.predicted_time, self.rmse"
   ]
  },
  {
   "cell_type": "code",
   "execution_count": 59,
   "metadata": {},
   "outputs": [],
   "source": [
    "result = []"
   ]
  },
  {
   "cell_type": "markdown",
   "metadata": {},
   "source": [
    "### Линейная регрессия"
   ]
  },
  {
   "cell_type": "code",
   "execution_count": 60,
   "metadata": {},
   "outputs": [],
   "source": [
    "model_lr = LinearRegression()\n",
    "model_lr_helper = Helper('Linear regression', model_lr)\n",
    "model_lr_helper.fit(features_train_enc, target_train)\n",
    "model_lr_helper.predict(features_valid_enc, target_valid)"
   ]
  },
  {
   "cell_type": "code",
   "execution_count": 61,
   "metadata": {},
   "outputs": [],
   "source": [
    "result.append(model_lr_helper.getResult())"
   ]
  },
  {
   "cell_type": "markdown",
   "metadata": {},
   "source": [
    "### Случайный лес"
   ]
  },
  {
   "cell_type": "code",
   "execution_count": 62,
   "metadata": {
    "scrolled": true
   },
   "outputs": [],
   "source": [
    "# %%time\n",
    "\n",
    "# Перебор случайного леса\n",
    "# parameters = {'n_estimators': range(100,201,50),'max_depth': range(15,31,5),\n",
    "#               'min_samples_leaf': range(1,5,5), 'min_samples_split': range(5,9,3)}\n",
    "\n",
    "# model = RandomForestRegressor()\n",
    "# grid = GridSearchCV(model, parameters, cv=3, scoring='neg_mean_squared_error')\n",
    "# grid.fit(features_train_enc, target_train)\n",
    "\n",
    "# grid.best_params_\n",
    "\n",
    "\n",
    "# Получим следующие результаты:\n",
    "\n",
    "# {'max_depth': 20,\n",
    "#  'min_samples_leaf': 1,\n",
    "#  'min_samples_split': 8,\n",
    "#  'n_estimators': 200}"
   ]
  },
  {
   "cell_type": "code",
   "execution_count": 63,
   "metadata": {},
   "outputs": [],
   "source": [
    "DEPTH = 20\n",
    "SAMPLES_LEAF = 1\n",
    "SAMPLES_SPLIT = 8\n",
    "N_ESTINATORS = 200\n",
    "\n",
    "# Для оценки времени с другими данными\n",
    "DEPTH_FAST = 7\n",
    "SAMPLES_LEAF_FAST = 3\n",
    "SAMPLES_SPLIT_FAST = 2\n",
    "N_ESTINATORS_FAST = 10"
   ]
  },
  {
   "cell_type": "code",
   "execution_count": 64,
   "metadata": {
    "scrolled": true
   },
   "outputs": [
    {
     "name": "stdout",
     "output_type": "stream",
     "text": [
      "CPU times: total: 2.12 s\n",
      "Wall time: 1.7 s\n"
     ]
    }
   ],
   "source": [
    "%%time\n",
    "\n",
    "model_rfr_fast = RandomForestRegressor(max_depth=DEPTH_FAST, min_samples_leaf=SAMPLES_LEAF_FAST,\n",
    "                                  min_samples_split=SAMPLES_SPLIT_FAST, n_estimators=N_ESTINATORS_FAST,\n",
    "                                  random_state=RANDOM_STATE)\n",
    "model_rfr_helper_fast = Helper('Random Forest Fast', model_rfr_fast)\n",
    "model_rfr_helper_fast.fit(features_train_enc, target_train)\n",
    "model_rfr_helper_fast.predict(features_valid_enc, target_valid)"
   ]
  },
  {
   "cell_type": "code",
   "execution_count": 65,
   "metadata": {},
   "outputs": [],
   "source": [
    "result.append(model_rfr_helper_fast.getResult())"
   ]
  },
  {
   "cell_type": "code",
   "execution_count": 66,
   "metadata": {},
   "outputs": [
    {
     "name": "stdout",
     "output_type": "stream",
     "text": [
      "CPU times: total: 1min 22s\n",
      "Wall time: 1min 22s\n"
     ]
    }
   ],
   "source": [
    "%%time\n",
    "\n",
    "model_rfr = RandomForestRegressor(max_depth=DEPTH, min_samples_leaf=SAMPLES_LEAF,\n",
    "                                  min_samples_split=SAMPLES_SPLIT, n_estimators=N_ESTINATORS,\n",
    "                                  random_state=RANDOM_STATE)\n",
    "model_rfr_helper = Helper('Random Forest', model_rfr)\n",
    "model_rfr_helper.fit(features_train_enc, target_train)\n",
    "model_rfr_helper.predict(features_valid_enc, target_valid)"
   ]
  },
  {
   "cell_type": "code",
   "execution_count": 67,
   "metadata": {},
   "outputs": [],
   "source": [
    "result.append(model_rfr_helper.getResult())"
   ]
  },
  {
   "cell_type": "markdown",
   "metadata": {},
   "source": [
    "### CatBoost"
   ]
  },
  {
   "cell_type": "code",
   "execution_count": 68,
   "metadata": {
    "scrolled": true
   },
   "outputs": [
    {
     "name": "stdout",
     "output_type": "stream",
     "text": [
      "CPU times: total: 4min 2s\n",
      "Wall time: 57.3 s\n"
     ]
    },
    {
     "data": {
      "text/plain": [
       "{'depth': 11, 'iterations': 180}"
      ]
     },
     "execution_count": 68,
     "metadata": {},
     "output_type": "execute_result"
    }
   ],
   "source": [
    "%%time\n",
    "\n",
    "cbr = CatBoostRegressor(loss_function='RMSE', silent=True, cat_features=numeric_cat,\n",
    "                        learning_rate=0.4, random_seed=RANDOM_STATE)\n",
    "cbr_params = {'iterations': range(180, 181, 20),'depth': range(11,14,3)}\n",
    "\n",
    "grid_cbr = GridSearchCV(cbr, cbr_params, cv=3, scoring='neg_mean_squared_error')\n",
    "grid_cbr.fit(features_train, target_train);\n",
    "\n",
    "grid_cbr.best_params_\n",
    "\n",
    "# {'depth': 11, 'iterations': 180}"
   ]
  },
  {
   "cell_type": "code",
   "execution_count": 69,
   "metadata": {},
   "outputs": [],
   "source": [
    "model_cbr = grid_cbr.best_estimator_\n",
    "model_cbr_helper = Helper('CatBoost', model_cbr)\n",
    "model_cbr_helper.fit(features_train, target_train)"
   ]
  },
  {
   "cell_type": "code",
   "execution_count": 70,
   "metadata": {},
   "outputs": [],
   "source": [
    "model_cbr_helper.predict(features_valid, target_valid)\n",
    "result.append(model_cbr_helper.getResult())"
   ]
  },
  {
   "cell_type": "markdown",
   "metadata": {},
   "source": [
    "### LightGBM"
   ]
  },
  {
   "cell_type": "code",
   "execution_count": 71,
   "metadata": {},
   "outputs": [
    {
     "name": "stdout",
     "output_type": "stream",
     "text": [
      "CPU times: total: 46.8 s\n",
      "Wall time: 11.9 s\n"
     ]
    },
    {
     "data": {
      "text/plain": [
       "{'n_estimators': 180, 'num_leaves': 80}"
      ]
     },
     "execution_count": 71,
     "metadata": {},
     "output_type": "execute_result"
    }
   ],
   "source": [
    "%%time\n",
    "\n",
    "gbm = LGBMRegressor(boosting_type='gbdt', verbose=0, learning_rate=0.4, seed=RANDOM_STATE, force_row_wise='true')\n",
    "gbm_params = {'n_estimators': range(180, 181, 20), 'num_leaves': range(60,105,10)}\n",
    "\n",
    "grid_gbm = GridSearchCV(gbm, gbm_params, cv=3, scoring='neg_mean_squared_error')\n",
    "grid_gbm.fit(features_train_enc, target_train);\n",
    "\n",
    "grid_gbm.best_params_\n",
    "\n",
    "# {'n_estimators': 180, 'num_leaves': 80}"
   ]
  },
  {
   "cell_type": "code",
   "execution_count": 72,
   "metadata": {},
   "outputs": [],
   "source": [
    "model_gbm = grid_gbm.best_estimator_\n",
    "model_gbm_helper = Helper('LightGBM', model_gbm)\n",
    "model_gbm_helper.fit(features_train_enc, target_train)"
   ]
  },
  {
   "cell_type": "code",
   "execution_count": 73,
   "metadata": {},
   "outputs": [],
   "source": [
    "model_gbm_helper.predict(features_valid_enc, target_valid)\n",
    "result.append(model_gbm_helper.getResult())"
   ]
  },
  {
   "cell_type": "markdown",
   "metadata": {},
   "source": [
    "### Вывод по итогу обучения моделей"
   ]
  },
  {
   "cell_type": "markdown",
   "metadata": {},
   "source": [
    "- Модель Линейной регрессии хоть и быстрая, но слишком большая погрешность.\n",
    "\n",
    "- Модель случайного леса удобна ввиду быстрого перебора гиперпараметров\n",
    "\n",
    "- Модели CatBoost и LightGBM имеют схожее время обучения при переборе гиперпараметров. Однако, LightGBM немного быстрее."
   ]
  },
  {
   "cell_type": "markdown",
   "metadata": {},
   "source": [
    "## Анализ моделей"
   ]
  },
  {
   "cell_type": "code",
   "execution_count": 74,
   "metadata": {},
   "outputs": [
    {
     "data": {
      "text/html": [
       "<div>\n",
       "<style scoped>\n",
       "    .dataframe tbody tr th:only-of-type {\n",
       "        vertical-align: middle;\n",
       "    }\n",
       "\n",
       "    .dataframe tbody tr th {\n",
       "        vertical-align: top;\n",
       "    }\n",
       "\n",
       "    .dataframe thead th {\n",
       "        text-align: right;\n",
       "    }\n",
       "</style>\n",
       "<table border=\"1\" class=\"dataframe\">\n",
       "  <thead>\n",
       "    <tr style=\"text-align: right;\">\n",
       "      <th></th>\n",
       "      <th>Модель</th>\n",
       "      <th>Время обучения</th>\n",
       "      <th>Время предсказания</th>\n",
       "      <th>RMSE</th>\n",
       "    </tr>\n",
       "  </thead>\n",
       "  <tbody>\n",
       "    <tr>\n",
       "      <th>0</th>\n",
       "      <td>Linear regression</td>\n",
       "      <td>0.054477</td>\n",
       "      <td>0.000000</td>\n",
       "      <td>2902.03</td>\n",
       "    </tr>\n",
       "    <tr>\n",
       "      <th>1</th>\n",
       "      <td>Random Forest Fast</td>\n",
       "      <td>1.670619</td>\n",
       "      <td>0.031246</td>\n",
       "      <td>2081.59</td>\n",
       "    </tr>\n",
       "    <tr>\n",
       "      <th>2</th>\n",
       "      <td>Random Forest</td>\n",
       "      <td>80.649517</td>\n",
       "      <td>2.147899</td>\n",
       "      <td>1561.28</td>\n",
       "    </tr>\n",
       "    <tr>\n",
       "      <th>3</th>\n",
       "      <td>CatBoost</td>\n",
       "      <td>15.649012</td>\n",
       "      <td>0.148718</td>\n",
       "      <td>1579.96</td>\n",
       "    </tr>\n",
       "    <tr>\n",
       "      <th>4</th>\n",
       "      <td>LightGBM</td>\n",
       "      <td>0.763342</td>\n",
       "      <td>0.148904</td>\n",
       "      <td>1564.80</td>\n",
       "    </tr>\n",
       "  </tbody>\n",
       "</table>\n",
       "</div>"
      ],
      "text/plain": [
       "               Модель  Время обучения  Время предсказания     RMSE\n",
       "0   Linear regression        0.054477            0.000000  2902.03\n",
       "1  Random Forest Fast        1.670619            0.031246  2081.59\n",
       "2       Random Forest       80.649517            2.147899  1561.28\n",
       "3            CatBoost       15.649012            0.148718  1579.96\n",
       "4            LightGBM        0.763342            0.148904  1564.80"
      ]
     },
     "execution_count": 74,
     "metadata": {},
     "output_type": "execute_result"
    }
   ],
   "source": [
    "pd.DataFrame(result, columns=['Модель', 'Время обучения', 'Время предсказания', 'RMSE'])"
   ]
  },
  {
   "cell_type": "markdown",
   "metadata": {},
   "source": [
    "Исходя из требований заказчика:\n",
    "- качество предсказания;\n",
    "- время обучения модели;\n",
    "- время предсказания модели;\n",
    "\n",
    "рекомендуется отдать предпочтение модели LightGBM или модели CatBoost\n",
    "\n",
    "Модель Random Forest также показала хорошее качество предсказания, однако, она может пригодиться только в случае неограниченного запаса времени :)"
   ]
  },
  {
   "cell_type": "markdown",
   "metadata": {},
   "source": [
    "### Тестирование модели"
   ]
  },
  {
   "cell_type": "code",
   "execution_count": 75,
   "metadata": {},
   "outputs": [
    {
     "data": {
      "text/html": [
       "<div>\n",
       "<style scoped>\n",
       "    .dataframe tbody tr th:only-of-type {\n",
       "        vertical-align: middle;\n",
       "    }\n",
       "\n",
       "    .dataframe tbody tr th {\n",
       "        vertical-align: top;\n",
       "    }\n",
       "\n",
       "    .dataframe thead th {\n",
       "        text-align: right;\n",
       "    }\n",
       "</style>\n",
       "<table border=\"1\" class=\"dataframe\">\n",
       "  <thead>\n",
       "    <tr style=\"text-align: right;\">\n",
       "      <th></th>\n",
       "      <th>Модель</th>\n",
       "      <th>Время обучения</th>\n",
       "      <th>Время предсказания</th>\n",
       "      <th>RMSE</th>\n",
       "    </tr>\n",
       "  </thead>\n",
       "  <tbody>\n",
       "    <tr>\n",
       "      <th>0</th>\n",
       "      <td>LightGBM</td>\n",
       "      <td>0.763342</td>\n",
       "      <td>0.155601</td>\n",
       "      <td>1559.83</td>\n",
       "    </tr>\n",
       "  </tbody>\n",
       "</table>\n",
       "</div>"
      ],
      "text/plain": [
       "     Модель  Время обучения  Время предсказания     RMSE\n",
       "0  LightGBM        0.763342            0.155601  1559.83"
      ]
     },
     "execution_count": 75,
     "metadata": {},
     "output_type": "execute_result"
    }
   ],
   "source": [
    "test_result = []\n",
    "\n",
    "model_gbm_helper.predict(features_test_enc, target_test)\n",
    "test_result.append(model_gbm_helper.getResult())\n",
    "\n",
    "pd.DataFrame(test_result, columns=['Модель', 'Время обучения', 'Время предсказания', 'RMSE'])"
   ]
  },
  {
   "cell_type": "markdown",
   "metadata": {},
   "source": [
    "### Проверка модели на адекватность"
   ]
  },
  {
   "cell_type": "code",
   "execution_count": 76,
   "metadata": {},
   "outputs": [
    {
     "data": {
      "text/html": [
       "<style>#sk-container-id-2 {color: black;background-color: white;}#sk-container-id-2 pre{padding: 0;}#sk-container-id-2 div.sk-toggleable {background-color: white;}#sk-container-id-2 label.sk-toggleable__label {cursor: pointer;display: block;width: 100%;margin-bottom: 0;padding: 0.3em;box-sizing: border-box;text-align: center;}#sk-container-id-2 label.sk-toggleable__label-arrow:before {content: \"▸\";float: left;margin-right: 0.25em;color: #696969;}#sk-container-id-2 label.sk-toggleable__label-arrow:hover:before {color: black;}#sk-container-id-2 div.sk-estimator:hover label.sk-toggleable__label-arrow:before {color: black;}#sk-container-id-2 div.sk-toggleable__content {max-height: 0;max-width: 0;overflow: hidden;text-align: left;background-color: #f0f8ff;}#sk-container-id-2 div.sk-toggleable__content pre {margin: 0.2em;color: black;border-radius: 0.25em;background-color: #f0f8ff;}#sk-container-id-2 input.sk-toggleable__control:checked~div.sk-toggleable__content {max-height: 200px;max-width: 100%;overflow: auto;}#sk-container-id-2 input.sk-toggleable__control:checked~label.sk-toggleable__label-arrow:before {content: \"▾\";}#sk-container-id-2 div.sk-estimator input.sk-toggleable__control:checked~label.sk-toggleable__label {background-color: #d4ebff;}#sk-container-id-2 div.sk-label input.sk-toggleable__control:checked~label.sk-toggleable__label {background-color: #d4ebff;}#sk-container-id-2 input.sk-hidden--visually {border: 0;clip: rect(1px 1px 1px 1px);clip: rect(1px, 1px, 1px, 1px);height: 1px;margin: -1px;overflow: hidden;padding: 0;position: absolute;width: 1px;}#sk-container-id-2 div.sk-estimator {font-family: monospace;background-color: #f0f8ff;border: 1px dotted black;border-radius: 0.25em;box-sizing: border-box;margin-bottom: 0.5em;}#sk-container-id-2 div.sk-estimator:hover {background-color: #d4ebff;}#sk-container-id-2 div.sk-parallel-item::after {content: \"\";width: 100%;border-bottom: 1px solid gray;flex-grow: 1;}#sk-container-id-2 div.sk-label:hover label.sk-toggleable__label {background-color: #d4ebff;}#sk-container-id-2 div.sk-serial::before {content: \"\";position: absolute;border-left: 1px solid gray;box-sizing: border-box;top: 0;bottom: 0;left: 50%;z-index: 0;}#sk-container-id-2 div.sk-serial {display: flex;flex-direction: column;align-items: center;background-color: white;padding-right: 0.2em;padding-left: 0.2em;position: relative;}#sk-container-id-2 div.sk-item {position: relative;z-index: 1;}#sk-container-id-2 div.sk-parallel {display: flex;align-items: stretch;justify-content: center;background-color: white;position: relative;}#sk-container-id-2 div.sk-item::before, #sk-container-id-2 div.sk-parallel-item::before {content: \"\";position: absolute;border-left: 1px solid gray;box-sizing: border-box;top: 0;bottom: 0;left: 50%;z-index: -1;}#sk-container-id-2 div.sk-parallel-item {display: flex;flex-direction: column;z-index: 1;position: relative;background-color: white;}#sk-container-id-2 div.sk-parallel-item:first-child::after {align-self: flex-end;width: 50%;}#sk-container-id-2 div.sk-parallel-item:last-child::after {align-self: flex-start;width: 50%;}#sk-container-id-2 div.sk-parallel-item:only-child::after {width: 0;}#sk-container-id-2 div.sk-dashed-wrapped {border: 1px dashed gray;margin: 0 0.4em 0.5em 0.4em;box-sizing: border-box;padding-bottom: 0.4em;background-color: white;}#sk-container-id-2 div.sk-label label {font-family: monospace;font-weight: bold;display: inline-block;line-height: 1.2em;}#sk-container-id-2 div.sk-label-container {text-align: center;}#sk-container-id-2 div.sk-container {/* jupyter's `normalize.less` sets `[hidden] { display: none; }` but bootstrap.min.css set `[hidden] { display: none !important; }` so we also need the `!important` here to be able to override the default hidden behavior on the sphinx rendered scikit-learn.org. See: https://github.com/scikit-learn/scikit-learn/issues/21755 */display: inline-block !important;position: relative;}#sk-container-id-2 div.sk-text-repr-fallback {display: none;}</style><div id=\"sk-container-id-2\" class=\"sk-top-container\"><div class=\"sk-text-repr-fallback\"><pre>DummyRegressor()</pre><b>In a Jupyter environment, please rerun this cell to show the HTML representation or trust the notebook. <br />On GitHub, the HTML representation is unable to render, please try loading this page with nbviewer.org.</b></div><div class=\"sk-container\" hidden><div class=\"sk-item\"><div class=\"sk-estimator sk-toggleable\"><input class=\"sk-toggleable__control sk-hidden--visually\" id=\"sk-estimator-id-2\" type=\"checkbox\" checked><label for=\"sk-estimator-id-2\" class=\"sk-toggleable__label sk-toggleable__label-arrow\">DummyRegressor</label><div class=\"sk-toggleable__content\"><pre>DummyRegressor()</pre></div></div></div></div></div>"
      ],
      "text/plain": [
       "DummyRegressor()"
      ]
     },
     "execution_count": 76,
     "metadata": {},
     "output_type": "execute_result"
    }
   ],
   "source": [
    "dummy_regr = DummyRegressor(strategy=\"mean\")\n",
    "dummy_regr.fit(features_train, target_train)"
   ]
  },
  {
   "cell_type": "code",
   "execution_count": 77,
   "metadata": {},
   "outputs": [],
   "source": [
    "mean_predictions = dummy_regr.predict(features_test)\n",
    "mean_rmse = rmse(target_test, mean_predictions)"
   ]
  },
  {
   "cell_type": "code",
   "execution_count": 78,
   "metadata": {},
   "outputs": [
    {
     "name": "stdout",
     "output_type": "stream",
     "text": [
      "RMSE модели на выборке средних значений составляет: 4619.2894601265325\n"
     ]
    }
   ],
   "source": [
    "print('RMSE модели на выборке средних значений составляет:', mean_rmse)"
   ]
  },
  {
   "cell_type": "markdown",
   "metadata": {},
   "source": [
    "**В данном проекте я бы отдал предпочтение модели LightGBM ввиду лучшей скорости обучения и предсказания при относительно небольших погрешностях, в сравнении с другими моделями.**"
   ]
  },
  {
   "cell_type": "markdown",
   "metadata": {},
   "source": [
    "## Чек-лист проверки"
   ]
  },
  {
   "cell_type": "markdown",
   "metadata": {},
   "source": [
    "Поставьте 'x' в выполненных пунктах. Далее нажмите Shift+Enter."
   ]
  },
  {
   "cell_type": "markdown",
   "metadata": {},
   "source": [
    "- [x]  Jupyter Notebook открыт\n",
    "- [ ]  Весь код выполняется без ошибок\n",
    "- [ ]  Ячейки с кодом расположены в порядке исполнения\n",
    "- [ ]  Выполнена загрузка и подготовка данных\n",
    "- [ ]  Выполнено обучение моделей\n",
    "- [ ]  Есть анализ скорости работы и качества моделей"
   ]
  },
  {
   "cell_type": "code",
   "execution_count": null,
   "metadata": {},
   "outputs": [],
   "source": []
  }
 ],
 "metadata": {
  "ExecuteTimeLog": [
   {
    "duration": 412,
    "start_time": "2023-09-05T08:09:44.242Z"
   },
   {
    "duration": 16050,
    "start_time": "2023-09-05T08:09:48.291Z"
   },
   {
    "duration": 2232,
    "start_time": "2023-09-05T08:10:34.354Z"
   },
   {
    "duration": 1669,
    "start_time": "2023-09-05T08:10:36.589Z"
   },
   {
    "duration": 385,
    "start_time": "2023-09-05T08:10:48.955Z"
   },
   {
    "duration": 2875,
    "start_time": "2023-09-05T08:11:14.250Z"
   },
   {
    "duration": 29943,
    "start_time": "2023-09-05T08:11:33.878Z"
   },
   {
    "duration": 15,
    "start_time": "2023-09-05T08:12:26.174Z"
   },
   {
    "duration": 16,
    "start_time": "2023-09-05T08:13:40.151Z"
   },
   {
    "duration": 109,
    "start_time": "2023-09-05T08:13:43.625Z"
   },
   {
    "duration": 28935,
    "start_time": "2023-09-05T08:14:26.976Z"
   },
   {
    "duration": 2,
    "start_time": "2023-09-05T08:35:47.725Z"
   },
   {
    "duration": 164,
    "start_time": "2023-09-05T09:03:34.418Z"
   },
   {
    "duration": 2,
    "start_time": "2023-09-05T09:04:07.706Z"
   },
   {
    "duration": 516,
    "start_time": "2023-09-05T09:05:31.603Z"
   },
   {
    "duration": 503,
    "start_time": "2023-09-05T09:05:35.683Z"
   },
   {
    "duration": 158,
    "start_time": "2023-09-05T09:05:52.277Z"
   },
   {
    "duration": 160,
    "start_time": "2023-09-05T09:05:54.936Z"
   },
   {
    "duration": 178,
    "start_time": "2023-09-05T09:12:53.631Z"
   },
   {
    "duration": 11497,
    "start_time": "2023-09-05T09:12:56.777Z"
   },
   {
    "duration": 14,
    "start_time": "2023-09-05T09:13:59.357Z"
   },
   {
    "duration": 73,
    "start_time": "2023-09-05T09:14:01.653Z"
   },
   {
    "duration": 46,
    "start_time": "2023-09-05T09:14:01.834Z"
   },
   {
    "duration": 1507,
    "start_time": "2023-09-05T09:22:27.927Z"
   },
   {
    "duration": 940,
    "start_time": "2023-09-05T09:23:28.378Z"
   },
   {
    "duration": 838,
    "start_time": "2023-09-05T09:23:36.596Z"
   },
   {
    "duration": 9,
    "start_time": "2023-09-05T09:25:59.355Z"
   },
   {
    "duration": 9,
    "start_time": "2023-09-05T09:26:14.852Z"
   },
   {
    "duration": 11,
    "start_time": "2023-09-05T09:26:34.088Z"
   },
   {
    "duration": 3,
    "start_time": "2023-09-05T09:28:04.400Z"
   },
   {
    "duration": 5,
    "start_time": "2023-09-05T09:28:17.131Z"
   },
   {
    "duration": 3,
    "start_time": "2023-09-05T09:28:26.742Z"
   },
   {
    "duration": 5,
    "start_time": "2023-09-05T09:28:26.954Z"
   },
   {
    "duration": 3,
    "start_time": "2023-09-05T09:28:53.543Z"
   },
   {
    "duration": 6,
    "start_time": "2023-09-05T09:28:53.767Z"
   },
   {
    "duration": 3,
    "start_time": "2023-09-05T09:29:26.646Z"
   },
   {
    "duration": 6,
    "start_time": "2023-09-05T09:29:36.382Z"
   },
   {
    "duration": 3,
    "start_time": "2023-09-05T09:30:05.407Z"
   },
   {
    "duration": 7,
    "start_time": "2023-09-05T09:30:05.543Z"
   },
   {
    "duration": 7,
    "start_time": "2023-09-05T09:30:43.236Z"
   },
   {
    "duration": 6,
    "start_time": "2023-09-05T09:31:28.714Z"
   },
   {
    "duration": 142,
    "start_time": "2023-09-05T09:32:14.627Z"
   },
   {
    "duration": 137,
    "start_time": "2023-09-05T09:32:34.143Z"
   },
   {
    "duration": 138,
    "start_time": "2023-09-05T09:33:18.271Z"
   },
   {
    "duration": 144,
    "start_time": "2023-09-05T09:33:21.365Z"
   },
   {
    "duration": 5,
    "start_time": "2023-09-05T09:41:35.765Z"
   },
   {
    "duration": 4,
    "start_time": "2023-09-05T09:42:08.510Z"
   },
   {
    "duration": 6,
    "start_time": "2023-09-05T09:42:08.940Z"
   },
   {
    "duration": 14,
    "start_time": "2023-09-05T09:44:18.260Z"
   },
   {
    "duration": 39,
    "start_time": "2023-09-05T09:44:27.462Z"
   },
   {
    "duration": 15,
    "start_time": "2023-09-05T09:45:51.763Z"
   },
   {
    "duration": 22,
    "start_time": "2023-09-05T09:46:06.046Z"
   },
   {
    "duration": 3,
    "start_time": "2023-09-05T09:47:53.752Z"
   },
   {
    "duration": 24,
    "start_time": "2023-09-05T09:47:53.919Z"
   },
   {
    "duration": 3,
    "start_time": "2023-09-05T09:47:57.816Z"
   },
   {
    "duration": 2175,
    "start_time": "2023-09-05T09:47:57.967Z"
   },
   {
    "duration": 3,
    "start_time": "2023-09-05T09:48:07.521Z"
   },
   {
    "duration": 1850,
    "start_time": "2023-09-05T09:48:07.671Z"
   },
   {
    "duration": 2083,
    "start_time": "2023-09-05T09:48:37.572Z"
   },
   {
    "duration": 1234,
    "start_time": "2023-09-05T09:48:52.598Z"
   },
   {
    "duration": 3,
    "start_time": "2023-09-05T09:48:53.834Z"
   },
   {
    "duration": 13,
    "start_time": "2023-09-05T09:48:53.839Z"
   },
   {
    "duration": 363,
    "start_time": "2023-09-05T09:48:53.854Z"
   },
   {
    "duration": 941,
    "start_time": "2023-09-05T09:48:54.219Z"
   },
   {
    "duration": 5,
    "start_time": "2023-09-05T09:48:55.162Z"
   },
   {
    "duration": 26,
    "start_time": "2023-09-05T09:48:55.169Z"
   },
   {
    "duration": 818,
    "start_time": "2023-09-05T09:48:55.196Z"
   },
   {
    "duration": 4,
    "start_time": "2023-09-05T09:48:56.016Z"
   },
   {
    "duration": 24,
    "start_time": "2023-09-05T09:48:56.022Z"
   },
   {
    "duration": 7,
    "start_time": "2023-09-05T09:48:56.048Z"
   },
   {
    "duration": 24,
    "start_time": "2023-09-05T09:48:56.056Z"
   },
   {
    "duration": 250,
    "start_time": "2023-09-05T09:48:56.081Z"
   },
   {
    "duration": 539,
    "start_time": "2023-09-05T09:48:56.333Z"
   },
   {
    "duration": 4,
    "start_time": "2023-09-05T09:48:56.874Z"
   },
   {
    "duration": 31,
    "start_time": "2023-09-05T09:48:56.880Z"
   },
   {
    "duration": 35,
    "start_time": "2023-09-05T09:51:43.329Z"
   },
   {
    "duration": 2,
    "start_time": "2023-09-05T09:54:08.603Z"
   },
   {
    "duration": 127,
    "start_time": "2023-09-05T09:54:08.769Z"
   },
   {
    "duration": 119,
    "start_time": "2023-09-05T09:54:15.038Z"
   },
   {
    "duration": 122,
    "start_time": "2023-09-05T09:54:31.408Z"
   },
   {
    "duration": 136,
    "start_time": "2023-09-05T09:55:10.794Z"
   },
   {
    "duration": 30,
    "start_time": "2023-09-05T09:55:21.627Z"
   },
   {
    "duration": 29,
    "start_time": "2023-09-05T09:55:26.425Z"
   },
   {
    "duration": 40,
    "start_time": "2023-09-05T09:56:28.884Z"
   },
   {
    "duration": 117,
    "start_time": "2023-09-05T09:56:40.125Z"
   },
   {
    "duration": 46,
    "start_time": "2023-09-05T10:01:15.369Z"
   },
   {
    "duration": 164,
    "start_time": "2023-09-05T10:01:25.533Z"
   },
   {
    "duration": 31,
    "start_time": "2023-09-05T10:01:39.654Z"
   },
   {
    "duration": 121,
    "start_time": "2023-09-05T10:01:43.520Z"
   },
   {
    "duration": 139,
    "start_time": "2023-09-05T10:05:26.454Z"
   },
   {
    "duration": 96,
    "start_time": "2023-09-05T10:06:24.508Z"
   },
   {
    "duration": 105,
    "start_time": "2023-09-05T10:06:25.086Z"
   },
   {
    "duration": 108,
    "start_time": "2023-09-05T10:06:25.522Z"
   },
   {
    "duration": 98,
    "start_time": "2023-09-05T10:06:25.910Z"
   },
   {
    "duration": 22,
    "start_time": "2023-09-05T10:08:41.214Z"
   },
   {
    "duration": 5,
    "start_time": "2023-09-05T10:09:44.506Z"
   },
   {
    "duration": 6,
    "start_time": "2023-09-05T10:09:44.684Z"
   },
   {
    "duration": 6,
    "start_time": "2023-09-05T10:09:44.867Z"
   },
   {
    "duration": 13,
    "start_time": "2023-09-05T10:11:50.385Z"
   },
   {
    "duration": 151,
    "start_time": "2023-09-05T10:14:22.969Z"
   },
   {
    "duration": 1693,
    "start_time": "2023-09-07T16:23:42.455Z"
   },
   {
    "duration": 2,
    "start_time": "2023-09-07T16:23:44.151Z"
   },
   {
    "duration": 10,
    "start_time": "2023-09-07T16:23:44.155Z"
   },
   {
    "duration": 475,
    "start_time": "2023-09-07T16:23:44.167Z"
   },
   {
    "duration": 1713,
    "start_time": "2023-09-07T16:23:44.647Z"
   },
   {
    "duration": 3,
    "start_time": "2023-09-07T16:23:46.362Z"
   },
   {
    "duration": 29,
    "start_time": "2023-09-07T16:23:46.366Z"
   },
   {
    "duration": 1106,
    "start_time": "2023-09-07T16:23:47.057Z"
   },
   {
    "duration": 253,
    "start_time": "2023-09-07T16:27:15.514Z"
   },
   {
    "duration": 1934,
    "start_time": "2023-09-07T16:35:26.648Z"
   },
   {
    "duration": 20,
    "start_time": "2023-09-07T16:35:45.910Z"
   },
   {
    "duration": 7,
    "start_time": "2023-09-07T16:35:52.726Z"
   },
   {
    "duration": 4,
    "start_time": "2023-09-07T16:35:52.892Z"
   },
   {
    "duration": 4,
    "start_time": "2023-09-07T16:35:53.498Z"
   },
   {
    "duration": 167,
    "start_time": "2023-09-07T16:35:57.128Z"
   },
   {
    "duration": 23,
    "start_time": "2023-09-07T16:35:59.044Z"
   },
   {
    "duration": 14,
    "start_time": "2023-09-07T16:36:08.531Z"
   },
   {
    "duration": 19,
    "start_time": "2023-09-07T16:37:05.771Z"
   },
   {
    "duration": 222,
    "start_time": "2023-09-07T16:37:29.255Z"
   },
   {
    "duration": 11,
    "start_time": "2023-09-07T16:40:27.081Z"
   },
   {
    "duration": 1838,
    "start_time": "2023-09-07T16:40:46.946Z"
   },
   {
    "duration": 110,
    "start_time": "2023-09-07T16:41:11.897Z"
   },
   {
    "duration": 175,
    "start_time": "2023-09-07T16:41:16.607Z"
   },
   {
    "duration": 505,
    "start_time": "2023-09-07T16:42:41.639Z"
   },
   {
    "duration": 647,
    "start_time": "2023-09-07T16:43:02.062Z"
   },
   {
    "duration": 4,
    "start_time": "2023-09-07T16:44:34.960Z"
   },
   {
    "duration": 12,
    "start_time": "2023-09-07T16:44:57.316Z"
   },
   {
    "duration": 27,
    "start_time": "2023-09-07T16:45:08.180Z"
   },
   {
    "duration": 34,
    "start_time": "2023-09-07T16:45:24.690Z"
   },
   {
    "duration": 41,
    "start_time": "2023-09-07T16:45:37.441Z"
   },
   {
    "duration": 27,
    "start_time": "2023-09-07T16:45:53.359Z"
   },
   {
    "duration": 27,
    "start_time": "2023-09-07T16:45:58.980Z"
   },
   {
    "duration": 41,
    "start_time": "2023-09-07T16:46:05.367Z"
   },
   {
    "duration": 13,
    "start_time": "2023-09-07T16:46:33.630Z"
   },
   {
    "duration": 135,
    "start_time": "2023-09-07T16:46:58.956Z"
   },
   {
    "duration": 132,
    "start_time": "2023-09-07T16:48:11.404Z"
   },
   {
    "duration": 149,
    "start_time": "2023-09-07T16:48:24.748Z"
   },
   {
    "duration": 125,
    "start_time": "2023-09-07T16:48:29.604Z"
   },
   {
    "duration": 7,
    "start_time": "2023-09-07T16:48:54.393Z"
   },
   {
    "duration": 9,
    "start_time": "2023-09-07T16:49:01.391Z"
   },
   {
    "duration": 27,
    "start_time": "2023-09-07T16:49:16.246Z"
   },
   {
    "duration": 27,
    "start_time": "2023-09-07T16:49:32.877Z"
   },
   {
    "duration": 34,
    "start_time": "2023-09-07T16:51:10.467Z"
   },
   {
    "duration": 15,
    "start_time": "2023-09-07T16:51:28.008Z"
   },
   {
    "duration": 18,
    "start_time": "2023-09-07T16:51:34.560Z"
   },
   {
    "duration": 44,
    "start_time": "2023-09-07T16:51:37.884Z"
   },
   {
    "duration": 35,
    "start_time": "2023-09-07T16:52:02.980Z"
   },
   {
    "duration": 5,
    "start_time": "2023-09-07T16:56:51.963Z"
   },
   {
    "duration": 43,
    "start_time": "2023-09-07T17:02:06.087Z"
   },
   {
    "duration": 3,
    "start_time": "2023-09-07T17:02:06.307Z"
   },
   {
    "duration": 224,
    "start_time": "2023-09-07T17:02:06.623Z"
   },
   {
    "duration": 956,
    "start_time": "2023-09-07T17:04:24.136Z"
   },
   {
    "duration": 88,
    "start_time": "2023-09-07T17:04:26.898Z"
   },
   {
    "duration": 529,
    "start_time": "2023-09-07T17:04:59.411Z"
   },
   {
    "duration": 2,
    "start_time": "2023-09-07T17:04:59.942Z"
   },
   {
    "duration": 5,
    "start_time": "2023-09-07T17:04:59.946Z"
   },
   {
    "duration": 7,
    "start_time": "2023-09-07T17:04:59.952Z"
   },
   {
    "duration": 1314,
    "start_time": "2023-09-07T17:04:59.961Z"
   },
   {
    "duration": 3,
    "start_time": "2023-09-07T17:05:01.277Z"
   },
   {
    "duration": 55,
    "start_time": "2023-09-07T17:05:01.282Z"
   },
   {
    "duration": 888,
    "start_time": "2023-09-07T17:05:01.339Z"
   },
   {
    "duration": 4,
    "start_time": "2023-09-07T17:05:02.229Z"
   },
   {
    "duration": 31,
    "start_time": "2023-09-07T17:05:02.235Z"
   },
   {
    "duration": 36,
    "start_time": "2023-09-07T17:05:02.268Z"
   },
   {
    "duration": 163,
    "start_time": "2023-09-07T17:05:02.306Z"
   },
   {
    "duration": 113,
    "start_time": "2023-09-07T17:05:02.471Z"
   },
   {
    "duration": 554,
    "start_time": "2023-09-07T17:05:02.589Z"
   },
   {
    "duration": 608,
    "start_time": "2023-09-07T17:05:03.144Z"
   },
   {
    "duration": 23,
    "start_time": "2023-09-07T17:05:03.753Z"
   },
   {
    "duration": 36,
    "start_time": "2023-09-07T17:05:03.778Z"
   },
   {
    "duration": 22,
    "start_time": "2023-09-07T17:05:03.816Z"
   },
   {
    "duration": 44,
    "start_time": "2023-09-07T17:05:03.840Z"
   },
   {
    "duration": 38,
    "start_time": "2023-09-07T17:05:03.886Z"
   },
   {
    "duration": 137,
    "start_time": "2023-09-07T17:05:03.926Z"
   },
   {
    "duration": 4,
    "start_time": "2023-09-07T17:05:04.065Z"
   },
   {
    "duration": 58,
    "start_time": "2023-09-07T17:05:04.071Z"
   },
   {
    "duration": 5,
    "start_time": "2023-09-07T17:05:04.131Z"
   },
   {
    "duration": 194,
    "start_time": "2023-09-07T17:05:04.138Z"
   },
   {
    "duration": 1276,
    "start_time": "2023-09-07T17:05:25.316Z"
   },
   {
    "duration": 2,
    "start_time": "2023-09-07T17:05:26.595Z"
   },
   {
    "duration": 3,
    "start_time": "2023-09-07T17:05:26.608Z"
   },
   {
    "duration": 290,
    "start_time": "2023-09-07T17:05:26.613Z"
   },
   {
    "duration": 1275,
    "start_time": "2023-09-07T17:05:26.906Z"
   },
   {
    "duration": 2,
    "start_time": "2023-09-07T17:05:28.183Z"
   },
   {
    "duration": 21,
    "start_time": "2023-09-07T17:05:28.187Z"
   },
   {
    "duration": 851,
    "start_time": "2023-09-07T17:05:28.209Z"
   },
   {
    "duration": 4,
    "start_time": "2023-09-07T17:05:29.062Z"
   },
   {
    "duration": 4,
    "start_time": "2023-09-07T17:05:29.068Z"
   },
   {
    "duration": 35,
    "start_time": "2023-09-07T17:05:29.074Z"
   },
   {
    "duration": 301,
    "start_time": "2023-09-07T17:05:29.111Z"
   },
   {
    "duration": 206,
    "start_time": "2023-09-07T17:05:29.414Z"
   },
   {
    "duration": 1013,
    "start_time": "2023-09-07T17:05:29.623Z"
   },
   {
    "duration": 798,
    "start_time": "2023-09-07T17:05:30.637Z"
   },
   {
    "duration": 23,
    "start_time": "2023-09-07T17:05:31.437Z"
   },
   {
    "duration": 62,
    "start_time": "2023-09-07T17:05:31.462Z"
   },
   {
    "duration": 57,
    "start_time": "2023-09-07T17:05:31.526Z"
   },
   {
    "duration": 46,
    "start_time": "2023-09-07T17:05:31.585Z"
   },
   {
    "duration": 35,
    "start_time": "2023-09-07T17:05:31.633Z"
   },
   {
    "duration": 150,
    "start_time": "2023-09-07T17:05:31.670Z"
   },
   {
    "duration": 4,
    "start_time": "2023-09-07T17:05:31.822Z"
   },
   {
    "duration": 51,
    "start_time": "2023-09-07T17:05:31.828Z"
   },
   {
    "duration": 27,
    "start_time": "2023-09-07T17:05:31.881Z"
   },
   {
    "duration": 210,
    "start_time": "2023-09-07T17:05:31.909Z"
   },
   {
    "duration": 1233,
    "start_time": "2023-09-07T17:06:42.563Z"
   },
   {
    "duration": 3,
    "start_time": "2023-09-07T17:06:43.798Z"
   },
   {
    "duration": 6,
    "start_time": "2023-09-07T17:06:43.803Z"
   },
   {
    "duration": 373,
    "start_time": "2023-09-07T17:06:43.811Z"
   },
   {
    "duration": 1328,
    "start_time": "2023-09-07T17:06:44.187Z"
   },
   {
    "duration": 3,
    "start_time": "2023-09-07T17:06:45.516Z"
   },
   {
    "duration": 26,
    "start_time": "2023-09-07T17:06:45.520Z"
   },
   {
    "duration": 848,
    "start_time": "2023-09-07T17:06:45.547Z"
   },
   {
    "duration": 4,
    "start_time": "2023-09-07T17:06:46.397Z"
   },
   {
    "duration": 13,
    "start_time": "2023-09-07T17:06:46.409Z"
   },
   {
    "duration": 19,
    "start_time": "2023-09-07T17:06:46.424Z"
   },
   {
    "duration": 156,
    "start_time": "2023-09-07T17:06:46.445Z"
   },
   {
    "duration": 120,
    "start_time": "2023-09-07T17:06:46.603Z"
   },
   {
    "duration": 486,
    "start_time": "2023-09-07T17:06:46.726Z"
   },
   {
    "duration": 561,
    "start_time": "2023-09-07T17:06:47.214Z"
   },
   {
    "duration": 33,
    "start_time": "2023-09-07T17:06:47.777Z"
   },
   {
    "duration": 23,
    "start_time": "2023-09-07T17:06:47.812Z"
   },
   {
    "duration": 24,
    "start_time": "2023-09-07T17:06:47.837Z"
   },
   {
    "duration": 51,
    "start_time": "2023-09-07T17:06:47.864Z"
   },
   {
    "duration": 25,
    "start_time": "2023-09-07T17:06:47.917Z"
   },
   {
    "duration": 152,
    "start_time": "2023-09-07T17:06:47.944Z"
   },
   {
    "duration": 12,
    "start_time": "2023-09-07T17:06:48.097Z"
   },
   {
    "duration": 39,
    "start_time": "2023-09-07T17:06:48.111Z"
   },
   {
    "duration": 4,
    "start_time": "2023-09-07T17:06:48.152Z"
   },
   {
    "duration": 202,
    "start_time": "2023-09-07T17:06:48.158Z"
   },
   {
    "duration": 793,
    "start_time": "2023-09-07T17:07:57.253Z"
   },
   {
    "duration": 8,
    "start_time": "2023-09-07T17:08:00.352Z"
   },
   {
    "duration": 3,
    "start_time": "2023-09-07T17:09:58.159Z"
   },
   {
    "duration": 33,
    "start_time": "2023-09-07T17:10:03.130Z"
   },
   {
    "duration": 5,
    "start_time": "2023-09-07T17:10:08.926Z"
   },
   {
    "duration": 13,
    "start_time": "2023-09-07T17:10:16.038Z"
   },
   {
    "duration": 3,
    "start_time": "2023-09-07T17:11:01.132Z"
   },
   {
    "duration": 143,
    "start_time": "2023-09-07T17:11:02.155Z"
   },
   {
    "duration": 1241,
    "start_time": "2023-09-07T17:11:12.244Z"
   },
   {
    "duration": 3,
    "start_time": "2023-09-07T17:11:13.487Z"
   },
   {
    "duration": 4,
    "start_time": "2023-09-07T17:11:13.492Z"
   },
   {
    "duration": 291,
    "start_time": "2023-09-07T17:11:13.498Z"
   },
   {
    "duration": 1003,
    "start_time": "2023-09-07T17:11:13.791Z"
   },
   {
    "duration": 3,
    "start_time": "2023-09-07T17:11:14.796Z"
   },
   {
    "duration": 26,
    "start_time": "2023-09-07T17:11:14.801Z"
   },
   {
    "duration": 890,
    "start_time": "2023-09-07T17:11:14.829Z"
   },
   {
    "duration": 5,
    "start_time": "2023-09-07T17:11:15.721Z"
   },
   {
    "duration": 8,
    "start_time": "2023-09-07T17:11:15.727Z"
   },
   {
    "duration": 29,
    "start_time": "2023-09-07T17:11:15.738Z"
   },
   {
    "duration": 158,
    "start_time": "2023-09-07T17:11:15.769Z"
   },
   {
    "duration": 116,
    "start_time": "2023-09-07T17:11:15.929Z"
   },
   {
    "duration": 530,
    "start_time": "2023-09-07T17:11:16.047Z"
   },
   {
    "duration": 604,
    "start_time": "2023-09-07T17:11:16.580Z"
   },
   {
    "duration": 25,
    "start_time": "2023-09-07T17:11:17.186Z"
   },
   {
    "duration": 41,
    "start_time": "2023-09-07T17:11:17.212Z"
   },
   {
    "duration": 26,
    "start_time": "2023-09-07T17:11:17.255Z"
   },
   {
    "duration": 32,
    "start_time": "2023-09-07T17:11:17.283Z"
   },
   {
    "duration": 25,
    "start_time": "2023-09-07T17:11:17.317Z"
   },
   {
    "duration": 145,
    "start_time": "2023-09-07T17:11:17.344Z"
   },
   {
    "duration": 2,
    "start_time": "2023-09-07T17:11:17.491Z"
   },
   {
    "duration": 37,
    "start_time": "2023-09-07T17:11:17.495Z"
   },
   {
    "duration": 5,
    "start_time": "2023-09-07T17:11:22.517Z"
   },
   {
    "duration": 11,
    "start_time": "2023-09-07T17:11:25.527Z"
   },
   {
    "duration": 25,
    "start_time": "2023-09-07T17:11:40.935Z"
   },
   {
    "duration": 3,
    "start_time": "2023-09-07T17:11:40.962Z"
   },
   {
    "duration": 86,
    "start_time": "2023-09-07T17:11:41.101Z"
   },
   {
    "duration": 31,
    "start_time": "2023-09-07T17:11:45.567Z"
   },
   {
    "duration": 2,
    "start_time": "2023-09-07T17:11:45.736Z"
   },
   {
    "duration": 87,
    "start_time": "2023-09-07T17:11:45.865Z"
   },
   {
    "duration": 93,
    "start_time": "2023-09-07T17:11:48.591Z"
   },
   {
    "duration": 4,
    "start_time": "2023-09-07T17:13:35.388Z"
   },
   {
    "duration": 125,
    "start_time": "2023-09-07T17:13:39.262Z"
   },
   {
    "duration": 132,
    "start_time": "2023-09-07T17:13:53.188Z"
   },
   {
    "duration": 125,
    "start_time": "2023-09-07T17:14:11.107Z"
   },
   {
    "duration": 901,
    "start_time": "2023-09-07T17:14:11.735Z"
   },
   {
    "duration": 11,
    "start_time": "2023-09-07T17:14:20.321Z"
   },
   {
    "duration": 9,
    "start_time": "2023-09-07T17:14:29.088Z"
   },
   {
    "duration": 4269,
    "start_time": "2023-09-07T17:15:00.058Z"
   },
   {
    "duration": 33,
    "start_time": "2023-09-07T17:15:07.808Z"
   },
   {
    "duration": 2,
    "start_time": "2023-09-07T17:16:49.109Z"
   },
   {
    "duration": 1270,
    "start_time": "2023-09-07T17:17:33.945Z"
   },
   {
    "duration": 2,
    "start_time": "2023-09-07T17:17:35.217Z"
   },
   {
    "duration": 6,
    "start_time": "2023-09-07T17:17:35.221Z"
   },
   {
    "duration": 311,
    "start_time": "2023-09-07T17:17:35.229Z"
   },
   {
    "duration": 1324,
    "start_time": "2023-09-07T17:17:35.542Z"
   },
   {
    "duration": 2,
    "start_time": "2023-09-07T17:17:36.868Z"
   },
   {
    "duration": 26,
    "start_time": "2023-09-07T17:17:36.871Z"
   },
   {
    "duration": 854,
    "start_time": "2023-09-07T17:17:36.899Z"
   },
   {
    "duration": 5,
    "start_time": "2023-09-07T17:17:37.755Z"
   },
   {
    "duration": 5,
    "start_time": "2023-09-07T17:17:37.762Z"
   },
   {
    "duration": 23,
    "start_time": "2023-09-07T17:17:37.768Z"
   },
   {
    "duration": 164,
    "start_time": "2023-09-07T17:17:37.793Z"
   },
   {
    "duration": 121,
    "start_time": "2023-09-07T17:17:37.959Z"
   },
   {
    "duration": 620,
    "start_time": "2023-09-07T17:17:38.084Z"
   },
   {
    "duration": 570,
    "start_time": "2023-09-07T17:17:38.706Z"
   },
   {
    "duration": 32,
    "start_time": "2023-09-07T17:17:39.278Z"
   },
   {
    "duration": 22,
    "start_time": "2023-09-07T17:17:39.312Z"
   },
   {
    "duration": 34,
    "start_time": "2023-09-07T17:17:39.336Z"
   },
   {
    "duration": 38,
    "start_time": "2023-09-07T17:17:39.372Z"
   },
   {
    "duration": 27,
    "start_time": "2023-09-07T17:17:39.412Z"
   },
   {
    "duration": 156,
    "start_time": "2023-09-07T17:17:39.440Z"
   },
   {
    "duration": 3,
    "start_time": "2023-09-07T17:17:39.597Z"
   },
   {
    "duration": 34,
    "start_time": "2023-09-07T17:17:39.602Z"
   },
   {
    "duration": 14,
    "start_time": "2023-09-07T17:17:39.637Z"
   },
   {
    "duration": 7,
    "start_time": "2023-09-07T17:17:39.653Z"
   },
   {
    "duration": 28,
    "start_time": "2023-09-07T17:17:39.662Z"
   },
   {
    "duration": 3,
    "start_time": "2023-09-07T17:17:39.710Z"
   },
   {
    "duration": 108,
    "start_time": "2023-09-07T17:17:39.714Z"
   },
   {
    "duration": 3,
    "start_time": "2023-09-07T17:17:39.823Z"
   },
   {
    "duration": 7,
    "start_time": "2023-09-07T17:17:39.828Z"
   },
   {
    "duration": 129,
    "start_time": "2023-09-07T17:17:39.837Z"
   },
   {
    "duration": 4321,
    "start_time": "2023-09-07T17:17:39.968Z"
   },
   {
    "duration": 3,
    "start_time": "2023-09-07T17:17:44.291Z"
   },
   {
    "duration": 1062,
    "start_time": "2023-09-07T17:19:41.131Z"
   },
   {
    "duration": 19,
    "start_time": "2023-09-07T17:20:20.692Z"
   },
   {
    "duration": 5,
    "start_time": "2023-09-07T17:22:07.722Z"
   },
   {
    "duration": 3,
    "start_time": "2023-09-07T17:22:19.795Z"
   },
   {
    "duration": 3,
    "start_time": "2023-09-07T17:22:30.816Z"
   },
   {
    "duration": 129,
    "start_time": "2023-09-07T17:22:43.025Z"
   },
   {
    "duration": 256,
    "start_time": "2023-09-07T17:23:27.718Z"
   },
   {
    "duration": 3,
    "start_time": "2023-09-07T17:23:54.392Z"
   },
   {
    "duration": 151,
    "start_time": "2023-09-07T17:23:54.538Z"
   },
   {
    "duration": 613,
    "start_time": "2023-09-07T17:23:54.693Z"
   },
   {
    "duration": 17,
    "start_time": "2023-09-07T17:24:00.301Z"
   },
   {
    "duration": 2,
    "start_time": "2023-09-07T17:24:26.618Z"
   },
   {
    "duration": 172,
    "start_time": "2023-09-07T17:24:26.802Z"
   },
   {
    "duration": 662,
    "start_time": "2023-09-07T17:24:26.976Z"
   },
   {
    "duration": 18,
    "start_time": "2023-09-07T17:24:28.662Z"
   },
   {
    "duration": 250,
    "start_time": "2023-09-07T17:24:38.007Z"
   },
   {
    "duration": 1338,
    "start_time": "2023-09-07T17:25:14.696Z"
   },
   {
    "duration": 3,
    "start_time": "2023-09-07T17:25:16.035Z"
   },
   {
    "duration": 12,
    "start_time": "2023-09-07T17:25:16.039Z"
   },
   {
    "duration": 315,
    "start_time": "2023-09-07T17:25:16.052Z"
   },
   {
    "duration": 968,
    "start_time": "2023-09-07T17:25:16.369Z"
   },
   {
    "duration": 3,
    "start_time": "2023-09-07T17:25:17.339Z"
   },
   {
    "duration": 20,
    "start_time": "2023-09-07T17:25:17.343Z"
   },
   {
    "duration": 852,
    "start_time": "2023-09-07T17:25:17.365Z"
   },
   {
    "duration": 5,
    "start_time": "2023-09-07T17:25:18.220Z"
   },
   {
    "duration": 7,
    "start_time": "2023-09-07T17:25:18.227Z"
   },
   {
    "duration": 6,
    "start_time": "2023-09-07T17:25:18.236Z"
   },
   {
    "duration": 169,
    "start_time": "2023-09-07T17:25:18.244Z"
   },
   {
    "duration": 109,
    "start_time": "2023-09-07T17:25:18.415Z"
   },
   {
    "duration": 599,
    "start_time": "2023-09-07T17:25:18.527Z"
   },
   {
    "duration": 528,
    "start_time": "2023-09-07T17:25:19.127Z"
   },
   {
    "duration": 24,
    "start_time": "2023-09-07T17:25:19.657Z"
   },
   {
    "duration": 33,
    "start_time": "2023-09-07T17:25:19.683Z"
   },
   {
    "duration": 23,
    "start_time": "2023-09-07T17:25:19.718Z"
   },
   {
    "duration": 26,
    "start_time": "2023-09-07T17:25:19.743Z"
   },
   {
    "duration": 51,
    "start_time": "2023-09-07T17:25:19.770Z"
   },
   {
    "duration": 150,
    "start_time": "2023-09-07T17:25:19.823Z"
   },
   {
    "duration": 3,
    "start_time": "2023-09-07T17:25:19.975Z"
   },
   {
    "duration": 22,
    "start_time": "2023-09-07T17:25:19.980Z"
   },
   {
    "duration": 72,
    "start_time": "2023-09-07T17:25:20.003Z"
   },
   {
    "duration": 17,
    "start_time": "2023-09-07T17:25:20.077Z"
   },
   {
    "duration": 188,
    "start_time": "2023-09-07T17:25:20.095Z"
   },
   {
    "duration": 3,
    "start_time": "2023-09-07T17:25:20.285Z"
   },
   {
    "duration": 29,
    "start_time": "2023-09-07T17:25:20.290Z"
   },
   {
    "duration": 4,
    "start_time": "2023-09-07T17:25:20.321Z"
   },
   {
    "duration": 1024,
    "start_time": "2023-09-07T17:25:20.328Z"
   },
   {
    "duration": 2621,
    "start_time": "2023-09-07T17:25:21.353Z"
   },
   {
    "duration": 34,
    "start_time": "2023-09-07T17:25:23.976Z"
   },
   {
    "duration": 423,
    "start_time": "2023-09-07T17:25:24.011Z"
   },
   {
    "duration": 304,
    "start_time": "2023-09-07T17:27:30.685Z"
   },
   {
    "duration": 2,
    "start_time": "2023-09-07T17:27:37.982Z"
   },
   {
    "duration": 4,
    "start_time": "2023-09-07T17:27:43.837Z"
   },
   {
    "duration": 11,
    "start_time": "2023-09-07T17:27:45.980Z"
   },
   {
    "duration": 3,
    "start_time": "2023-09-07T17:28:08.945Z"
   },
   {
    "duration": 4,
    "start_time": "2023-09-07T17:28:09.235Z"
   },
   {
    "duration": 12,
    "start_time": "2023-09-07T17:28:09.425Z"
   },
   {
    "duration": 317,
    "start_time": "2023-09-07T17:28:15.313Z"
   },
   {
    "duration": 3,
    "start_time": "2023-09-07T17:28:15.631Z"
   },
   {
    "duration": 7,
    "start_time": "2023-09-07T17:28:15.635Z"
   },
   {
    "duration": 12,
    "start_time": "2023-09-07T17:28:15.797Z"
   },
   {
    "duration": 119,
    "start_time": "2023-09-07T17:29:30.423Z"
   },
   {
    "duration": 12,
    "start_time": "2023-09-07T17:29:35.956Z"
   },
   {
    "duration": 354,
    "start_time": "2023-09-07T17:29:45.092Z"
   },
   {
    "duration": 2,
    "start_time": "2023-09-07T17:29:45.448Z"
   },
   {
    "duration": 10,
    "start_time": "2023-09-07T17:29:45.453Z"
   },
   {
    "duration": 12,
    "start_time": "2023-09-07T17:29:45.664Z"
   },
   {
    "duration": 313,
    "start_time": "2023-09-07T17:29:50.210Z"
   },
   {
    "duration": 2,
    "start_time": "2023-09-07T17:29:53.283Z"
   },
   {
    "duration": 6,
    "start_time": "2023-09-07T17:29:54.670Z"
   },
   {
    "duration": 301,
    "start_time": "2023-09-07T17:30:23.929Z"
   },
   {
    "duration": 2,
    "start_time": "2023-09-07T17:30:24.232Z"
   },
   {
    "duration": 4,
    "start_time": "2023-09-07T17:30:24.262Z"
   },
   {
    "duration": 12,
    "start_time": "2023-09-07T17:30:24.412Z"
   },
   {
    "duration": 10,
    "start_time": "2023-09-07T17:30:55.091Z"
   },
   {
    "duration": 314,
    "start_time": "2023-09-07T17:30:58.704Z"
   },
   {
    "duration": 3,
    "start_time": "2023-09-07T17:30:59.020Z"
   },
   {
    "duration": 7,
    "start_time": "2023-09-07T17:30:59.029Z"
   },
   {
    "duration": 11,
    "start_time": "2023-09-07T17:30:59.350Z"
   },
   {
    "duration": 381,
    "start_time": "2023-09-07T17:31:32.236Z"
   },
   {
    "duration": 0,
    "start_time": "2023-09-07T17:31:32.619Z"
   },
   {
    "duration": 0,
    "start_time": "2023-09-07T17:31:32.621Z"
   },
   {
    "duration": 12,
    "start_time": "2023-09-07T17:31:32.693Z"
   },
   {
    "duration": 310,
    "start_time": "2023-09-07T17:31:44.897Z"
   },
   {
    "duration": 2,
    "start_time": "2023-09-07T17:31:45.995Z"
   },
   {
    "duration": 5,
    "start_time": "2023-09-07T17:31:46.223Z"
   },
   {
    "duration": 12,
    "start_time": "2023-09-07T17:31:46.402Z"
   },
   {
    "duration": 313,
    "start_time": "2023-09-07T17:31:56.092Z"
   },
   {
    "duration": 3,
    "start_time": "2023-09-07T17:31:56.409Z"
   },
   {
    "duration": 7,
    "start_time": "2023-09-07T17:31:56.413Z"
   },
   {
    "duration": 11,
    "start_time": "2023-09-07T17:31:56.550Z"
   },
   {
    "duration": 332,
    "start_time": "2023-09-07T17:32:05.313Z"
   },
   {
    "duration": 0,
    "start_time": "2023-09-07T17:32:05.647Z"
   },
   {
    "duration": 308,
    "start_time": "2023-09-07T17:32:08.150Z"
   },
   {
    "duration": 3,
    "start_time": "2023-09-07T17:32:08.461Z"
   },
   {
    "duration": 8,
    "start_time": "2023-09-07T17:32:08.466Z"
   },
   {
    "duration": 13,
    "start_time": "2023-09-07T17:32:08.646Z"
   },
   {
    "duration": 295,
    "start_time": "2023-09-07T17:32:33.141Z"
   },
   {
    "duration": 3,
    "start_time": "2023-09-07T17:32:33.438Z"
   },
   {
    "duration": 3,
    "start_time": "2023-09-07T17:32:33.534Z"
   },
   {
    "duration": 12,
    "start_time": "2023-09-07T17:32:33.719Z"
   },
   {
    "duration": 2,
    "start_time": "2023-09-07T17:34:48.608Z"
   },
   {
    "duration": 13,
    "start_time": "2023-09-07T17:34:48.765Z"
   },
   {
    "duration": 23,
    "start_time": "2023-09-07T17:40:17.124Z"
   },
   {
    "duration": 3,
    "start_time": "2023-09-07T17:41:25.119Z"
   },
   {
    "duration": 45,
    "start_time": "2023-09-07T17:41:25.550Z"
   },
   {
    "duration": 47,
    "start_time": "2023-09-08T09:55:59.256Z"
   },
   {
    "duration": 1356,
    "start_time": "2023-09-08T09:56:02.542Z"
   },
   {
    "duration": 3,
    "start_time": "2023-09-08T09:56:03.900Z"
   },
   {
    "duration": 6,
    "start_time": "2023-09-08T09:56:03.905Z"
   },
   {
    "duration": 398,
    "start_time": "2023-09-08T09:56:03.912Z"
   },
   {
    "duration": 3093,
    "start_time": "2023-09-08T09:56:04.313Z"
   },
   {
    "duration": 3,
    "start_time": "2023-09-08T09:56:07.407Z"
   },
   {
    "duration": 58,
    "start_time": "2023-09-08T09:56:07.411Z"
   },
   {
    "duration": 781,
    "start_time": "2023-09-08T09:56:07.471Z"
   },
   {
    "duration": 6,
    "start_time": "2023-09-08T09:56:08.254Z"
   },
   {
    "duration": 39,
    "start_time": "2023-09-08T09:56:08.261Z"
   },
   {
    "duration": 26,
    "start_time": "2023-09-08T09:56:08.302Z"
   },
   {
    "duration": 161,
    "start_time": "2023-09-08T09:56:08.330Z"
   },
   {
    "duration": 110,
    "start_time": "2023-09-08T09:56:08.493Z"
   },
   {
    "duration": 530,
    "start_time": "2023-09-08T09:56:08.606Z"
   },
   {
    "duration": 471,
    "start_time": "2023-09-08T09:56:09.138Z"
   },
   {
    "duration": 21,
    "start_time": "2023-09-08T09:56:09.610Z"
   },
   {
    "duration": 37,
    "start_time": "2023-09-08T09:56:09.633Z"
   },
   {
    "duration": 26,
    "start_time": "2023-09-08T09:56:09.671Z"
   },
   {
    "duration": 47,
    "start_time": "2023-09-08T09:56:09.730Z"
   },
   {
    "duration": 53,
    "start_time": "2023-09-08T09:56:09.779Z"
   },
   {
    "duration": 145,
    "start_time": "2023-09-08T09:56:09.834Z"
   },
   {
    "duration": 2,
    "start_time": "2023-09-08T09:56:09.981Z"
   },
   {
    "duration": 992,
    "start_time": "2023-09-08T09:56:09.985Z"
   },
   {
    "duration": 2678,
    "start_time": "2023-09-08T09:56:10.979Z"
   },
   {
    "duration": 322,
    "start_time": "2023-09-08T09:56:13.659Z"
   },
   {
    "duration": 50,
    "start_time": "2023-09-08T09:56:13.983Z"
   },
   {
    "duration": 10,
    "start_time": "2023-09-08T09:56:14.044Z"
   },
   {
    "duration": 59,
    "start_time": "2023-09-08T09:56:14.058Z"
   },
   {
    "duration": 5,
    "start_time": "2023-09-08T09:57:31.347Z"
   },
   {
    "duration": 150,
    "start_time": "2023-09-08T10:43:59.935Z"
   },
   {
    "duration": 8,
    "start_time": "2023-09-08T11:08:42.444Z"
   },
   {
    "duration": 7,
    "start_time": "2023-09-08T11:08:47.674Z"
   },
   {
    "duration": 84,
    "start_time": "2023-09-08T11:09:02.822Z"
   },
   {
    "duration": 9,
    "start_time": "2023-09-08T11:09:13.306Z"
   },
   {
    "duration": 9,
    "start_time": "2023-09-08T11:09:17.230Z"
   },
   {
    "duration": 4,
    "start_time": "2023-09-08T11:14:45.227Z"
   },
   {
    "duration": 13,
    "start_time": "2023-09-08T11:15:03.489Z"
   },
   {
    "duration": 23,
    "start_time": "2023-09-08T11:15:11.122Z"
   },
   {
    "duration": 1351,
    "start_time": "2023-09-08T11:15:38.579Z"
   },
   {
    "duration": 3,
    "start_time": "2023-09-08T11:15:39.932Z"
   },
   {
    "duration": 19,
    "start_time": "2023-09-08T11:15:39.945Z"
   },
   {
    "duration": 329,
    "start_time": "2023-09-08T11:15:39.966Z"
   },
   {
    "duration": 943,
    "start_time": "2023-09-08T11:15:40.297Z"
   },
   {
    "duration": 3,
    "start_time": "2023-09-08T11:15:41.243Z"
   },
   {
    "duration": 35,
    "start_time": "2023-09-08T11:15:41.248Z"
   },
   {
    "duration": 845,
    "start_time": "2023-09-08T11:15:41.285Z"
   },
   {
    "duration": 12,
    "start_time": "2023-09-08T11:15:42.132Z"
   },
   {
    "duration": 16,
    "start_time": "2023-09-08T11:15:42.146Z"
   },
   {
    "duration": 14,
    "start_time": "2023-09-08T11:15:42.164Z"
   },
   {
    "duration": 182,
    "start_time": "2023-09-08T11:15:42.180Z"
   },
   {
    "duration": 126,
    "start_time": "2023-09-08T11:15:42.364Z"
   },
   {
    "duration": 615,
    "start_time": "2023-09-08T11:15:42.493Z"
   },
   {
    "duration": 512,
    "start_time": "2023-09-08T11:15:43.110Z"
   },
   {
    "duration": 29,
    "start_time": "2023-09-08T11:15:43.624Z"
   },
   {
    "duration": 49,
    "start_time": "2023-09-08T11:15:43.654Z"
   },
   {
    "duration": 28,
    "start_time": "2023-09-08T11:15:43.709Z"
   },
   {
    "duration": 30,
    "start_time": "2023-09-08T11:15:43.739Z"
   },
   {
    "duration": 25,
    "start_time": "2023-09-08T11:15:43.770Z"
   },
   {
    "duration": 164,
    "start_time": "2023-09-08T11:15:43.797Z"
   },
   {
    "duration": 3,
    "start_time": "2023-09-08T11:15:43.963Z"
   },
   {
    "duration": 1118,
    "start_time": "2023-09-08T11:15:43.968Z"
   },
   {
    "duration": 2425,
    "start_time": "2023-09-08T11:15:45.088Z"
   },
   {
    "duration": 317,
    "start_time": "2023-09-08T11:15:47.515Z"
   },
   {
    "duration": 67,
    "start_time": "2023-09-08T11:15:47.834Z"
   },
   {
    "duration": 3,
    "start_time": "2023-09-08T11:15:47.903Z"
   },
   {
    "duration": 54,
    "start_time": "2023-09-08T11:15:47.908Z"
   },
   {
    "duration": 13,
    "start_time": "2023-09-08T11:15:47.964Z"
   },
   {
    "duration": 3,
    "start_time": "2023-09-08T11:15:47.979Z"
   },
   {
    "duration": 64,
    "start_time": "2023-09-08T11:15:47.983Z"
   },
   {
    "duration": 11,
    "start_time": "2023-09-08T11:18:09.049Z"
   },
   {
    "duration": 7,
    "start_time": "2023-09-08T11:18:22.781Z"
   },
   {
    "duration": 153,
    "start_time": "2023-09-08T11:18:57.771Z"
   },
   {
    "duration": 159,
    "start_time": "2023-09-08T11:19:17.480Z"
   },
   {
    "duration": 14,
    "start_time": "2023-09-08T11:19:25.279Z"
   },
   {
    "duration": 18,
    "start_time": "2023-09-08T11:20:49.778Z"
   },
   {
    "duration": 121,
    "start_time": "2023-09-08T11:21:40.342Z"
   },
   {
    "duration": 1879,
    "start_time": "2023-09-08T11:21:45.804Z"
   },
   {
    "duration": 389,
    "start_time": "2023-09-08T11:21:57.932Z"
   },
   {
    "duration": 13,
    "start_time": "2023-09-08T12:10:14.836Z"
   },
   {
    "duration": 11,
    "start_time": "2023-09-08T12:10:22.565Z"
   },
   {
    "duration": 20167,
    "start_time": "2023-09-08T12:12:31.901Z"
   },
   {
    "duration": 240,
    "start_time": "2023-09-08T12:13:20.601Z"
   },
   {
    "duration": 1298,
    "start_time": "2023-09-08T12:13:31.290Z"
   },
   {
    "duration": 3,
    "start_time": "2023-09-08T12:13:32.590Z"
   },
   {
    "duration": 20,
    "start_time": "2023-09-08T12:13:32.595Z"
   },
   {
    "duration": 355,
    "start_time": "2023-09-08T12:13:32.617Z"
   },
   {
    "duration": 962,
    "start_time": "2023-09-08T12:13:32.975Z"
   },
   {
    "duration": 3,
    "start_time": "2023-09-08T12:13:33.938Z"
   },
   {
    "duration": 32,
    "start_time": "2023-09-08T12:13:33.944Z"
   },
   {
    "duration": 943,
    "start_time": "2023-09-08T12:13:33.978Z"
   },
   {
    "duration": 4,
    "start_time": "2023-09-08T12:13:34.922Z"
   },
   {
    "duration": 49,
    "start_time": "2023-09-08T12:13:34.927Z"
   },
   {
    "duration": 31,
    "start_time": "2023-09-08T12:13:34.978Z"
   },
   {
    "duration": 186,
    "start_time": "2023-09-08T12:13:35.011Z"
   },
   {
    "duration": 114,
    "start_time": "2023-09-08T12:13:35.198Z"
   },
   {
    "duration": 565,
    "start_time": "2023-09-08T12:13:35.315Z"
   },
   {
    "duration": 511,
    "start_time": "2023-09-08T12:13:35.882Z"
   },
   {
    "duration": 21,
    "start_time": "2023-09-08T12:13:36.395Z"
   },
   {
    "duration": 34,
    "start_time": "2023-09-08T12:13:36.417Z"
   },
   {
    "duration": 35,
    "start_time": "2023-09-08T12:13:36.453Z"
   },
   {
    "duration": 42,
    "start_time": "2023-09-08T12:13:36.490Z"
   },
   {
    "duration": 65,
    "start_time": "2023-09-08T12:13:36.533Z"
   },
   {
    "duration": 132,
    "start_time": "2023-09-08T12:13:36.600Z"
   },
   {
    "duration": 2,
    "start_time": "2023-09-08T12:13:36.734Z"
   },
   {
    "duration": 1070,
    "start_time": "2023-09-08T12:13:36.738Z"
   },
   {
    "duration": 2713,
    "start_time": "2023-09-08T12:13:37.810Z"
   },
   {
    "duration": 306,
    "start_time": "2023-09-08T12:13:40.524Z"
   },
   {
    "duration": 60,
    "start_time": "2023-09-08T12:13:40.832Z"
   },
   {
    "duration": 3,
    "start_time": "2023-09-08T12:13:40.893Z"
   },
   {
    "duration": 34,
    "start_time": "2023-09-08T12:13:40.897Z"
   },
   {
    "duration": 20,
    "start_time": "2023-09-08T12:13:40.949Z"
   },
   {
    "duration": 3,
    "start_time": "2023-09-08T12:13:40.971Z"
   },
   {
    "duration": 51,
    "start_time": "2023-09-08T12:13:40.976Z"
   },
   {
    "duration": 33,
    "start_time": "2023-09-08T12:13:41.029Z"
   },
   {
    "duration": 173,
    "start_time": "2023-09-08T12:17:00.732Z"
   },
   {
    "duration": 280,
    "start_time": "2023-09-08T12:17:34.725Z"
   },
   {
    "duration": 152,
    "start_time": "2023-09-08T12:17:57.469Z"
   },
   {
    "duration": 207,
    "start_time": "2023-09-08T12:18:09.019Z"
   },
   {
    "duration": 256,
    "start_time": "2023-09-08T12:29:13.938Z"
   },
   {
    "duration": 197,
    "start_time": "2023-09-08T13:01:01.069Z"
   },
   {
    "duration": 2,
    "start_time": "2023-09-08T13:10:19.168Z"
   },
   {
    "duration": 44,
    "start_time": "2023-09-08T13:10:19.876Z"
   },
   {
    "duration": 0,
    "start_time": "2023-09-08T13:24:46.593Z"
   },
   {
    "duration": 66,
    "start_time": "2023-09-08T13:24:55.396Z"
   },
   {
    "duration": 3,
    "start_time": "2023-09-08T13:26:23.853Z"
   },
   {
    "duration": 176,
    "start_time": "2023-09-08T13:30:39.440Z"
   },
   {
    "duration": 308,
    "start_time": "2023-09-08T13:30:44.960Z"
   },
   {
    "duration": 4,
    "start_time": "2023-09-08T13:33:00.716Z"
   },
   {
    "duration": 358,
    "start_time": "2023-09-08T13:33:45.413Z"
   },
   {
    "duration": 237,
    "start_time": "2023-09-08T13:34:14.598Z"
   },
   {
    "duration": 13,
    "start_time": "2023-09-08T13:35:01.493Z"
   },
   {
    "duration": 12,
    "start_time": "2023-09-08T13:35:08.022Z"
   },
   {
    "duration": 11,
    "start_time": "2023-09-08T13:35:11.523Z"
   },
   {
    "duration": 12,
    "start_time": "2023-09-08T13:35:14.991Z"
   },
   {
    "duration": 206,
    "start_time": "2023-09-08T13:35:25.958Z"
   },
   {
    "duration": 111,
    "start_time": "2023-09-08T13:35:31.337Z"
   },
   {
    "duration": 117,
    "start_time": "2023-09-08T13:35:36.294Z"
   },
   {
    "duration": 214,
    "start_time": "2023-09-08T13:35:44.693Z"
   },
   {
    "duration": 205,
    "start_time": "2023-09-08T13:35:49.228Z"
   },
   {
    "duration": 315,
    "start_time": "2023-09-08T13:35:54.774Z"
   },
   {
    "duration": 29,
    "start_time": "2023-09-08T13:36:12.132Z"
   },
   {
    "duration": 39,
    "start_time": "2023-09-08T13:36:19.293Z"
   },
   {
    "duration": 17,
    "start_time": "2023-09-08T13:36:57.848Z"
   },
   {
    "duration": 10,
    "start_time": "2023-09-08T13:38:30.926Z"
   },
   {
    "duration": 115,
    "start_time": "2023-09-08T13:38:34.540Z"
   },
   {
    "duration": 16,
    "start_time": "2023-09-08T13:38:40.141Z"
   },
   {
    "duration": 18,
    "start_time": "2023-09-08T13:39:09.702Z"
   },
   {
    "duration": 10,
    "start_time": "2023-09-08T13:41:16.740Z"
   },
   {
    "duration": 84,
    "start_time": "2023-09-08T13:42:01.063Z"
   },
   {
    "duration": 13,
    "start_time": "2023-09-08T13:43:40.288Z"
   },
   {
    "duration": 12,
    "start_time": "2023-09-08T13:43:49.701Z"
   },
   {
    "duration": 111,
    "start_time": "2023-09-08T13:43:54.155Z"
   },
   {
    "duration": 16,
    "start_time": "2023-09-08T13:45:21.279Z"
   },
   {
    "duration": 11,
    "start_time": "2023-09-08T13:45:32.242Z"
   },
   {
    "duration": 1295,
    "start_time": "2023-09-08T13:45:42.964Z"
   },
   {
    "duration": 2,
    "start_time": "2023-09-08T13:45:44.262Z"
   },
   {
    "duration": 13,
    "start_time": "2023-09-08T13:45:44.266Z"
   },
   {
    "duration": 334,
    "start_time": "2023-09-08T13:45:44.282Z"
   },
   {
    "duration": 1013,
    "start_time": "2023-09-08T13:45:44.619Z"
   },
   {
    "duration": 3,
    "start_time": "2023-09-08T13:45:45.633Z"
   },
   {
    "duration": 21,
    "start_time": "2023-09-08T13:45:45.645Z"
   },
   {
    "duration": 896,
    "start_time": "2023-09-08T13:45:45.668Z"
   },
   {
    "duration": 5,
    "start_time": "2023-09-08T13:45:46.565Z"
   },
   {
    "duration": 9,
    "start_time": "2023-09-08T13:45:46.572Z"
   },
   {
    "duration": 7,
    "start_time": "2023-09-08T13:45:46.582Z"
   },
   {
    "duration": 179,
    "start_time": "2023-09-08T13:45:46.591Z"
   },
   {
    "duration": 115,
    "start_time": "2023-09-08T13:45:46.772Z"
   },
   {
    "duration": 575,
    "start_time": "2023-09-08T13:45:46.891Z"
   },
   {
    "duration": 524,
    "start_time": "2023-09-08T13:45:47.467Z"
   },
   {
    "duration": 34,
    "start_time": "2023-09-08T13:45:47.993Z"
   },
   {
    "duration": 44,
    "start_time": "2023-09-08T13:45:48.029Z"
   },
   {
    "duration": 29,
    "start_time": "2023-09-08T13:45:48.075Z"
   },
   {
    "duration": 53,
    "start_time": "2023-09-08T13:45:48.105Z"
   },
   {
    "duration": 31,
    "start_time": "2023-09-08T13:45:48.159Z"
   },
   {
    "duration": 126,
    "start_time": "2023-09-08T13:45:48.192Z"
   },
   {
    "duration": 3,
    "start_time": "2023-09-08T13:45:48.321Z"
   },
   {
    "duration": 909,
    "start_time": "2023-09-08T13:45:48.325Z"
   },
   {
    "duration": 2282,
    "start_time": "2023-09-08T13:45:49.235Z"
   },
   {
    "duration": 280,
    "start_time": "2023-09-08T13:45:51.518Z"
   },
   {
    "duration": 46,
    "start_time": "2023-09-08T13:45:51.800Z"
   },
   {
    "duration": 3,
    "start_time": "2023-09-08T13:45:51.847Z"
   },
   {
    "duration": 42,
    "start_time": "2023-09-08T13:45:51.852Z"
   },
   {
    "duration": 11,
    "start_time": "2023-09-08T13:45:51.896Z"
   },
   {
    "duration": 8,
    "start_time": "2023-09-08T13:45:51.908Z"
   },
   {
    "duration": 68,
    "start_time": "2023-09-08T13:45:51.917Z"
   },
   {
    "duration": 14,
    "start_time": "2023-09-08T13:45:51.987Z"
   },
   {
    "duration": 16,
    "start_time": "2023-09-08T13:45:52.003Z"
   },
   {
    "duration": 262,
    "start_time": "2023-09-08T13:45:52.021Z"
   },
   {
    "duration": 31,
    "start_time": "2023-09-08T13:45:52.285Z"
   },
   {
    "duration": 75,
    "start_time": "2023-09-08T13:45:52.318Z"
   },
   {
    "duration": 105,
    "start_time": "2023-09-08T13:46:08.041Z"
   },
   {
    "duration": 3,
    "start_time": "2023-09-08T16:05:59.236Z"
   },
   {
    "duration": 153,
    "start_time": "2023-09-08T16:05:59.637Z"
   },
   {
    "duration": 566,
    "start_time": "2023-09-08T16:06:01.336Z"
   },
   {
    "duration": 16,
    "start_time": "2023-09-08T16:06:08.776Z"
   },
   {
    "duration": 3,
    "start_time": "2023-09-08T16:07:15.726Z"
   },
   {
    "duration": 111,
    "start_time": "2023-09-08T16:07:19.898Z"
   },
   {
    "duration": 8,
    "start_time": "2023-09-08T16:07:42.877Z"
   },
   {
    "duration": 2,
    "start_time": "2023-09-08T16:07:52.846Z"
   },
   {
    "duration": 869,
    "start_time": "2023-09-08T16:07:53.015Z"
   },
   {
    "duration": 2197,
    "start_time": "2023-09-08T16:07:53.886Z"
   },
   {
    "duration": 282,
    "start_time": "2023-09-08T16:07:56.084Z"
   },
   {
    "duration": 10,
    "start_time": "2023-09-08T16:07:56.368Z"
   },
   {
    "duration": 7,
    "start_time": "2023-09-08T16:07:56.379Z"
   },
   {
    "duration": 23,
    "start_time": "2023-09-08T16:07:56.388Z"
   },
   {
    "duration": 3,
    "start_time": "2023-09-08T16:07:56.413Z"
   },
   {
    "duration": 25,
    "start_time": "2023-09-08T16:10:32.538Z"
   },
   {
    "duration": 2,
    "start_time": "2023-09-08T16:10:32.848Z"
   },
   {
    "duration": 108,
    "start_time": "2023-09-08T16:10:33.143Z"
   },
   {
    "duration": 4,
    "start_time": "2023-09-08T16:20:44.783Z"
   },
   {
    "duration": 141,
    "start_time": "2023-09-08T16:21:59.084Z"
   },
   {
    "duration": 132,
    "start_time": "2023-09-08T16:22:22.542Z"
   },
   {
    "duration": 4,
    "start_time": "2023-09-08T16:22:41.703Z"
   },
   {
    "duration": 120,
    "start_time": "2023-09-08T16:22:52.807Z"
   },
   {
    "duration": 124,
    "start_time": "2023-09-08T16:27:07.984Z"
   },
   {
    "duration": 25,
    "start_time": "2023-09-08T16:27:26.276Z"
   },
   {
    "duration": 2,
    "start_time": "2023-09-08T16:27:26.533Z"
   },
   {
    "duration": 104,
    "start_time": "2023-09-08T16:27:26.731Z"
   },
   {
    "duration": 104,
    "start_time": "2023-09-08T16:27:32.825Z"
   },
   {
    "duration": 34,
    "start_time": "2023-09-08T16:27:41.989Z"
   },
   {
    "duration": 10,
    "start_time": "2023-09-08T16:27:46.649Z"
   },
   {
    "duration": 11,
    "start_time": "2023-09-08T16:27:53.851Z"
   },
   {
    "duration": 81,
    "start_time": "2023-09-08T16:29:23.680Z"
   },
   {
    "duration": 154,
    "start_time": "2023-09-08T16:30:14.639Z"
   },
   {
    "duration": 16,
    "start_time": "2023-09-08T16:30:19.227Z"
   },
   {
    "duration": 2,
    "start_time": "2023-09-08T16:34:11.379Z"
   },
   {
    "duration": 403,
    "start_time": "2023-09-08T16:34:11.518Z"
   },
   {
    "duration": 1121,
    "start_time": "2023-09-08T16:34:11.923Z"
   },
   {
    "duration": 18,
    "start_time": "2023-09-08T16:34:13.046Z"
   },
   {
    "duration": 3,
    "start_time": "2023-09-08T16:34:13.065Z"
   },
   {
    "duration": 113,
    "start_time": "2023-09-08T16:34:13.069Z"
   },
   {
    "duration": 214,
    "start_time": "2023-09-08T16:34:13.184Z"
   },
   {
    "duration": 17,
    "start_time": "2023-09-08T16:34:13.399Z"
   },
   {
    "duration": 59,
    "start_time": "2023-09-08T16:34:13.417Z"
   },
   {
    "duration": 1186,
    "start_time": "2023-09-08T16:36:23.137Z"
   },
   {
    "duration": 2,
    "start_time": "2023-09-08T16:36:24.325Z"
   },
   {
    "duration": 11,
    "start_time": "2023-09-08T16:36:24.328Z"
   },
   {
    "duration": 263,
    "start_time": "2023-09-08T16:36:24.340Z"
   },
   {
    "duration": 784,
    "start_time": "2023-09-08T16:36:24.605Z"
   },
   {
    "duration": 2,
    "start_time": "2023-09-08T16:36:25.391Z"
   },
   {
    "duration": 20,
    "start_time": "2023-09-08T16:36:25.395Z"
   },
   {
    "duration": 683,
    "start_time": "2023-09-08T16:36:25.416Z"
   },
   {
    "duration": 4,
    "start_time": "2023-09-08T16:36:26.100Z"
   },
   {
    "duration": 11,
    "start_time": "2023-09-08T16:36:26.105Z"
   },
   {
    "duration": 7,
    "start_time": "2023-09-08T16:36:26.117Z"
   },
   {
    "duration": 137,
    "start_time": "2023-09-08T16:36:26.125Z"
   },
   {
    "duration": 108,
    "start_time": "2023-09-08T16:36:26.264Z"
   },
   {
    "duration": 396,
    "start_time": "2023-09-08T16:36:26.443Z"
   },
   {
    "duration": 464,
    "start_time": "2023-09-08T16:36:26.841Z"
   },
   {
    "duration": 22,
    "start_time": "2023-09-08T16:36:27.307Z"
   },
   {
    "duration": 30,
    "start_time": "2023-09-08T16:36:27.331Z"
   },
   {
    "duration": 23,
    "start_time": "2023-09-08T16:36:27.362Z"
   },
   {
    "duration": 22,
    "start_time": "2023-09-08T16:36:27.386Z"
   },
   {
    "duration": 40,
    "start_time": "2023-09-08T16:36:27.409Z"
   },
   {
    "duration": 119,
    "start_time": "2023-09-08T16:36:27.451Z"
   },
   {
    "duration": 3,
    "start_time": "2023-09-08T16:36:27.571Z"
   },
   {
    "duration": 870,
    "start_time": "2023-09-08T16:36:27.575Z"
   },
   {
    "duration": 2083,
    "start_time": "2023-09-08T16:36:28.446Z"
   },
   {
    "duration": 293,
    "start_time": "2023-09-08T16:36:30.530Z"
   },
   {
    "duration": 53,
    "start_time": "2023-09-08T16:36:30.825Z"
   },
   {
    "duration": 3,
    "start_time": "2023-09-08T16:36:30.880Z"
   },
   {
    "duration": 63,
    "start_time": "2023-09-08T16:36:30.885Z"
   },
   {
    "duration": 34,
    "start_time": "2023-09-08T16:36:30.950Z"
   },
   {
    "duration": 42,
    "start_time": "2023-09-08T16:36:30.986Z"
   },
   {
    "duration": 43,
    "start_time": "2023-09-08T16:36:31.030Z"
   },
   {
    "duration": 88,
    "start_time": "2023-09-08T16:36:31.074Z"
   },
   {
    "duration": 13,
    "start_time": "2023-09-08T16:36:31.164Z"
   },
   {
    "duration": 36,
    "start_time": "2023-09-08T16:36:31.178Z"
   },
   {
    "duration": 231,
    "start_time": "2023-09-08T16:36:31.216Z"
   },
   {
    "duration": 32,
    "start_time": "2023-09-08T16:36:31.449Z"
   },
   {
    "duration": 68,
    "start_time": "2023-09-08T16:36:31.482Z"
   },
   {
    "duration": 9,
    "start_time": "2023-09-08T16:36:31.551Z"
   },
   {
    "duration": 185,
    "start_time": "2023-09-08T16:36:31.562Z"
   },
   {
    "duration": 576,
    "start_time": "2023-09-08T16:36:31.749Z"
   },
   {
    "duration": 18,
    "start_time": "2023-09-08T16:36:32.330Z"
   },
   {
    "duration": 12,
    "start_time": "2023-09-08T16:36:32.350Z"
   },
   {
    "duration": 80,
    "start_time": "2023-09-08T16:36:32.363Z"
   },
   {
    "duration": 178,
    "start_time": "2023-09-08T16:36:32.445Z"
   },
   {
    "duration": 9,
    "start_time": "2023-09-08T16:36:32.624Z"
   },
   {
    "duration": 47,
    "start_time": "2023-09-08T16:36:32.634Z"
   },
   {
    "duration": 2,
    "start_time": "2023-09-08T16:38:26.775Z"
   },
   {
    "duration": 2,
    "start_time": "2023-09-08T16:43:36.513Z"
   },
   {
    "duration": 1229,
    "start_time": "2023-09-09T08:41:51.900Z"
   },
   {
    "duration": 2,
    "start_time": "2023-09-09T08:41:53.131Z"
   },
   {
    "duration": 5,
    "start_time": "2023-09-09T08:41:53.135Z"
   },
   {
    "duration": 312,
    "start_time": "2023-09-09T08:41:53.141Z"
   },
   {
    "duration": 1056,
    "start_time": "2023-09-09T08:41:53.456Z"
   },
   {
    "duration": 2,
    "start_time": "2023-09-09T08:41:54.514Z"
   },
   {
    "duration": 33,
    "start_time": "2023-09-09T08:41:54.518Z"
   },
   {
    "duration": 688,
    "start_time": "2023-09-09T08:41:54.553Z"
   },
   {
    "duration": 4,
    "start_time": "2023-09-09T08:41:55.249Z"
   },
   {
    "duration": 5,
    "start_time": "2023-09-09T08:41:55.254Z"
   },
   {
    "duration": 6,
    "start_time": "2023-09-09T08:41:55.260Z"
   },
   {
    "duration": 134,
    "start_time": "2023-09-09T08:41:55.268Z"
   },
   {
    "duration": 89,
    "start_time": "2023-09-09T08:41:55.404Z"
   },
   {
    "duration": 498,
    "start_time": "2023-09-09T08:41:55.495Z"
   },
   {
    "duration": 436,
    "start_time": "2023-09-09T08:41:55.995Z"
   },
   {
    "duration": 25,
    "start_time": "2023-09-09T08:41:56.433Z"
   },
   {
    "duration": 38,
    "start_time": "2023-09-09T08:41:56.459Z"
   },
   {
    "duration": 24,
    "start_time": "2023-09-09T08:41:56.498Z"
   },
   {
    "duration": 21,
    "start_time": "2023-09-09T08:41:56.523Z"
   },
   {
    "duration": 21,
    "start_time": "2023-09-09T08:41:56.546Z"
   },
   {
    "duration": 119,
    "start_time": "2023-09-09T08:41:56.568Z"
   },
   {
    "duration": 2,
    "start_time": "2023-09-09T08:41:56.688Z"
   },
   {
    "duration": 827,
    "start_time": "2023-09-09T08:41:56.691Z"
   },
   {
    "duration": 2112,
    "start_time": "2023-09-09T08:41:57.520Z"
   },
   {
    "duration": 269,
    "start_time": "2023-09-09T08:41:59.634Z"
   },
   {
    "duration": 41,
    "start_time": "2023-09-09T08:41:59.904Z"
   },
   {
    "duration": 2,
    "start_time": "2023-09-09T08:41:59.950Z"
   },
   {
    "duration": 31,
    "start_time": "2023-09-09T08:41:59.953Z"
   },
   {
    "duration": 5,
    "start_time": "2023-09-09T08:41:59.985Z"
   },
   {
    "duration": 14,
    "start_time": "2023-09-09T08:41:59.992Z"
   },
   {
    "duration": 19,
    "start_time": "2023-09-09T08:42:00.008Z"
   },
   {
    "duration": 63,
    "start_time": "2023-09-09T08:42:00.029Z"
   },
   {
    "duration": 19,
    "start_time": "2023-09-09T08:42:00.094Z"
   },
   {
    "duration": 42,
    "start_time": "2023-09-09T08:42:00.115Z"
   },
   {
    "duration": 212,
    "start_time": "2023-09-09T08:42:00.159Z"
   },
   {
    "duration": 42,
    "start_time": "2023-09-09T08:42:00.373Z"
   },
   {
    "duration": 88,
    "start_time": "2023-09-09T08:42:00.416Z"
   },
   {
    "duration": 105,
    "start_time": "2023-09-09T08:46:10.361Z"
   },
   {
    "duration": 9,
    "start_time": "2023-09-09T08:46:35.629Z"
   },
   {
    "duration": 3083,
    "start_time": "2023-09-09T08:46:57.799Z"
   },
   {
    "duration": 71,
    "start_time": "2023-09-09T08:47:05.773Z"
   },
   {
    "duration": 21,
    "start_time": "2023-09-09T08:47:09.451Z"
   },
   {
    "duration": 22,
    "start_time": "2023-09-09T08:47:18.831Z"
   },
   {
    "duration": 2,
    "start_time": "2023-09-09T08:47:19.136Z"
   },
   {
    "duration": 77,
    "start_time": "2023-09-09T08:47:19.383Z"
   },
   {
    "duration": 1664,
    "start_time": "2023-09-09T08:47:26.510Z"
   },
   {
    "duration": 98,
    "start_time": "2023-09-09T08:48:16.079Z"
   },
   {
    "duration": 8,
    "start_time": "2023-09-09T08:49:14.082Z"
   },
   {
    "duration": 17,
    "start_time": "2023-09-09T08:49:29.996Z"
   },
   {
    "duration": 118,
    "start_time": "2023-09-09T08:50:09.225Z"
   },
   {
    "duration": 2,
    "start_time": "2023-09-09T08:53:47.644Z"
   },
   {
    "duration": 2,
    "start_time": "2023-09-09T08:53:48.002Z"
   },
   {
    "duration": 1060,
    "start_time": "2023-09-09T08:54:55.408Z"
   },
   {
    "duration": 2,
    "start_time": "2023-09-09T08:54:56.470Z"
   },
   {
    "duration": 1978,
    "start_time": "2023-09-09T08:54:56.474Z"
   },
   {
    "duration": 3,
    "start_time": "2023-09-09T08:54:58.454Z"
   },
   {
    "duration": 259,
    "start_time": "2023-09-09T08:54:58.459Z"
   },
   {
    "duration": 62,
    "start_time": "2023-09-09T08:54:58.720Z"
   },
   {
    "duration": 784,
    "start_time": "2023-09-09T08:54:58.784Z"
   },
   {
    "duration": 2,
    "start_time": "2023-09-09T08:54:59.570Z"
   },
   {
    "duration": 21,
    "start_time": "2023-09-09T08:54:59.574Z"
   },
   {
    "duration": 769,
    "start_time": "2023-09-09T08:54:59.596Z"
   },
   {
    "duration": 4,
    "start_time": "2023-09-09T08:55:00.366Z"
   },
   {
    "duration": 47,
    "start_time": "2023-09-09T08:55:00.371Z"
   },
   {
    "duration": 48,
    "start_time": "2023-09-09T08:55:00.419Z"
   },
   {
    "duration": 164,
    "start_time": "2023-09-09T08:55:00.469Z"
   },
   {
    "duration": 91,
    "start_time": "2023-09-09T08:55:00.634Z"
   },
   {
    "duration": 424,
    "start_time": "2023-09-09T08:55:00.726Z"
   },
   {
    "duration": 430,
    "start_time": "2023-09-09T08:55:01.151Z"
   },
   {
    "duration": 30,
    "start_time": "2023-09-09T08:55:01.582Z"
   },
   {
    "duration": 102,
    "start_time": "2023-09-09T08:55:01.614Z"
   },
   {
    "duration": 64,
    "start_time": "2023-09-09T08:55:01.718Z"
   },
   {
    "duration": 55,
    "start_time": "2023-09-09T08:55:01.783Z"
   },
   {
    "duration": 51,
    "start_time": "2023-09-09T08:55:01.839Z"
   },
   {
    "duration": 148,
    "start_time": "2023-09-09T08:55:01.891Z"
   },
   {
    "duration": 2,
    "start_time": "2023-09-09T08:55:02.041Z"
   },
   {
    "duration": 890,
    "start_time": "2023-09-09T08:55:02.044Z"
   },
   {
    "duration": 2121,
    "start_time": "2023-09-09T08:55:02.935Z"
   },
   {
    "duration": 266,
    "start_time": "2023-09-09T08:55:05.057Z"
   },
   {
    "duration": 48,
    "start_time": "2023-09-09T08:55:05.325Z"
   },
   {
    "duration": 2,
    "start_time": "2023-09-09T08:55:05.375Z"
   },
   {
    "duration": 40,
    "start_time": "2023-09-09T08:55:05.379Z"
   },
   {
    "duration": 7,
    "start_time": "2023-09-09T08:55:05.421Z"
   },
   {
    "duration": 12,
    "start_time": "2023-09-09T08:55:05.430Z"
   },
   {
    "duration": 3,
    "start_time": "2023-09-09T08:55:05.443Z"
   },
   {
    "duration": 52,
    "start_time": "2023-09-09T08:55:05.447Z"
   },
   {
    "duration": 12,
    "start_time": "2023-09-09T08:55:05.500Z"
   },
   {
    "duration": 14,
    "start_time": "2023-09-09T08:55:05.514Z"
   },
   {
    "duration": 210,
    "start_time": "2023-09-09T08:55:05.529Z"
   },
   {
    "duration": 45,
    "start_time": "2023-09-09T08:55:05.741Z"
   },
   {
    "duration": 75,
    "start_time": "2023-09-09T08:55:05.787Z"
   },
   {
    "duration": 113,
    "start_time": "2023-09-09T09:19:37.978Z"
   },
   {
    "duration": 9,
    "start_time": "2023-09-09T09:20:44.924Z"
   },
   {
    "duration": 21,
    "start_time": "2023-09-09T09:20:52.735Z"
   },
   {
    "duration": 3,
    "start_time": "2023-09-09T09:20:52.921Z"
   },
   {
    "duration": 76,
    "start_time": "2023-09-09T09:20:53.124Z"
   },
   {
    "duration": 19558,
    "start_time": "2023-09-09T09:20:55.400Z"
   },
   {
    "duration": 4,
    "start_time": "2023-09-09T09:21:25.063Z"
   },
   {
    "duration": 69032,
    "start_time": "2023-09-09T09:21:34.746Z"
   },
   {
    "duration": 344,
    "start_time": "2023-09-09T10:26:14.887Z"
   },
   {
    "duration": 419,
    "start_time": "2023-09-09T10:29:49.221Z"
   },
   {
    "duration": 356,
    "start_time": "2023-09-09T10:29:57.443Z"
   },
   {
    "duration": 418,
    "start_time": "2023-09-09T10:30:08.285Z"
   },
   {
    "duration": 354,
    "start_time": "2023-09-09T10:30:12.821Z"
   },
   {
    "duration": 3,
    "start_time": "2023-09-09T10:31:28.412Z"
   },
   {
    "duration": 3,
    "start_time": "2023-09-09T10:32:22.051Z"
   },
   {
    "duration": 3,
    "start_time": "2023-09-09T10:32:30.487Z"
   },
   {
    "duration": 573050,
    "start_time": "2023-09-09T10:32:33.736Z"
   },
   {
    "duration": 1097,
    "start_time": "2023-09-09T10:49:10.167Z"
   },
   {
    "duration": 2,
    "start_time": "2023-09-09T10:49:11.265Z"
   },
   {
    "duration": 2094,
    "start_time": "2023-09-09T10:49:11.269Z"
   },
   {
    "duration": 4,
    "start_time": "2023-09-09T10:49:13.365Z"
   },
   {
    "duration": 243,
    "start_time": "2023-09-09T10:49:13.372Z"
   },
   {
    "duration": 56,
    "start_time": "2023-09-09T10:49:13.617Z"
   },
   {
    "duration": 812,
    "start_time": "2023-09-09T10:49:13.675Z"
   },
   {
    "duration": 3,
    "start_time": "2023-09-09T10:49:14.489Z"
   },
   {
    "duration": 44,
    "start_time": "2023-09-09T10:49:14.493Z"
   },
   {
    "duration": 806,
    "start_time": "2023-09-09T10:49:14.540Z"
   },
   {
    "duration": 6,
    "start_time": "2023-09-09T10:49:15.347Z"
   },
   {
    "duration": 8,
    "start_time": "2023-09-09T10:49:15.355Z"
   },
   {
    "duration": 17,
    "start_time": "2023-09-09T10:49:15.364Z"
   },
   {
    "duration": 137,
    "start_time": "2023-09-09T10:49:15.384Z"
   },
   {
    "duration": 95,
    "start_time": "2023-09-09T10:49:15.523Z"
   },
   {
    "duration": 471,
    "start_time": "2023-09-09T10:49:15.619Z"
   },
   {
    "duration": 511,
    "start_time": "2023-09-09T10:49:16.093Z"
   },
   {
    "duration": 23,
    "start_time": "2023-09-09T10:49:16.605Z"
   },
   {
    "duration": 30,
    "start_time": "2023-09-09T10:49:16.629Z"
   },
   {
    "duration": 21,
    "start_time": "2023-09-09T10:49:16.660Z"
   },
   {
    "duration": 26,
    "start_time": "2023-09-09T10:49:16.682Z"
   },
   {
    "duration": 39,
    "start_time": "2023-09-09T10:49:16.710Z"
   },
   {
    "duration": 119,
    "start_time": "2023-09-09T10:49:16.751Z"
   },
   {
    "duration": 2,
    "start_time": "2023-09-09T10:49:16.872Z"
   },
   {
    "duration": 886,
    "start_time": "2023-09-09T10:49:16.875Z"
   },
   {
    "duration": 2189,
    "start_time": "2023-09-09T10:49:17.763Z"
   },
   {
    "duration": 280,
    "start_time": "2023-09-09T10:49:19.953Z"
   },
   {
    "duration": 52,
    "start_time": "2023-09-09T10:49:20.235Z"
   },
   {
    "duration": 3,
    "start_time": "2023-09-09T10:49:20.289Z"
   },
   {
    "duration": 36,
    "start_time": "2023-09-09T10:49:20.294Z"
   },
   {
    "duration": 4,
    "start_time": "2023-09-09T10:49:20.332Z"
   },
   {
    "duration": 13,
    "start_time": "2023-09-09T10:49:20.338Z"
   },
   {
    "duration": 2,
    "start_time": "2023-09-09T10:49:20.353Z"
   },
   {
    "duration": 53,
    "start_time": "2023-09-09T10:49:20.356Z"
   },
   {
    "duration": 21,
    "start_time": "2023-09-09T10:49:20.412Z"
   },
   {
    "duration": 32,
    "start_time": "2023-09-09T10:49:20.435Z"
   },
   {
    "duration": 245,
    "start_time": "2023-09-09T10:49:20.469Z"
   },
   {
    "duration": 25,
    "start_time": "2023-09-09T10:49:20.715Z"
   },
   {
    "duration": 1894,
    "start_time": "2023-09-09T10:49:20.741Z"
   },
   {
    "duration": 0,
    "start_time": "2023-09-09T10:49:22.637Z"
   },
   {
    "duration": 0,
    "start_time": "2023-09-09T10:49:22.639Z"
   },
   {
    "duration": 0,
    "start_time": "2023-09-09T10:49:22.640Z"
   },
   {
    "duration": 3,
    "start_time": "2023-09-09T10:50:26.619Z"
   },
   {
    "duration": 14,
    "start_time": "2023-09-09T10:50:31.480Z"
   },
   {
    "duration": 4,
    "start_time": "2023-09-09T10:50:31.988Z"
   },
   {
    "duration": 68,
    "start_time": "2023-09-09T10:50:32.720Z"
   },
   {
    "duration": 3,
    "start_time": "2023-09-09T10:50:33.861Z"
   },
   {
    "duration": 85820,
    "start_time": "2023-09-09T10:50:34.261Z"
   },
   {
    "duration": 392,
    "start_time": "2023-09-09T10:52:00.083Z"
   },
   {
    "duration": 360,
    "start_time": "2023-09-09T11:27:32.202Z"
   },
   {
    "duration": 438,
    "start_time": "2023-09-09T11:27:36.977Z"
   },
   {
    "duration": 530,
    "start_time": "2023-09-09T11:54:27.927Z"
   },
   {
    "duration": 570,
    "start_time": "2023-09-09T11:56:03.267Z"
   },
   {
    "duration": 10,
    "start_time": "2023-09-09T11:58:22.352Z"
   },
   {
    "duration": 4,
    "start_time": "2023-09-09T11:58:47.067Z"
   },
   {
    "duration": 3,
    "start_time": "2023-09-09T12:05:41.401Z"
   },
   {
    "duration": 19,
    "start_time": "2023-09-09T12:08:32.164Z"
   },
   {
    "duration": 176,
    "start_time": "2023-09-09T12:08:32.391Z"
   },
   {
    "duration": 15,
    "start_time": "2023-09-09T12:08:39.132Z"
   },
   {
    "duration": 3,
    "start_time": "2023-09-09T12:12:23.791Z"
   },
   {
    "duration": 3,
    "start_time": "2023-09-09T12:13:04.348Z"
   },
   {
    "duration": 4,
    "start_time": "2023-09-09T12:13:15.472Z"
   },
   {
    "duration": 458,
    "start_time": "2023-09-09T12:13:43.129Z"
   },
   {
    "duration": 186,
    "start_time": "2023-09-09T12:14:00.178Z"
   },
   {
    "duration": 12,
    "start_time": "2023-09-09T12:14:10.884Z"
   },
   {
    "duration": 3,
    "start_time": "2023-09-09T12:18:06.616Z"
   },
   {
    "duration": 9,
    "start_time": "2023-09-09T12:18:13.499Z"
   },
   {
    "duration": 13,
    "start_time": "2023-09-09T12:18:16.945Z"
   },
   {
    "duration": 12,
    "start_time": "2023-09-09T12:18:21.593Z"
   },
   {
    "duration": 3,
    "start_time": "2023-09-09T12:31:16.232Z"
   },
   {
    "duration": 2,
    "start_time": "2023-09-09T12:31:27.452Z"
   },
   {
    "duration": 8,
    "start_time": "2023-09-09T12:32:43.891Z"
   },
   {
    "duration": 2,
    "start_time": "2023-09-09T12:37:46.152Z"
   },
   {
    "duration": 4,
    "start_time": "2023-09-09T13:44:03.246Z"
   },
   {
    "duration": 9,
    "start_time": "2023-09-09T13:44:09.676Z"
   },
   {
    "duration": 3,
    "start_time": "2023-09-09T13:45:51.243Z"
   },
   {
    "duration": 10,
    "start_time": "2023-09-09T13:45:57.030Z"
   },
   {
    "duration": 4,
    "start_time": "2023-09-09T13:46:10.911Z"
   },
   {
    "duration": 2,
    "start_time": "2023-09-09T13:46:11.432Z"
   },
   {
    "duration": 75,
    "start_time": "2023-09-09T13:46:20.595Z"
   },
   {
    "duration": 73,
    "start_time": "2023-09-09T13:46:23.805Z"
   },
   {
    "duration": 3,
    "start_time": "2023-09-09T13:46:26.072Z"
   },
   {
    "duration": 73,
    "start_time": "2023-09-09T13:46:37.728Z"
   },
   {
    "duration": 4,
    "start_time": "2023-09-09T13:46:59.533Z"
   },
   {
    "duration": 75,
    "start_time": "2023-09-09T13:47:00.483Z"
   },
   {
    "duration": 148,
    "start_time": "2023-09-09T13:47:41.506Z"
   },
   {
    "duration": 56,
    "start_time": "2023-09-09T13:47:59.824Z"
   },
   {
    "duration": 4,
    "start_time": "2023-09-09T13:48:10.756Z"
   },
   {
    "duration": 50,
    "start_time": "2023-09-09T13:48:11.627Z"
   },
   {
    "duration": 4,
    "start_time": "2023-09-09T13:48:26.256Z"
   },
   {
    "duration": 9,
    "start_time": "2023-09-09T13:48:58.148Z"
   },
   {
    "duration": 5,
    "start_time": "2023-09-09T13:49:00.200Z"
   },
   {
    "duration": 10,
    "start_time": "2023-09-09T13:49:01.697Z"
   },
   {
    "duration": 6,
    "start_time": "2023-09-09T13:49:45.857Z"
   },
   {
    "duration": 3,
    "start_time": "2023-09-09T13:49:47.018Z"
   },
   {
    "duration": 100,
    "start_time": "2023-09-09T13:49:48.152Z"
   },
   {
    "duration": 3,
    "start_time": "2023-09-09T13:49:48.572Z"
   },
   {
    "duration": 5,
    "start_time": "2023-09-09T13:49:53.536Z"
   },
   {
    "duration": 2,
    "start_time": "2023-09-09T13:49:59.867Z"
   },
   {
    "duration": 5,
    "start_time": "2023-09-09T13:50:00.087Z"
   },
   {
    "duration": 9,
    "start_time": "2023-09-09T13:50:21.581Z"
   },
   {
    "duration": 9,
    "start_time": "2023-09-09T13:51:27.697Z"
   },
   {
    "duration": 2,
    "start_time": "2023-09-09T13:51:34.247Z"
   },
   {
    "duration": 8,
    "start_time": "2023-09-09T13:51:34.605Z"
   },
   {
    "duration": 2,
    "start_time": "2023-09-09T13:51:38.276Z"
   },
   {
    "duration": 4,
    "start_time": "2023-09-09T13:55:18.971Z"
   },
   {
    "duration": 137,
    "start_time": "2023-09-09T14:00:15.749Z"
   },
   {
    "duration": 55702,
    "start_time": "2023-09-09T14:00:20.854Z"
   },
   {
    "duration": 2248615,
    "start_time": "2023-09-09T14:04:17.913Z"
   },
   {
    "duration": 7,
    "start_time": "2023-09-09T14:41:46.530Z"
   },
   {
    "duration": 9,
    "start_time": "2023-09-09T14:41:56.536Z"
   },
   {
    "duration": 9,
    "start_time": "2023-09-09T14:42:18.779Z"
   },
   {
    "duration": 8,
    "start_time": "2023-09-09T14:42:21.617Z"
   },
   {
    "duration": 5,
    "start_time": "2023-09-09T14:42:56.016Z"
   },
   {
    "duration": 8,
    "start_time": "2023-09-09T14:46:08.058Z"
   },
   {
    "duration": 3,
    "start_time": "2023-09-09T14:46:10.626Z"
   },
   {
    "duration": 8,
    "start_time": "2023-09-09T14:46:13.135Z"
   },
   {
    "duration": 2360870,
    "start_time": "2023-09-09T14:47:48.885Z"
   },
   {
    "duration": 4,
    "start_time": "2023-09-09T15:27:09.757Z"
   },
   {
    "duration": 337956,
    "start_time": "2023-09-09T15:31:01.171Z"
   },
   {
    "duration": 4024707,
    "start_time": "2023-09-09T15:37:03.509Z"
   },
   {
    "duration": 9,
    "start_time": "2023-09-09T16:56:19.563Z"
   },
   {
    "duration": 3,
    "start_time": "2023-09-09T16:56:24.229Z"
   },
   {
    "duration": 112851,
    "start_time": "2023-09-09T16:56:24.503Z"
   },
   {
    "duration": 3,
    "start_time": "2023-09-09T16:58:17.356Z"
   },
   {
    "duration": 12,
    "start_time": "2023-09-09T16:58:17.360Z"
   },
   {
    "duration": 3,
    "start_time": "2023-09-09T16:58:52.993Z"
   },
   {
    "duration": 60,
    "start_time": "2023-09-09T16:58:53.695Z"
   },
   {
    "duration": 12,
    "start_time": "2023-09-09T16:58:53.893Z"
   },
   {
    "duration": 196,
    "start_time": "2023-09-09T16:59:05.853Z"
   },
   {
    "duration": 2,
    "start_time": "2023-09-09T16:59:06.194Z"
   },
   {
    "duration": 8,
    "start_time": "2023-09-09T16:59:10.473Z"
   },
   {
    "duration": 5,
    "start_time": "2023-09-09T16:59:30.990Z"
   },
   {
    "duration": 3,
    "start_time": "2023-09-09T16:59:31.153Z"
   },
   {
    "duration": 150,
    "start_time": "2023-09-09T16:59:31.500Z"
   },
   {
    "duration": 3,
    "start_time": "2023-09-09T16:59:31.773Z"
   },
   {
    "duration": 8,
    "start_time": "2023-09-09T16:59:35.038Z"
   },
   {
    "duration": 5,
    "start_time": "2023-09-09T16:59:49.812Z"
   },
   {
    "duration": 2,
    "start_time": "2023-09-09T16:59:49.995Z"
   },
   {
    "duration": 61,
    "start_time": "2023-09-09T16:59:50.296Z"
   },
   {
    "duration": 3,
    "start_time": "2023-09-09T16:59:50.550Z"
   },
   {
    "duration": 4,
    "start_time": "2023-09-09T17:02:03.352Z"
   },
   {
    "duration": 3,
    "start_time": "2023-09-09T17:03:48.927Z"
   },
   {
    "duration": 44641,
    "start_time": "2023-09-09T17:03:51.899Z"
   },
   {
    "duration": 0,
    "start_time": "2023-09-09T17:04:36.541Z"
   },
   {
    "duration": 0,
    "start_time": "2023-09-09T17:04:36.549Z"
   },
   {
    "duration": 2489,
    "start_time": "2023-09-09T17:04:40.539Z"
   },
   {
    "duration": 2,
    "start_time": "2023-09-09T17:04:43.030Z"
   },
   {
    "duration": 10,
    "start_time": "2023-09-09T17:04:47.198Z"
   },
   {
    "duration": 117001,
    "start_time": "2023-09-09T17:05:14.001Z"
   },
   {
    "duration": 2,
    "start_time": "2023-09-09T17:07:11.004Z"
   },
   {
    "duration": 15,
    "start_time": "2023-09-09T17:07:11.007Z"
   },
   {
    "duration": 39,
    "start_time": "2023-09-09T17:41:43.084Z"
   },
   {
    "duration": 75,
    "start_time": "2023-09-09T17:46:14.184Z"
   },
   {
    "duration": 3,
    "start_time": "2023-09-09T17:47:29.093Z"
   },
   {
    "duration": 17225,
    "start_time": "2023-09-09T17:49:19.890Z"
   },
   {
    "duration": 2635376,
    "start_time": "2023-09-09T17:50:58.094Z"
   },
   {
    "duration": 12,
    "start_time": "2023-09-09T18:52:13.826Z"
   },
   {
    "duration": 69988,
    "start_time": "2023-09-09T18:52:19.784Z"
   },
   {
    "duration": 0,
    "start_time": "2023-09-09T18:53:29.773Z"
   },
   {
    "duration": 10,
    "start_time": "2023-09-09T18:53:58.034Z"
   },
   {
    "duration": 135,
    "start_time": "2023-09-09T18:54:04.128Z"
   },
   {
    "duration": 2,
    "start_time": "2023-09-09T18:54:04.875Z"
   },
   {
    "duration": 9,
    "start_time": "2023-09-09T18:54:07.461Z"
   },
   {
    "duration": 1114,
    "start_time": "2023-09-09T18:56:06.886Z"
   },
   {
    "duration": 2,
    "start_time": "2023-09-09T18:56:08.002Z"
   },
   {
    "duration": 28,
    "start_time": "2023-09-09T18:56:08.005Z"
   },
   {
    "duration": 284,
    "start_time": "2023-09-09T18:56:08.035Z"
   },
   {
    "duration": 1990,
    "start_time": "2023-09-09T18:56:08.321Z"
   },
   {
    "duration": 59,
    "start_time": "2023-09-09T18:56:10.313Z"
   },
   {
    "duration": 813,
    "start_time": "2023-09-09T18:56:10.373Z"
   },
   {
    "duration": 2,
    "start_time": "2023-09-09T18:56:11.187Z"
   },
   {
    "duration": 27,
    "start_time": "2023-09-09T18:56:11.190Z"
   },
   {
    "duration": 758,
    "start_time": "2023-09-09T18:56:11.218Z"
   },
   {
    "duration": 4,
    "start_time": "2023-09-09T18:56:11.977Z"
   },
   {
    "duration": 15,
    "start_time": "2023-09-09T18:56:11.982Z"
   },
   {
    "duration": 21,
    "start_time": "2023-09-09T18:56:11.998Z"
   },
   {
    "duration": 130,
    "start_time": "2023-09-09T18:56:12.021Z"
   },
   {
    "duration": 85,
    "start_time": "2023-09-09T18:56:12.152Z"
   },
   {
    "duration": 424,
    "start_time": "2023-09-09T18:56:12.238Z"
   },
   {
    "duration": 438,
    "start_time": "2023-09-09T18:56:12.664Z"
   },
   {
    "duration": 21,
    "start_time": "2023-09-09T18:56:13.104Z"
   },
   {
    "duration": 31,
    "start_time": "2023-09-09T18:56:13.127Z"
   },
   {
    "duration": 20,
    "start_time": "2023-09-09T18:56:13.159Z"
   },
   {
    "duration": 21,
    "start_time": "2023-09-09T18:56:13.180Z"
   },
   {
    "duration": 20,
    "start_time": "2023-09-09T18:56:13.202Z"
   },
   {
    "duration": 141,
    "start_time": "2023-09-09T18:56:13.224Z"
   },
   {
    "duration": 113,
    "start_time": "2023-09-09T18:56:13.367Z"
   },
   {
    "duration": 0,
    "start_time": "2023-09-09T18:56:13.483Z"
   },
   {
    "duration": 0,
    "start_time": "2023-09-09T18:56:13.484Z"
   },
   {
    "duration": 0,
    "start_time": "2023-09-09T18:56:13.485Z"
   },
   {
    "duration": 0,
    "start_time": "2023-09-09T18:56:13.487Z"
   },
   {
    "duration": 0,
    "start_time": "2023-09-09T18:56:13.488Z"
   },
   {
    "duration": 0,
    "start_time": "2023-09-09T18:56:13.489Z"
   },
   {
    "duration": 0,
    "start_time": "2023-09-09T18:56:13.491Z"
   },
   {
    "duration": 0,
    "start_time": "2023-09-09T18:56:13.492Z"
   },
   {
    "duration": 0,
    "start_time": "2023-09-09T18:56:13.494Z"
   },
   {
    "duration": 0,
    "start_time": "2023-09-09T18:56:13.495Z"
   },
   {
    "duration": 0,
    "start_time": "2023-09-09T18:56:13.496Z"
   },
   {
    "duration": 0,
    "start_time": "2023-09-09T18:56:13.498Z"
   },
   {
    "duration": 0,
    "start_time": "2023-09-09T18:56:13.499Z"
   },
   {
    "duration": 0,
    "start_time": "2023-09-09T18:56:13.500Z"
   },
   {
    "duration": 0,
    "start_time": "2023-09-09T18:56:13.502Z"
   },
   {
    "duration": 0,
    "start_time": "2023-09-09T18:56:13.503Z"
   },
   {
    "duration": 0,
    "start_time": "2023-09-09T18:56:13.505Z"
   },
   {
    "duration": 0,
    "start_time": "2023-09-09T18:56:13.506Z"
   },
   {
    "duration": 0,
    "start_time": "2023-09-09T18:56:13.507Z"
   },
   {
    "duration": 0,
    "start_time": "2023-09-09T18:56:13.549Z"
   },
   {
    "duration": 0,
    "start_time": "2023-09-09T18:56:13.551Z"
   },
   {
    "duration": 0,
    "start_time": "2023-09-09T18:56:13.552Z"
   },
   {
    "duration": 0,
    "start_time": "2023-09-09T18:56:13.554Z"
   },
   {
    "duration": 0,
    "start_time": "2023-09-09T18:56:13.555Z"
   },
   {
    "duration": 0,
    "start_time": "2023-09-09T18:56:13.556Z"
   },
   {
    "duration": 0,
    "start_time": "2023-09-09T18:56:13.558Z"
   },
   {
    "duration": 0,
    "start_time": "2023-09-09T18:56:13.559Z"
   },
   {
    "duration": 0,
    "start_time": "2023-09-09T18:56:13.560Z"
   },
   {
    "duration": 0,
    "start_time": "2023-09-09T18:56:13.561Z"
   },
   {
    "duration": 0,
    "start_time": "2023-09-09T18:56:13.563Z"
   },
   {
    "duration": 0,
    "start_time": "2023-09-09T18:56:13.564Z"
   },
   {
    "duration": 0,
    "start_time": "2023-09-09T18:56:13.565Z"
   },
   {
    "duration": 0,
    "start_time": "2023-09-09T18:56:13.566Z"
   },
   {
    "duration": 1,
    "start_time": "2023-09-09T18:56:13.567Z"
   },
   {
    "duration": 0,
    "start_time": "2023-09-09T18:56:13.569Z"
   },
   {
    "duration": 0,
    "start_time": "2023-09-09T18:56:13.570Z"
   },
   {
    "duration": 0,
    "start_time": "2023-09-09T18:56:13.572Z"
   },
   {
    "duration": 0,
    "start_time": "2023-09-09T18:56:13.574Z"
   },
   {
    "duration": 0,
    "start_time": "2023-09-09T18:56:13.576Z"
   },
   {
    "duration": 0,
    "start_time": "2023-09-09T18:56:13.577Z"
   },
   {
    "duration": 0,
    "start_time": "2023-09-09T18:56:13.578Z"
   },
   {
    "duration": 1126,
    "start_time": "2023-09-09T18:59:48.252Z"
   },
   {
    "duration": 2,
    "start_time": "2023-09-09T18:59:49.380Z"
   },
   {
    "duration": 10,
    "start_time": "2023-09-09T18:59:49.386Z"
   },
   {
    "duration": 283,
    "start_time": "2023-09-09T18:59:49.397Z"
   },
   {
    "duration": 1957,
    "start_time": "2023-09-09T18:59:49.681Z"
   },
   {
    "duration": 60,
    "start_time": "2023-09-09T18:59:51.640Z"
   },
   {
    "duration": 793,
    "start_time": "2023-09-09T18:59:51.702Z"
   },
   {
    "duration": 3,
    "start_time": "2023-09-09T18:59:52.496Z"
   },
   {
    "duration": 38,
    "start_time": "2023-09-09T18:59:52.501Z"
   },
   {
    "duration": 763,
    "start_time": "2023-09-09T18:59:52.541Z"
   },
   {
    "duration": 4,
    "start_time": "2023-09-09T18:59:53.306Z"
   },
   {
    "duration": 40,
    "start_time": "2023-09-09T18:59:53.311Z"
   },
   {
    "duration": 18,
    "start_time": "2023-09-09T18:59:53.352Z"
   },
   {
    "duration": 144,
    "start_time": "2023-09-09T18:59:53.372Z"
   },
   {
    "duration": 92,
    "start_time": "2023-09-09T18:59:53.518Z"
   },
   {
    "duration": 411,
    "start_time": "2023-09-09T18:59:53.612Z"
   },
   {
    "duration": 439,
    "start_time": "2023-09-09T18:59:54.025Z"
   },
   {
    "duration": 24,
    "start_time": "2023-09-09T18:59:54.466Z"
   },
   {
    "duration": 20,
    "start_time": "2023-09-09T18:59:54.492Z"
   },
   {
    "duration": 38,
    "start_time": "2023-09-09T18:59:54.514Z"
   },
   {
    "duration": 22,
    "start_time": "2023-09-09T18:59:54.554Z"
   },
   {
    "duration": 23,
    "start_time": "2023-09-09T18:59:54.578Z"
   },
   {
    "duration": 144,
    "start_time": "2023-09-09T18:59:54.603Z"
   },
   {
    "duration": 3,
    "start_time": "2023-09-09T18:59:54.750Z"
   },
   {
    "duration": 869,
    "start_time": "2023-09-09T18:59:54.754Z"
   },
   {
    "duration": 2226,
    "start_time": "2023-09-09T18:59:55.624Z"
   },
   {
    "duration": 286,
    "start_time": "2023-09-09T18:59:57.854Z"
   },
   {
    "duration": 49,
    "start_time": "2023-09-09T18:59:58.141Z"
   },
   {
    "duration": 3,
    "start_time": "2023-09-09T18:59:58.191Z"
   },
   {
    "duration": 74,
    "start_time": "2023-09-09T18:59:58.195Z"
   },
   {
    "duration": 3,
    "start_time": "2023-09-09T18:59:58.271Z"
   },
   {
    "duration": 13,
    "start_time": "2023-09-09T18:59:58.275Z"
   },
   {
    "duration": 2,
    "start_time": "2023-09-09T18:59:58.289Z"
   },
   {
    "duration": 40,
    "start_time": "2023-09-09T18:59:58.292Z"
   },
   {
    "duration": 19,
    "start_time": "2023-09-09T18:59:58.333Z"
   },
   {
    "duration": 16,
    "start_time": "2023-09-09T18:59:58.353Z"
   },
   {
    "duration": 211,
    "start_time": "2023-09-09T18:59:58.371Z"
   },
   {
    "duration": 24,
    "start_time": "2023-09-09T18:59:58.584Z"
   },
   {
    "duration": 2,
    "start_time": "2023-09-09T18:59:58.610Z"
   },
   {
    "duration": 20,
    "start_time": "2023-09-09T18:59:58.614Z"
   },
   {
    "duration": 14,
    "start_time": "2023-09-09T18:59:58.636Z"
   },
   {
    "duration": 66,
    "start_time": "2023-09-09T18:59:58.652Z"
   },
   {
    "duration": 2,
    "start_time": "2023-09-09T18:59:58.720Z"
   },
   {
    "duration": 117292,
    "start_time": "2023-09-09T18:59:58.724Z"
   },
   {
    "duration": 785,
    "start_time": "2023-09-09T19:01:56.018Z"
   },
   {
    "duration": 2,
    "start_time": "2023-09-09T19:01:56.805Z"
   },
   {
    "duration": 14,
    "start_time": "2023-09-09T19:01:56.809Z"
   },
   {
    "duration": 206,
    "start_time": "2023-09-09T19:01:56.824Z"
   },
   {
    "duration": 497,
    "start_time": "2023-09-09T19:01:57.032Z"
   },
   {
    "duration": 18,
    "start_time": "2023-09-09T19:01:57.531Z"
   },
   {
    "duration": 3,
    "start_time": "2023-09-09T19:01:57.551Z"
   },
   {
    "duration": 18,
    "start_time": "2023-09-09T19:01:57.555Z"
   },
   {
    "duration": 14,
    "start_time": "2023-09-09T19:01:57.575Z"
   },
   {
    "duration": 265,
    "start_time": "2023-09-09T19:01:57.590Z"
   },
   {
    "duration": 93,
    "start_time": "2023-09-09T19:01:57.862Z"
   },
   {
    "duration": 91,
    "start_time": "2023-09-09T19:01:57.960Z"
   },
   {
    "duration": 20,
    "start_time": "2023-09-09T19:01:58.053Z"
   },
   {
    "duration": 2661,
    "start_time": "2023-09-09T19:01:58.075Z"
   },
   {
    "duration": 3,
    "start_time": "2023-09-09T19:02:00.737Z"
   },
   {
    "duration": 117043,
    "start_time": "2023-09-09T19:02:00.741Z"
   },
   {
    "duration": 3,
    "start_time": "2023-09-09T19:03:57.786Z"
   },
   {
    "duration": 8127,
    "start_time": "2023-09-09T19:03:57.791Z"
   },
   {
    "duration": 14,
    "start_time": "2023-09-09T19:04:05.920Z"
   },
   {
    "duration": 0,
    "start_time": "2023-09-09T19:04:05.936Z"
   },
   {
    "duration": 0,
    "start_time": "2023-09-09T19:04:05.937Z"
   },
   {
    "duration": 54468,
    "start_time": "2023-09-09T19:04:22.897Z"
   },
   {
    "duration": 13,
    "start_time": "2023-09-09T19:05:17.367Z"
   },
   {
    "duration": 0,
    "start_time": "2023-09-09T19:05:17.382Z"
   },
   {
    "duration": 3665,
    "start_time": "2023-09-09T19:05:19.946Z"
   },
   {
    "duration": 1106,
    "start_time": "2023-09-09T19:12:20.366Z"
   },
   {
    "duration": 2,
    "start_time": "2023-09-09T19:12:21.474Z"
   },
   {
    "duration": 11,
    "start_time": "2023-09-09T19:12:21.478Z"
   },
   {
    "duration": 290,
    "start_time": "2023-09-09T19:12:21.490Z"
   },
   {
    "duration": 2057,
    "start_time": "2023-09-09T19:12:21.781Z"
   },
   {
    "duration": 65,
    "start_time": "2023-09-09T19:12:23.841Z"
   },
   {
    "duration": 799,
    "start_time": "2023-09-09T19:12:23.908Z"
   },
   {
    "duration": 2,
    "start_time": "2023-09-09T19:12:24.709Z"
   },
   {
    "duration": 44,
    "start_time": "2023-09-09T19:12:24.713Z"
   },
   {
    "duration": 757,
    "start_time": "2023-09-09T19:12:24.760Z"
   },
   {
    "duration": 4,
    "start_time": "2023-09-09T19:12:25.519Z"
   },
   {
    "duration": 15,
    "start_time": "2023-09-09T19:12:25.524Z"
   },
   {
    "duration": 13,
    "start_time": "2023-09-09T19:12:25.540Z"
   },
   {
    "duration": 134,
    "start_time": "2023-09-09T19:12:25.555Z"
   },
   {
    "duration": 85,
    "start_time": "2023-09-09T19:12:25.691Z"
   },
   {
    "duration": 450,
    "start_time": "2023-09-09T19:12:25.778Z"
   },
   {
    "duration": 470,
    "start_time": "2023-09-09T19:12:26.229Z"
   },
   {
    "duration": 22,
    "start_time": "2023-09-09T19:12:26.700Z"
   },
   {
    "duration": 36,
    "start_time": "2023-09-09T19:12:26.723Z"
   },
   {
    "duration": 20,
    "start_time": "2023-09-09T19:12:26.761Z"
   },
   {
    "duration": 35,
    "start_time": "2023-09-09T19:12:26.783Z"
   },
   {
    "duration": 46,
    "start_time": "2023-09-09T19:12:26.819Z"
   },
   {
    "duration": 124,
    "start_time": "2023-09-09T19:12:26.866Z"
   },
   {
    "duration": 3,
    "start_time": "2023-09-09T19:12:26.991Z"
   },
   {
    "duration": 855,
    "start_time": "2023-09-09T19:12:26.996Z"
   },
   {
    "duration": 2110,
    "start_time": "2023-09-09T19:12:27.853Z"
   },
   {
    "duration": 268,
    "start_time": "2023-09-09T19:12:29.965Z"
   },
   {
    "duration": 45,
    "start_time": "2023-09-09T19:12:30.237Z"
   },
   {
    "duration": 81,
    "start_time": "2023-09-09T19:12:30.283Z"
   },
   {
    "duration": 179,
    "start_time": "2023-09-09T19:12:30.365Z"
   },
   {
    "duration": 47,
    "start_time": "2023-09-09T19:12:30.545Z"
   },
   {
    "duration": 66,
    "start_time": "2023-09-09T19:12:30.594Z"
   },
   {
    "duration": 38,
    "start_time": "2023-09-09T19:12:30.661Z"
   },
   {
    "duration": 74,
    "start_time": "2023-09-09T19:12:30.700Z"
   },
   {
    "duration": 51,
    "start_time": "2023-09-09T19:12:30.775Z"
   },
   {
    "duration": 69,
    "start_time": "2023-09-09T19:12:30.828Z"
   },
   {
    "duration": 278,
    "start_time": "2023-09-09T19:12:30.899Z"
   },
   {
    "duration": 26,
    "start_time": "2023-09-09T19:12:31.179Z"
   },
   {
    "duration": 9,
    "start_time": "2023-09-09T19:12:31.207Z"
   },
   {
    "duration": 80,
    "start_time": "2023-09-09T19:12:31.218Z"
   },
   {
    "duration": 29,
    "start_time": "2023-09-09T19:12:31.300Z"
   },
   {
    "duration": 90,
    "start_time": "2023-09-09T19:12:31.330Z"
   },
   {
    "duration": 3,
    "start_time": "2023-09-09T19:12:31.421Z"
   },
   {
    "duration": 63174,
    "start_time": "2023-09-09T19:12:31.426Z"
   },
   {
    "duration": 637,
    "start_time": "2023-09-09T19:13:34.603Z"
   },
   {
    "duration": 8,
    "start_time": "2023-09-09T19:13:35.242Z"
   },
   {
    "duration": 30,
    "start_time": "2023-09-09T19:13:35.252Z"
   },
   {
    "duration": 187,
    "start_time": "2023-09-09T19:13:35.283Z"
   },
   {
    "duration": 495,
    "start_time": "2023-09-09T19:13:35.472Z"
   },
   {
    "duration": 17,
    "start_time": "2023-09-09T19:13:35.969Z"
   },
   {
    "duration": 7,
    "start_time": "2023-09-09T19:13:35.988Z"
   },
   {
    "duration": 11,
    "start_time": "2023-09-09T19:13:35.996Z"
   },
   {
    "duration": 4,
    "start_time": "2023-09-09T19:13:36.009Z"
   },
   {
    "duration": 241,
    "start_time": "2023-09-09T19:13:36.014Z"
   },
   {
    "duration": 3,
    "start_time": "2023-09-09T19:13:36.258Z"
   },
   {
    "duration": 93,
    "start_time": "2023-09-09T19:13:36.263Z"
   },
   {
    "duration": 21,
    "start_time": "2023-09-09T19:13:36.449Z"
   },
   {
    "duration": 2594,
    "start_time": "2023-09-09T19:13:36.472Z"
   },
   {
    "duration": 3,
    "start_time": "2023-09-09T19:13:39.069Z"
   },
   {
    "duration": 110554,
    "start_time": "2023-09-09T19:13:39.074Z"
   },
   {
    "duration": 2,
    "start_time": "2023-09-09T19:15:29.629Z"
   },
   {
    "duration": 7329,
    "start_time": "2023-09-09T19:15:29.633Z"
   },
   {
    "duration": 11,
    "start_time": "2023-09-09T19:15:36.964Z"
   },
   {
    "duration": 0,
    "start_time": "2023-09-09T19:15:36.977Z"
   },
   {
    "duration": 0,
    "start_time": "2023-09-09T19:15:36.978Z"
   },
   {
    "duration": 1051,
    "start_time": "2023-09-09T19:15:43.807Z"
   },
   {
    "duration": 2,
    "start_time": "2023-09-09T19:15:44.860Z"
   },
   {
    "duration": 17,
    "start_time": "2023-09-09T19:15:44.864Z"
   },
   {
    "duration": 315,
    "start_time": "2023-09-09T19:15:44.883Z"
   },
   {
    "duration": 2053,
    "start_time": "2023-09-09T19:15:45.200Z"
   },
   {
    "duration": 62,
    "start_time": "2023-09-09T19:15:47.255Z"
   },
   {
    "duration": 805,
    "start_time": "2023-09-09T19:15:47.318Z"
   },
   {
    "duration": 3,
    "start_time": "2023-09-09T19:15:48.124Z"
   },
   {
    "duration": 26,
    "start_time": "2023-09-09T19:15:48.128Z"
   },
   {
    "duration": 787,
    "start_time": "2023-09-09T19:15:48.155Z"
   },
   {
    "duration": 3,
    "start_time": "2023-09-09T19:15:48.950Z"
   },
   {
    "duration": 4,
    "start_time": "2023-09-09T19:15:48.955Z"
   },
   {
    "duration": 7,
    "start_time": "2023-09-09T19:15:48.961Z"
   },
   {
    "duration": 144,
    "start_time": "2023-09-09T19:15:48.971Z"
   },
   {
    "duration": 105,
    "start_time": "2023-09-09T19:15:49.117Z"
   },
   {
    "duration": 430,
    "start_time": "2023-09-09T19:15:49.224Z"
   },
   {
    "duration": 441,
    "start_time": "2023-09-09T19:15:49.656Z"
   },
   {
    "duration": 21,
    "start_time": "2023-09-09T19:15:50.099Z"
   },
   {
    "duration": 29,
    "start_time": "2023-09-09T19:15:50.122Z"
   },
   {
    "duration": 20,
    "start_time": "2023-09-09T19:15:50.153Z"
   },
   {
    "duration": 21,
    "start_time": "2023-09-09T19:15:50.175Z"
   },
   {
    "duration": 23,
    "start_time": "2023-09-09T19:15:50.197Z"
   },
   {
    "duration": 144,
    "start_time": "2023-09-09T19:15:50.221Z"
   },
   {
    "duration": 3,
    "start_time": "2023-09-09T19:15:50.367Z"
   },
   {
    "duration": 878,
    "start_time": "2023-09-09T19:15:50.372Z"
   },
   {
    "duration": 2173,
    "start_time": "2023-09-09T19:15:51.251Z"
   },
   {
    "duration": 268,
    "start_time": "2023-09-09T19:15:53.426Z"
   },
   {
    "duration": 44,
    "start_time": "2023-09-09T19:15:53.696Z"
   },
   {
    "duration": 9,
    "start_time": "2023-09-09T19:15:53.741Z"
   },
   {
    "duration": 27,
    "start_time": "2023-09-09T19:15:53.751Z"
   },
   {
    "duration": 8,
    "start_time": "2023-09-09T19:15:53.779Z"
   },
   {
    "duration": 9,
    "start_time": "2023-09-09T19:15:53.788Z"
   },
   {
    "duration": 2,
    "start_time": "2023-09-09T19:15:53.798Z"
   },
   {
    "duration": 48,
    "start_time": "2023-09-09T19:15:53.802Z"
   },
   {
    "duration": 12,
    "start_time": "2023-09-09T19:15:53.852Z"
   },
   {
    "duration": 14,
    "start_time": "2023-09-09T19:15:53.866Z"
   },
   {
    "duration": 217,
    "start_time": "2023-09-09T19:15:53.882Z"
   },
   {
    "duration": 34,
    "start_time": "2023-09-09T19:15:54.100Z"
   },
   {
    "duration": 3,
    "start_time": "2023-09-09T19:15:54.135Z"
   },
   {
    "duration": 31,
    "start_time": "2023-09-09T19:15:54.139Z"
   },
   {
    "duration": 3,
    "start_time": "2023-09-09T19:15:54.173Z"
   },
   {
    "duration": 78,
    "start_time": "2023-09-09T19:15:54.178Z"
   },
   {
    "duration": 3,
    "start_time": "2023-09-09T19:15:54.257Z"
   },
   {
    "duration": 62994,
    "start_time": "2023-09-09T19:15:54.261Z"
   },
   {
    "duration": 1122,
    "start_time": "2023-09-09T19:16:57.256Z"
   },
   {
    "duration": 2,
    "start_time": "2023-09-09T19:16:58.380Z"
   },
   {
    "duration": 13,
    "start_time": "2023-09-09T19:16:58.383Z"
   },
   {
    "duration": 452,
    "start_time": "2023-09-09T19:16:58.398Z"
   },
   {
    "duration": 520,
    "start_time": "2023-09-09T19:16:58.852Z"
   },
   {
    "duration": 12,
    "start_time": "2023-09-09T19:16:59.373Z"
   },
   {
    "duration": 14,
    "start_time": "2023-09-09T19:16:59.386Z"
   },
   {
    "duration": 36,
    "start_time": "2023-09-09T19:16:59.401Z"
   },
   {
    "duration": 5,
    "start_time": "2023-09-09T19:16:59.438Z"
   },
   {
    "duration": 216,
    "start_time": "2023-09-09T19:16:59.444Z"
   },
   {
    "duration": 89,
    "start_time": "2023-09-09T19:16:59.665Z"
   },
   {
    "duration": 4,
    "start_time": "2023-09-09T19:16:59.756Z"
   },
   {
    "duration": 12,
    "start_time": "2023-09-09T19:16:59.850Z"
   },
   {
    "duration": 2487,
    "start_time": "2023-09-09T19:16:59.863Z"
   },
   {
    "duration": 3,
    "start_time": "2023-09-09T19:17:02.352Z"
   },
   {
    "duration": 110936,
    "start_time": "2023-09-09T19:17:02.357Z"
   },
   {
    "duration": 3,
    "start_time": "2023-09-09T19:18:53.294Z"
   },
   {
    "duration": 12,
    "start_time": "2023-09-09T19:19:29.025Z"
   },
   {
    "duration": 3,
    "start_time": "2023-09-09T19:27:47.172Z"
   },
   {
    "duration": 65,
    "start_time": "2023-09-09T19:28:19.851Z"
   },
   {
    "duration": 473242,
    "start_time": "2023-09-09T19:32:06.855Z"
   },
   {
    "duration": 473185,
    "start_time": "2023-09-09T19:40:00.099Z"
   },
   {
    "duration": 3,
    "start_time": "2023-09-09T20:02:15.210Z"
   },
   {
    "duration": 121,
    "start_time": "2023-09-09T20:02:21.542Z"
   },
   {
    "duration": 2629,
    "start_time": "2023-09-09T20:02:40.364Z"
   },
   {
    "duration": 2,
    "start_time": "2023-09-09T20:02:55.199Z"
   },
   {
    "duration": 2651,
    "start_time": "2023-09-09T20:02:55.359Z"
   },
   {
    "duration": 88,
    "start_time": "2023-09-09T20:04:16.282Z"
   },
   {
    "duration": 1111,
    "start_time": "2023-09-09T20:14:44.142Z"
   },
   {
    "duration": 2,
    "start_time": "2023-09-09T20:14:45.254Z"
   },
   {
    "duration": 8,
    "start_time": "2023-09-09T20:14:45.257Z"
   },
   {
    "duration": 280,
    "start_time": "2023-09-09T20:14:45.266Z"
   },
   {
    "duration": 2061,
    "start_time": "2023-09-09T20:14:45.548Z"
   },
   {
    "duration": 60,
    "start_time": "2023-09-09T20:14:47.611Z"
   },
   {
    "duration": 822,
    "start_time": "2023-09-09T20:14:47.672Z"
   },
   {
    "duration": 3,
    "start_time": "2023-09-09T20:14:48.495Z"
   },
   {
    "duration": 17,
    "start_time": "2023-09-09T20:14:48.500Z"
   },
   {
    "duration": 843,
    "start_time": "2023-09-09T20:14:48.518Z"
   },
   {
    "duration": 4,
    "start_time": "2023-09-09T20:14:49.362Z"
   },
   {
    "duration": 5,
    "start_time": "2023-09-09T20:14:49.367Z"
   },
   {
    "duration": 6,
    "start_time": "2023-09-09T20:14:49.373Z"
   },
   {
    "duration": 146,
    "start_time": "2023-09-09T20:14:49.381Z"
   },
   {
    "duration": 90,
    "start_time": "2023-09-09T20:14:49.529Z"
   },
   {
    "duration": 397,
    "start_time": "2023-09-09T20:14:49.620Z"
   },
   {
    "duration": 435,
    "start_time": "2023-09-09T20:14:50.019Z"
   },
   {
    "duration": 27,
    "start_time": "2023-09-09T20:14:50.456Z"
   },
   {
    "duration": 20,
    "start_time": "2023-09-09T20:14:50.485Z"
   },
   {
    "duration": 29,
    "start_time": "2023-09-09T20:14:50.507Z"
   },
   {
    "duration": 30,
    "start_time": "2023-09-09T20:14:50.538Z"
   },
   {
    "duration": 30,
    "start_time": "2023-09-09T20:14:50.570Z"
   },
   {
    "duration": 120,
    "start_time": "2023-09-09T20:14:50.601Z"
   },
   {
    "duration": 2,
    "start_time": "2023-09-09T20:14:50.722Z"
   },
   {
    "duration": 853,
    "start_time": "2023-09-09T20:14:50.726Z"
   },
   {
    "duration": 2131,
    "start_time": "2023-09-09T20:14:51.581Z"
   },
   {
    "duration": 270,
    "start_time": "2023-09-09T20:14:53.713Z"
   },
   {
    "duration": 44,
    "start_time": "2023-09-09T20:14:53.984Z"
   },
   {
    "duration": 2,
    "start_time": "2023-09-09T20:14:54.030Z"
   },
   {
    "duration": 30,
    "start_time": "2023-09-09T20:14:54.034Z"
   },
   {
    "duration": 3,
    "start_time": "2023-09-09T20:14:54.065Z"
   },
   {
    "duration": 16,
    "start_time": "2023-09-09T20:14:54.069Z"
   },
   {
    "duration": 2,
    "start_time": "2023-09-09T20:14:54.087Z"
   },
   {
    "duration": 32,
    "start_time": "2023-09-09T20:14:54.091Z"
   },
   {
    "duration": 25,
    "start_time": "2023-09-09T20:14:54.125Z"
   },
   {
    "duration": 19,
    "start_time": "2023-09-09T20:14:54.152Z"
   },
   {
    "duration": 222,
    "start_time": "2023-09-09T20:14:54.173Z"
   },
   {
    "duration": 25,
    "start_time": "2023-09-09T20:14:54.397Z"
   },
   {
    "duration": 2,
    "start_time": "2023-09-09T20:14:54.424Z"
   },
   {
    "duration": 31,
    "start_time": "2023-09-09T20:14:54.428Z"
   },
   {
    "duration": 3,
    "start_time": "2023-09-09T20:14:54.463Z"
   },
   {
    "duration": 88,
    "start_time": "2023-09-09T20:14:54.468Z"
   },
   {
    "duration": 3,
    "start_time": "2023-09-09T20:14:54.557Z"
   },
   {
    "duration": 63827,
    "start_time": "2023-09-09T20:14:54.561Z"
   },
   {
    "duration": 554,
    "start_time": "2023-09-09T20:15:58.390Z"
   },
   {
    "duration": 7,
    "start_time": "2023-09-09T20:15:58.945Z"
   },
   {
    "duration": 17,
    "start_time": "2023-09-09T20:15:58.953Z"
   },
   {
    "duration": 215,
    "start_time": "2023-09-09T20:15:58.971Z"
   },
   {
    "duration": 467,
    "start_time": "2023-09-09T20:15:59.188Z"
   },
   {
    "duration": 12,
    "start_time": "2023-09-09T20:15:59.656Z"
   },
   {
    "duration": 14,
    "start_time": "2023-09-09T20:15:59.669Z"
   },
   {
    "duration": 7,
    "start_time": "2023-09-09T20:15:59.684Z"
   },
   {
    "duration": 22,
    "start_time": "2023-09-09T20:15:59.692Z"
   },
   {
    "duration": 237,
    "start_time": "2023-09-09T20:15:59.715Z"
   },
   {
    "duration": 97,
    "start_time": "2023-09-09T20:15:59.955Z"
   },
   {
    "duration": 4,
    "start_time": "2023-09-09T20:16:00.055Z"
   },
   {
    "duration": 100,
    "start_time": "2023-09-09T20:16:00.061Z"
   },
   {
    "duration": 2560,
    "start_time": "2023-09-09T20:16:00.163Z"
   },
   {
    "duration": 2,
    "start_time": "2023-09-09T20:16:02.725Z"
   },
   {
    "duration": 112839,
    "start_time": "2023-09-09T20:16:02.729Z"
   },
   {
    "duration": 2,
    "start_time": "2023-09-09T20:17:55.570Z"
   },
   {
    "duration": 612087,
    "start_time": "2023-09-09T20:17:55.574Z"
   },
   {
    "duration": 65233,
    "start_time": "2023-09-09T20:32:02.972Z"
   },
   {
    "duration": 174,
    "start_time": "2023-09-09T20:33:13.024Z"
   },
   {
    "duration": 9,
    "start_time": "2023-09-09T20:33:14.503Z"
   },
   {
    "duration": 1169,
    "start_time": "2023-09-09T20:35:35.698Z"
   },
   {
    "duration": 2,
    "start_time": "2023-09-09T20:35:36.869Z"
   },
   {
    "duration": 22,
    "start_time": "2023-09-09T20:35:36.872Z"
   },
   {
    "duration": 284,
    "start_time": "2023-09-09T20:35:36.896Z"
   },
   {
    "duration": 2066,
    "start_time": "2023-09-09T20:35:37.182Z"
   },
   {
    "duration": 62,
    "start_time": "2023-09-09T20:35:39.251Z"
   },
   {
    "duration": 792,
    "start_time": "2023-09-09T20:35:39.314Z"
   },
   {
    "duration": 2,
    "start_time": "2023-09-09T20:35:40.108Z"
   },
   {
    "duration": 20,
    "start_time": "2023-09-09T20:35:40.112Z"
   },
   {
    "duration": 780,
    "start_time": "2023-09-09T20:35:40.135Z"
   },
   {
    "duration": 4,
    "start_time": "2023-09-09T20:35:40.916Z"
   },
   {
    "duration": 6,
    "start_time": "2023-09-09T20:35:40.922Z"
   },
   {
    "duration": 20,
    "start_time": "2023-09-09T20:35:40.930Z"
   },
   {
    "duration": 133,
    "start_time": "2023-09-09T20:35:40.952Z"
   },
   {
    "duration": 93,
    "start_time": "2023-09-09T20:35:41.086Z"
   },
   {
    "duration": 440,
    "start_time": "2023-09-09T20:35:41.180Z"
   },
   {
    "duration": 448,
    "start_time": "2023-09-09T20:35:41.622Z"
   },
   {
    "duration": 22,
    "start_time": "2023-09-09T20:35:42.072Z"
   },
   {
    "duration": 29,
    "start_time": "2023-09-09T20:35:42.095Z"
   },
   {
    "duration": 29,
    "start_time": "2023-09-09T20:35:42.125Z"
   },
   {
    "duration": 31,
    "start_time": "2023-09-09T20:35:42.155Z"
   },
   {
    "duration": 21,
    "start_time": "2023-09-09T20:35:42.188Z"
   },
   {
    "duration": 136,
    "start_time": "2023-09-09T20:35:42.210Z"
   },
   {
    "duration": 3,
    "start_time": "2023-09-09T20:35:42.348Z"
   },
   {
    "duration": 875,
    "start_time": "2023-09-09T20:35:42.353Z"
   },
   {
    "duration": 2212,
    "start_time": "2023-09-09T20:35:43.230Z"
   },
   {
    "duration": 270,
    "start_time": "2023-09-09T20:35:45.444Z"
   },
   {
    "duration": 48,
    "start_time": "2023-09-09T20:35:45.717Z"
   },
   {
    "duration": 3,
    "start_time": "2023-09-09T20:35:45.766Z"
   },
   {
    "duration": 55,
    "start_time": "2023-09-09T20:35:45.770Z"
   },
   {
    "duration": 47,
    "start_time": "2023-09-09T20:35:45.826Z"
   },
   {
    "duration": 33,
    "start_time": "2023-09-09T20:35:45.874Z"
   },
   {
    "duration": 33,
    "start_time": "2023-09-09T20:35:45.908Z"
   },
   {
    "duration": 62,
    "start_time": "2023-09-09T20:35:45.944Z"
   },
   {
    "duration": 16,
    "start_time": "2023-09-09T20:35:46.008Z"
   },
   {
    "duration": 44,
    "start_time": "2023-09-09T20:35:46.025Z"
   },
   {
    "duration": 237,
    "start_time": "2023-09-09T20:35:46.070Z"
   },
   {
    "duration": 50,
    "start_time": "2023-09-09T20:35:46.308Z"
   },
   {
    "duration": 2,
    "start_time": "2023-09-09T20:35:46.360Z"
   },
   {
    "duration": 64,
    "start_time": "2023-09-09T20:35:46.364Z"
   },
   {
    "duration": 7,
    "start_time": "2023-09-09T20:35:46.431Z"
   },
   {
    "duration": 115,
    "start_time": "2023-09-09T20:35:46.440Z"
   },
   {
    "duration": 4,
    "start_time": "2023-09-09T20:35:46.556Z"
   },
   {
    "duration": 61022,
    "start_time": "2023-09-09T20:35:46.561Z"
   },
   {
    "duration": 570,
    "start_time": "2023-09-09T20:36:47.585Z"
   },
   {
    "duration": 2,
    "start_time": "2023-09-09T20:36:48.157Z"
   },
   {
    "duration": 8,
    "start_time": "2023-09-09T20:36:48.161Z"
   },
   {
    "duration": 195,
    "start_time": "2023-09-09T20:36:48.170Z"
   },
   {
    "duration": 480,
    "start_time": "2023-09-09T20:36:48.367Z"
   },
   {
    "duration": 11,
    "start_time": "2023-09-09T20:36:48.850Z"
   },
   {
    "duration": 3,
    "start_time": "2023-09-09T20:36:48.863Z"
   },
   {
    "duration": 8,
    "start_time": "2023-09-09T20:36:48.867Z"
   },
   {
    "duration": 8,
    "start_time": "2023-09-09T20:36:48.876Z"
   },
   {
    "duration": 267,
    "start_time": "2023-09-09T20:36:48.885Z"
   },
   {
    "duration": 3,
    "start_time": "2023-09-09T20:36:49.153Z"
   },
   {
    "duration": 7,
    "start_time": "2023-09-09T20:36:49.158Z"
   },
   {
    "duration": 6,
    "start_time": "2023-09-09T20:36:49.166Z"
   },
   {
    "duration": 2526,
    "start_time": "2023-09-09T20:36:49.173Z"
   },
   {
    "duration": 3,
    "start_time": "2023-09-09T20:36:51.700Z"
   },
   {
    "duration": 111146,
    "start_time": "2023-09-09T20:36:51.705Z"
   },
   {
    "duration": 2,
    "start_time": "2023-09-09T20:38:42.853Z"
   },
   {
    "duration": 751819,
    "start_time": "2023-09-09T20:38:42.857Z"
   },
   {
    "duration": 12,
    "start_time": "2023-09-09T20:51:14.677Z"
   },
   {
    "duration": 0,
    "start_time": "2023-09-09T20:51:14.690Z"
   },
   {
    "duration": 0,
    "start_time": "2023-09-09T20:51:14.691Z"
   },
   {
    "duration": 2955,
    "start_time": "2023-09-09T20:51:38.428Z"
   },
   {
    "duration": 1100,
    "start_time": "2023-09-09T20:51:46.448Z"
   },
   {
    "duration": 2,
    "start_time": "2023-09-09T20:51:47.549Z"
   },
   {
    "duration": 7,
    "start_time": "2023-09-09T20:51:47.553Z"
   },
   {
    "duration": 290,
    "start_time": "2023-09-09T20:51:47.562Z"
   },
   {
    "duration": 2008,
    "start_time": "2023-09-09T20:51:47.853Z"
   },
   {
    "duration": 69,
    "start_time": "2023-09-09T20:51:49.863Z"
   },
   {
    "duration": 794,
    "start_time": "2023-09-09T20:51:49.934Z"
   },
   {
    "duration": 3,
    "start_time": "2023-09-09T20:51:50.729Z"
   },
   {
    "duration": 32,
    "start_time": "2023-09-09T20:51:50.734Z"
   },
   {
    "duration": 780,
    "start_time": "2023-09-09T20:51:50.769Z"
   },
   {
    "duration": 4,
    "start_time": "2023-09-09T20:51:51.551Z"
   },
   {
    "duration": 9,
    "start_time": "2023-09-09T20:51:51.556Z"
   },
   {
    "duration": 25,
    "start_time": "2023-09-09T20:51:51.566Z"
   },
   {
    "duration": 136,
    "start_time": "2023-09-09T20:51:51.592Z"
   },
   {
    "duration": 89,
    "start_time": "2023-09-09T20:51:51.729Z"
   },
   {
    "duration": 411,
    "start_time": "2023-09-09T20:51:51.820Z"
   },
   {
    "duration": 394,
    "start_time": "2023-09-09T20:51:52.233Z"
   },
   {
    "duration": 22,
    "start_time": "2023-09-09T20:51:52.628Z"
   },
   {
    "duration": 22,
    "start_time": "2023-09-09T20:51:52.651Z"
   },
   {
    "duration": 37,
    "start_time": "2023-09-09T20:51:52.674Z"
   },
   {
    "duration": 31,
    "start_time": "2023-09-09T20:51:52.712Z"
   },
   {
    "duration": 26,
    "start_time": "2023-09-09T20:51:52.745Z"
   },
   {
    "duration": 117,
    "start_time": "2023-09-09T20:51:52.772Z"
   },
   {
    "duration": 2,
    "start_time": "2023-09-09T20:51:52.891Z"
   },
   {
    "duration": 837,
    "start_time": "2023-09-09T20:51:52.894Z"
   },
   {
    "duration": 2116,
    "start_time": "2023-09-09T20:51:53.733Z"
   },
   {
    "duration": 362,
    "start_time": "2023-09-09T20:51:55.851Z"
   },
   {
    "duration": 56,
    "start_time": "2023-09-09T20:51:56.217Z"
   },
   {
    "duration": 3,
    "start_time": "2023-09-09T20:51:56.275Z"
   },
   {
    "duration": 20,
    "start_time": "2023-09-09T20:51:56.279Z"
   },
   {
    "duration": 3,
    "start_time": "2023-09-09T20:51:56.300Z"
   },
   {
    "duration": 12,
    "start_time": "2023-09-09T20:51:56.305Z"
   },
   {
    "duration": 3,
    "start_time": "2023-09-09T20:51:56.318Z"
   },
   {
    "duration": 81,
    "start_time": "2023-09-09T20:51:56.322Z"
   },
   {
    "duration": 14,
    "start_time": "2023-09-09T20:51:56.405Z"
   },
   {
    "duration": 18,
    "start_time": "2023-09-09T20:51:56.420Z"
   },
   {
    "duration": 214,
    "start_time": "2023-09-09T20:51:56.440Z"
   },
   {
    "duration": 30,
    "start_time": "2023-09-09T20:51:56.656Z"
   },
   {
    "duration": 2,
    "start_time": "2023-09-09T20:51:56.688Z"
   },
   {
    "duration": 20,
    "start_time": "2023-09-09T20:51:56.692Z"
   },
   {
    "duration": 2,
    "start_time": "2023-09-09T20:51:56.713Z"
   },
   {
    "duration": 79,
    "start_time": "2023-09-09T20:51:56.717Z"
   },
   {
    "duration": 3,
    "start_time": "2023-09-09T20:51:56.798Z"
   },
   {
    "duration": 33804,
    "start_time": "2023-09-09T20:51:56.802Z"
   },
   {
    "duration": 374,
    "start_time": "2023-09-09T20:52:30.607Z"
   },
   {
    "duration": 0,
    "start_time": "2023-09-09T20:52:30.982Z"
   },
   {
    "duration": 0,
    "start_time": "2023-09-09T20:52:30.984Z"
   },
   {
    "duration": 0,
    "start_time": "2023-09-09T20:52:30.985Z"
   },
   {
    "duration": 0,
    "start_time": "2023-09-09T20:52:30.986Z"
   },
   {
    "duration": 0,
    "start_time": "2023-09-09T20:52:30.987Z"
   },
   {
    "duration": 0,
    "start_time": "2023-09-09T20:52:30.988Z"
   },
   {
    "duration": 0,
    "start_time": "2023-09-09T20:52:30.989Z"
   },
   {
    "duration": 0,
    "start_time": "2023-09-09T20:52:30.990Z"
   },
   {
    "duration": 0,
    "start_time": "2023-09-09T20:52:30.991Z"
   },
   {
    "duration": 0,
    "start_time": "2023-09-09T20:52:30.992Z"
   },
   {
    "duration": 0,
    "start_time": "2023-09-09T20:52:30.993Z"
   },
   {
    "duration": 0,
    "start_time": "2023-09-09T20:52:30.994Z"
   },
   {
    "duration": 0,
    "start_time": "2023-09-09T20:52:30.995Z"
   },
   {
    "duration": 0,
    "start_time": "2023-09-09T20:52:30.996Z"
   },
   {
    "duration": 0,
    "start_time": "2023-09-09T20:52:30.997Z"
   },
   {
    "duration": 0,
    "start_time": "2023-09-09T20:52:30.998Z"
   },
   {
    "duration": 0,
    "start_time": "2023-09-09T20:52:30.999Z"
   },
   {
    "duration": 0,
    "start_time": "2023-09-09T20:52:31.000Z"
   },
   {
    "duration": 0,
    "start_time": "2023-09-09T20:52:31.001Z"
   },
   {
    "duration": 0,
    "start_time": "2023-09-09T20:52:31.002Z"
   },
   {
    "duration": 1143,
    "start_time": "2023-09-09T20:53:02.335Z"
   },
   {
    "duration": 3,
    "start_time": "2023-09-09T20:53:03.480Z"
   },
   {
    "duration": 12,
    "start_time": "2023-09-09T20:53:03.485Z"
   },
   {
    "duration": 303,
    "start_time": "2023-09-09T20:53:03.499Z"
   },
   {
    "duration": 2058,
    "start_time": "2023-09-09T20:53:03.804Z"
   },
   {
    "duration": 60,
    "start_time": "2023-09-09T20:53:05.864Z"
   },
   {
    "duration": 856,
    "start_time": "2023-09-09T20:53:05.926Z"
   },
   {
    "duration": 2,
    "start_time": "2023-09-09T20:53:06.784Z"
   },
   {
    "duration": 18,
    "start_time": "2023-09-09T20:53:06.788Z"
   },
   {
    "duration": 810,
    "start_time": "2023-09-09T20:53:06.808Z"
   },
   {
    "duration": 5,
    "start_time": "2023-09-09T20:53:07.620Z"
   },
   {
    "duration": 8,
    "start_time": "2023-09-09T20:53:07.627Z"
   },
   {
    "duration": 18,
    "start_time": "2023-09-09T20:53:07.636Z"
   },
   {
    "duration": 168,
    "start_time": "2023-09-09T20:53:07.661Z"
   },
   {
    "duration": 102,
    "start_time": "2023-09-09T20:53:07.830Z"
   },
   {
    "duration": 455,
    "start_time": "2023-09-09T20:53:07.934Z"
   },
   {
    "duration": 502,
    "start_time": "2023-09-09T20:53:08.390Z"
   },
   {
    "duration": 22,
    "start_time": "2023-09-09T20:53:08.894Z"
   },
   {
    "duration": 19,
    "start_time": "2023-09-09T20:53:08.917Z"
   },
   {
    "duration": 20,
    "start_time": "2023-09-09T20:53:08.950Z"
   },
   {
    "duration": 22,
    "start_time": "2023-09-09T20:53:08.971Z"
   },
   {
    "duration": 26,
    "start_time": "2023-09-09T20:53:08.995Z"
   },
   {
    "duration": 155,
    "start_time": "2023-09-09T20:53:09.023Z"
   },
   {
    "duration": 2,
    "start_time": "2023-09-09T20:53:09.180Z"
   },
   {
    "duration": 897,
    "start_time": "2023-09-09T20:53:09.184Z"
   },
   {
    "duration": 2182,
    "start_time": "2023-09-09T20:53:10.083Z"
   },
   {
    "duration": 275,
    "start_time": "2023-09-09T20:53:12.267Z"
   },
   {
    "duration": 44,
    "start_time": "2023-09-09T20:53:12.543Z"
   },
   {
    "duration": 2,
    "start_time": "2023-09-09T20:53:12.589Z"
   },
   {
    "duration": 27,
    "start_time": "2023-09-09T20:53:12.592Z"
   },
   {
    "duration": 4,
    "start_time": "2023-09-09T20:53:12.621Z"
   },
   {
    "duration": 27,
    "start_time": "2023-09-09T20:53:12.626Z"
   },
   {
    "duration": 2,
    "start_time": "2023-09-09T20:53:12.654Z"
   },
   {
    "duration": 38,
    "start_time": "2023-09-09T20:53:12.658Z"
   },
   {
    "duration": 12,
    "start_time": "2023-09-09T20:53:12.698Z"
   },
   {
    "duration": 41,
    "start_time": "2023-09-09T20:53:12.712Z"
   },
   {
    "duration": 223,
    "start_time": "2023-09-09T20:53:12.755Z"
   },
   {
    "duration": 35,
    "start_time": "2023-09-09T20:53:12.980Z"
   },
   {
    "duration": 13,
    "start_time": "2023-09-09T20:53:13.017Z"
   },
   {
    "duration": 67,
    "start_time": "2023-09-09T20:53:13.031Z"
   },
   {
    "duration": 27,
    "start_time": "2023-09-09T20:53:13.102Z"
   },
   {
    "duration": 70,
    "start_time": "2023-09-09T20:53:13.130Z"
   },
   {
    "duration": 2,
    "start_time": "2023-09-09T20:53:13.202Z"
   },
   {
    "duration": 66498,
    "start_time": "2023-09-09T20:53:13.205Z"
   },
   {
    "duration": 588,
    "start_time": "2023-09-09T20:54:19.704Z"
   },
   {
    "duration": 3,
    "start_time": "2023-09-09T20:54:20.294Z"
   },
   {
    "duration": 7,
    "start_time": "2023-09-09T20:54:20.299Z"
   },
   {
    "duration": 191,
    "start_time": "2023-09-09T20:54:20.308Z"
   },
   {
    "duration": 492,
    "start_time": "2023-09-09T20:54:20.501Z"
   },
   {
    "duration": 11,
    "start_time": "2023-09-09T20:54:20.995Z"
   },
   {
    "duration": 17,
    "start_time": "2023-09-09T20:54:21.007Z"
   },
   {
    "duration": 5,
    "start_time": "2023-09-09T20:54:21.026Z"
   },
   {
    "duration": 6,
    "start_time": "2023-09-09T20:54:21.032Z"
   },
   {
    "duration": 216,
    "start_time": "2023-09-09T20:54:21.040Z"
   },
   {
    "duration": 3,
    "start_time": "2023-09-09T20:54:21.258Z"
   },
   {
    "duration": 87,
    "start_time": "2023-09-09T20:54:21.264Z"
   },
   {
    "duration": 11,
    "start_time": "2023-09-09T20:54:21.353Z"
   },
   {
    "duration": 2406,
    "start_time": "2023-09-09T20:54:21.450Z"
   },
   {
    "duration": 4,
    "start_time": "2023-09-09T20:54:23.857Z"
   },
   {
    "duration": 110188,
    "start_time": "2023-09-09T20:54:23.862Z"
   },
   {
    "duration": 2,
    "start_time": "2023-09-09T20:56:14.052Z"
   },
   {
    "duration": 231992,
    "start_time": "2023-09-09T20:56:14.056Z"
   },
   {
    "duration": 65415,
    "start_time": "2023-09-09T21:00:06.050Z"
   },
   {
    "duration": 156,
    "start_time": "2023-09-09T21:01:11.467Z"
   },
   {
    "duration": 11,
    "start_time": "2023-09-09T21:01:11.625Z"
   },
   {
    "duration": 190201,
    "start_time": "2023-09-09T21:04:37.062Z"
   },
   {
    "duration": 5558,
    "start_time": "2023-09-09T21:09:02.308Z"
   },
   {
    "duration": 490,
    "start_time": "2023-09-09T21:09:22.163Z"
   },
   {
    "duration": 9,
    "start_time": "2023-09-09T21:09:23.120Z"
   },
   {
    "duration": 187,
    "start_time": "2023-09-09T21:10:19.270Z"
   },
   {
    "duration": 83,
    "start_time": "2023-09-09T21:10:25.373Z"
   },
   {
    "duration": 180130,
    "start_time": "2023-09-09T21:10:36.232Z"
   },
   {
    "duration": 8794,
    "start_time": "2023-09-09T21:13:58.066Z"
   },
   {
    "duration": 705,
    "start_time": "2023-09-09T21:14:06.863Z"
   },
   {
    "duration": 10,
    "start_time": "2023-09-09T21:14:07.569Z"
   },
   {
    "duration": 6761,
    "start_time": "2023-09-09T21:14:52.508Z"
   },
   {
    "duration": 803,
    "start_time": "2023-09-09T21:14:59.271Z"
   },
   {
    "duration": 0,
    "start_time": "2023-09-09T21:15:00.076Z"
   },
   {
    "duration": 1187707,
    "start_time": "2023-09-09T21:17:05.214Z"
   },
   {
    "duration": 37106,
    "start_time": "2023-09-09T21:36:52.924Z"
   },
   {
    "duration": 153,
    "start_time": "2023-09-09T21:37:30.032Z"
   },
   {
    "duration": 514,
    "start_time": "2023-09-09T21:37:30.187Z"
   },
   {
    "duration": 517545,
    "start_time": "2023-09-09T21:38:02.045Z"
   },
   {
    "duration": 29363,
    "start_time": "2023-09-09T21:46:39.591Z"
   },
   {
    "duration": 155,
    "start_time": "2023-09-09T21:47:08.956Z"
   },
   {
    "duration": 10,
    "start_time": "2023-09-09T21:47:42.655Z"
   },
   {
    "duration": 1242,
    "start_time": "2023-09-09T22:04:26.497Z"
   },
   {
    "duration": 2,
    "start_time": "2023-09-09T22:04:27.741Z"
   },
   {
    "duration": 26,
    "start_time": "2023-09-09T22:04:27.744Z"
   },
   {
    "duration": 293,
    "start_time": "2023-09-09T22:04:27.771Z"
   },
   {
    "duration": 2134,
    "start_time": "2023-09-09T22:04:28.066Z"
   },
   {
    "duration": 68,
    "start_time": "2023-09-09T22:04:30.202Z"
   },
   {
    "duration": 896,
    "start_time": "2023-09-09T22:04:30.272Z"
   },
   {
    "duration": 4,
    "start_time": "2023-09-09T22:04:31.169Z"
   },
   {
    "duration": 101,
    "start_time": "2023-09-09T22:04:31.174Z"
   },
   {
    "duration": 961,
    "start_time": "2023-09-09T22:04:31.276Z"
   },
   {
    "duration": 4,
    "start_time": "2023-09-09T22:04:32.239Z"
   },
   {
    "duration": 9,
    "start_time": "2023-09-09T22:04:32.245Z"
   },
   {
    "duration": 27,
    "start_time": "2023-09-09T22:04:32.256Z"
   },
   {
    "duration": 150,
    "start_time": "2023-09-09T22:04:32.286Z"
   },
   {
    "duration": 111,
    "start_time": "2023-09-09T22:04:32.438Z"
   },
   {
    "duration": 475,
    "start_time": "2023-09-09T22:04:32.551Z"
   },
   {
    "duration": 476,
    "start_time": "2023-09-09T22:04:33.027Z"
   },
   {
    "duration": 22,
    "start_time": "2023-09-09T22:04:33.505Z"
   },
   {
    "duration": 25,
    "start_time": "2023-09-09T22:04:33.528Z"
   },
   {
    "duration": 20,
    "start_time": "2023-09-09T22:04:33.554Z"
   },
   {
    "duration": 22,
    "start_time": "2023-09-09T22:04:33.576Z"
   },
   {
    "duration": 198,
    "start_time": "2023-09-09T22:04:33.600Z"
   },
   {
    "duration": 165,
    "start_time": "2023-09-09T22:04:33.799Z"
   },
   {
    "duration": 2,
    "start_time": "2023-09-09T22:04:33.966Z"
   },
   {
    "duration": 944,
    "start_time": "2023-09-09T22:04:33.969Z"
   },
   {
    "duration": 2418,
    "start_time": "2023-09-09T22:04:34.914Z"
   },
   {
    "duration": 282,
    "start_time": "2023-09-09T22:04:37.334Z"
   },
   {
    "duration": 54,
    "start_time": "2023-09-09T22:04:37.618Z"
   },
   {
    "duration": 3,
    "start_time": "2023-09-09T22:04:37.674Z"
   },
   {
    "duration": 33,
    "start_time": "2023-09-09T22:04:37.679Z"
   },
   {
    "duration": 17,
    "start_time": "2023-09-09T22:04:37.714Z"
   },
   {
    "duration": 23,
    "start_time": "2023-09-09T22:04:37.732Z"
   },
   {
    "duration": 13,
    "start_time": "2023-09-09T22:04:37.756Z"
   },
   {
    "duration": 47,
    "start_time": "2023-09-09T22:04:37.770Z"
   },
   {
    "duration": 13,
    "start_time": "2023-09-09T22:04:37.819Z"
   },
   {
    "duration": 39,
    "start_time": "2023-09-09T22:04:37.833Z"
   },
   {
    "duration": 230,
    "start_time": "2023-09-09T22:04:37.874Z"
   },
   {
    "duration": 46,
    "start_time": "2023-09-09T22:04:38.105Z"
   },
   {
    "duration": 2,
    "start_time": "2023-09-09T22:04:38.153Z"
   },
   {
    "duration": 33,
    "start_time": "2023-09-09T22:04:38.157Z"
   },
   {
    "duration": 3,
    "start_time": "2023-09-09T22:04:38.194Z"
   },
   {
    "duration": 90,
    "start_time": "2023-09-09T22:04:38.198Z"
   },
   {
    "duration": 2,
    "start_time": "2023-09-09T22:04:38.290Z"
   },
   {
    "duration": 88815,
    "start_time": "2023-09-09T22:04:38.294Z"
   },
   {
    "duration": 606,
    "start_time": "2023-09-09T22:06:07.110Z"
   },
   {
    "duration": 2,
    "start_time": "2023-09-09T22:06:07.718Z"
   },
   {
    "duration": 6,
    "start_time": "2023-09-09T22:06:07.722Z"
   },
   {
    "duration": 226,
    "start_time": "2023-09-09T22:06:07.730Z"
   },
   {
    "duration": 526,
    "start_time": "2023-09-09T22:06:07.958Z"
   },
   {
    "duration": 14,
    "start_time": "2023-09-09T22:06:08.486Z"
   },
   {
    "duration": 25,
    "start_time": "2023-09-09T22:06:08.502Z"
   },
   {
    "duration": 14,
    "start_time": "2023-09-09T22:06:08.528Z"
   },
   {
    "duration": 34,
    "start_time": "2023-09-09T22:06:08.543Z"
   },
   {
    "duration": 275,
    "start_time": "2023-09-09T22:06:08.578Z"
   },
   {
    "duration": 93,
    "start_time": "2023-09-09T22:06:08.856Z"
   },
   {
    "duration": 3,
    "start_time": "2023-09-09T22:06:08.950Z"
   },
   {
    "duration": 25,
    "start_time": "2023-09-09T22:06:08.955Z"
   },
   {
    "duration": 2445,
    "start_time": "2023-09-09T22:06:08.981Z"
   },
   {
    "duration": 2,
    "start_time": "2023-09-09T22:06:11.428Z"
   },
   {
    "duration": 13,
    "start_time": "2023-09-09T22:06:11.432Z"
   },
   {
    "duration": 10,
    "start_time": "2023-09-09T22:06:11.446Z"
   },
   {
    "duration": 17268,
    "start_time": "2023-09-09T22:06:11.457Z"
   },
   {
    "duration": 13,
    "start_time": "2023-09-09T22:06:28.726Z"
   },
   {
    "duration": 0,
    "start_time": "2023-09-09T22:06:28.741Z"
   },
   {
    "duration": 0,
    "start_time": "2023-09-09T22:06:28.742Z"
   },
   {
    "duration": 0,
    "start_time": "2023-09-09T22:06:28.743Z"
   },
   {
    "duration": 0,
    "start_time": "2023-09-09T22:06:28.744Z"
   },
   {
    "duration": 0,
    "start_time": "2023-09-09T22:06:28.745Z"
   },
   {
    "duration": 114056,
    "start_time": "2023-09-09T22:06:46.921Z"
   },
   {
    "duration": 2,
    "start_time": "2023-09-09T22:08:40.979Z"
   },
   {
    "duration": 272201,
    "start_time": "2023-09-09T22:08:40.983Z"
   },
   {
    "duration": 29850,
    "start_time": "2023-09-09T22:13:13.186Z"
   },
   {
    "duration": 150,
    "start_time": "2023-09-09T22:13:43.038Z"
   },
   {
    "duration": 32488,
    "start_time": "2023-09-09T22:13:43.189Z"
   },
   {
    "duration": 12,
    "start_time": "2023-09-09T22:14:15.678Z"
   },
   {
    "duration": 0,
    "start_time": "2023-09-09T22:14:15.691Z"
   },
   {
    "duration": 0,
    "start_time": "2023-09-09T22:14:15.692Z"
   },
   {
    "duration": 1086,
    "start_time": "2023-09-09T22:14:19.419Z"
   },
   {
    "duration": 2,
    "start_time": "2023-09-09T22:14:20.507Z"
   },
   {
    "duration": 5,
    "start_time": "2023-09-09T22:14:20.510Z"
   },
   {
    "duration": 304,
    "start_time": "2023-09-09T22:14:20.517Z"
   },
   {
    "duration": 2211,
    "start_time": "2023-09-09T22:14:20.823Z"
   },
   {
    "duration": 70,
    "start_time": "2023-09-09T22:14:23.036Z"
   },
   {
    "duration": 836,
    "start_time": "2023-09-09T22:14:23.108Z"
   },
   {
    "duration": 7,
    "start_time": "2023-09-09T22:14:23.945Z"
   },
   {
    "duration": 52,
    "start_time": "2023-09-09T22:14:23.954Z"
   },
   {
    "duration": 822,
    "start_time": "2023-09-09T22:14:24.008Z"
   },
   {
    "duration": 5,
    "start_time": "2023-09-09T22:14:24.832Z"
   },
   {
    "duration": 27,
    "start_time": "2023-09-09T22:14:24.838Z"
   },
   {
    "duration": 15,
    "start_time": "2023-09-09T22:14:24.867Z"
   },
   {
    "duration": 139,
    "start_time": "2023-09-09T22:14:24.885Z"
   },
   {
    "duration": 104,
    "start_time": "2023-09-09T22:14:25.025Z"
   },
   {
    "duration": 445,
    "start_time": "2023-09-09T22:14:25.131Z"
   },
   {
    "duration": 493,
    "start_time": "2023-09-09T22:14:25.577Z"
   },
   {
    "duration": 26,
    "start_time": "2023-09-09T22:14:26.072Z"
   },
   {
    "duration": 37,
    "start_time": "2023-09-09T22:14:26.100Z"
   },
   {
    "duration": 28,
    "start_time": "2023-09-09T22:14:26.139Z"
   },
   {
    "duration": 26,
    "start_time": "2023-09-09T22:14:26.171Z"
   },
   {
    "duration": 22,
    "start_time": "2023-09-09T22:14:26.198Z"
   },
   {
    "duration": 160,
    "start_time": "2023-09-09T22:14:26.221Z"
   },
   {
    "duration": 2,
    "start_time": "2023-09-09T22:14:26.382Z"
   },
   {
    "duration": 925,
    "start_time": "2023-09-09T22:14:26.386Z"
   },
   {
    "duration": 2320,
    "start_time": "2023-09-09T22:14:27.312Z"
   },
   {
    "duration": 286,
    "start_time": "2023-09-09T22:14:29.634Z"
   },
   {
    "duration": 51,
    "start_time": "2023-09-09T22:14:29.922Z"
   },
   {
    "duration": 3,
    "start_time": "2023-09-09T22:14:29.974Z"
   },
   {
    "duration": 28,
    "start_time": "2023-09-09T22:14:29.978Z"
   },
   {
    "duration": 65,
    "start_time": "2023-09-09T22:14:30.007Z"
   },
   {
    "duration": 45,
    "start_time": "2023-09-09T22:14:30.073Z"
   },
   {
    "duration": 9,
    "start_time": "2023-09-09T22:14:30.120Z"
   },
   {
    "duration": 56,
    "start_time": "2023-09-09T22:14:30.130Z"
   },
   {
    "duration": 12,
    "start_time": "2023-09-09T22:14:30.188Z"
   },
   {
    "duration": 46,
    "start_time": "2023-09-09T22:14:30.202Z"
   },
   {
    "duration": 254,
    "start_time": "2023-09-09T22:14:30.249Z"
   },
   {
    "duration": 50,
    "start_time": "2023-09-09T22:14:30.505Z"
   },
   {
    "duration": 2,
    "start_time": "2023-09-09T22:14:30.563Z"
   },
   {
    "duration": 72,
    "start_time": "2023-09-09T22:14:30.566Z"
   },
   {
    "duration": 48,
    "start_time": "2023-09-09T22:14:30.642Z"
   },
   {
    "duration": 108,
    "start_time": "2023-09-09T22:14:30.691Z"
   },
   {
    "duration": 3,
    "start_time": "2023-09-09T22:14:30.801Z"
   },
   {
    "duration": 122921,
    "start_time": "2023-09-09T22:14:30.806Z"
   },
   {
    "duration": 598,
    "start_time": "2023-09-09T22:16:33.729Z"
   },
   {
    "duration": 3,
    "start_time": "2023-09-09T22:16:34.328Z"
   },
   {
    "duration": 16,
    "start_time": "2023-09-09T22:16:34.332Z"
   },
   {
    "duration": 238,
    "start_time": "2023-09-09T22:16:34.349Z"
   },
   {
    "duration": 479,
    "start_time": "2023-09-09T22:16:34.589Z"
   },
   {
    "duration": 12,
    "start_time": "2023-09-09T22:16:35.070Z"
   },
   {
    "duration": 25,
    "start_time": "2023-09-09T22:16:35.083Z"
   },
   {
    "duration": 35,
    "start_time": "2023-09-09T22:16:35.110Z"
   },
   {
    "duration": 19,
    "start_time": "2023-09-09T22:16:35.147Z"
   },
   {
    "duration": 283,
    "start_time": "2023-09-09T22:16:35.167Z"
   },
   {
    "duration": 4,
    "start_time": "2023-09-09T22:16:35.452Z"
   },
   {
    "duration": 91,
    "start_time": "2023-09-09T22:16:35.458Z"
   },
   {
    "duration": 21,
    "start_time": "2023-09-09T22:16:35.551Z"
   },
   {
    "duration": 2483,
    "start_time": "2023-09-09T22:16:35.574Z"
   },
   {
    "duration": 3,
    "start_time": "2023-09-09T22:16:38.058Z"
   },
   {
    "duration": 114270,
    "start_time": "2023-09-09T22:16:38.062Z"
   },
   {
    "duration": 3,
    "start_time": "2023-09-09T22:18:32.333Z"
   },
   {
    "duration": 273439,
    "start_time": "2023-09-09T22:18:32.338Z"
   },
   {
    "duration": 29239,
    "start_time": "2023-09-09T22:23:05.779Z"
   },
   {
    "duration": 149,
    "start_time": "2023-09-09T22:23:35.019Z"
   },
   {
    "duration": 244282,
    "start_time": "2023-09-09T22:23:35.170Z"
   },
   {
    "duration": 26609,
    "start_time": "2023-09-09T22:27:39.454Z"
   },
   {
    "duration": 697,
    "start_time": "2023-09-09T22:28:06.065Z"
   },
   {
    "duration": 9,
    "start_time": "2023-09-09T22:28:06.764Z"
   },
   {
    "duration": 1626,
    "start_time": "2023-09-11T08:44:59.734Z"
   },
   {
    "duration": 3,
    "start_time": "2023-09-11T08:45:01.362Z"
   },
   {
    "duration": 89,
    "start_time": "2023-09-11T08:45:01.367Z"
   },
   {
    "duration": 598,
    "start_time": "2023-09-11T08:45:01.458Z"
   },
   {
    "duration": 4551,
    "start_time": "2023-09-11T08:45:02.059Z"
   },
   {
    "duration": 72,
    "start_time": "2023-09-11T08:45:06.612Z"
   },
   {
    "duration": 1381,
    "start_time": "2023-09-11T08:45:06.685Z"
   },
   {
    "duration": 3,
    "start_time": "2023-09-11T08:45:08.068Z"
   },
   {
    "duration": 88,
    "start_time": "2023-09-11T08:45:08.072Z"
   },
   {
    "duration": 1030,
    "start_time": "2023-09-11T08:45:08.161Z"
   },
   {
    "duration": 4,
    "start_time": "2023-09-11T08:45:09.192Z"
   },
   {
    "duration": 91,
    "start_time": "2023-09-11T08:45:09.199Z"
   },
   {
    "duration": 50,
    "start_time": "2023-09-11T08:45:09.292Z"
   },
   {
    "duration": 207,
    "start_time": "2023-09-11T08:45:09.345Z"
   },
   {
    "duration": 126,
    "start_time": "2023-09-11T08:45:09.553Z"
   },
   {
    "duration": 548,
    "start_time": "2023-09-11T08:45:09.681Z"
   },
   {
    "duration": 589,
    "start_time": "2023-09-11T08:45:10.231Z"
   },
   {
    "duration": 37,
    "start_time": "2023-09-11T08:45:10.823Z"
   },
   {
    "duration": 37,
    "start_time": "2023-09-11T08:45:10.862Z"
   },
   {
    "duration": 38,
    "start_time": "2023-09-11T08:45:17.775Z"
   },
   {
    "duration": 110,
    "start_time": "2023-09-11T08:49:34.669Z"
   },
   {
    "duration": 40,
    "start_time": "2023-09-11T08:50:59.661Z"
   },
   {
    "duration": 130,
    "start_time": "2023-09-11T08:51:56.895Z"
   },
   {
    "duration": 11,
    "start_time": "2023-09-11T08:52:02.073Z"
   },
   {
    "duration": 90,
    "start_time": "2023-09-11T08:52:25.162Z"
   },
   {
    "duration": 36,
    "start_time": "2023-09-11T08:52:29.180Z"
   },
   {
    "duration": 58,
    "start_time": "2023-09-11T08:52:34.022Z"
   },
   {
    "duration": 58,
    "start_time": "2023-09-11T08:53:09.293Z"
   },
   {
    "duration": 46,
    "start_time": "2023-09-11T08:53:11.415Z"
   },
   {
    "duration": 40,
    "start_time": "2023-09-11T08:54:19.622Z"
   },
   {
    "duration": 25,
    "start_time": "2023-09-11T08:54:19.795Z"
   },
   {
    "duration": 152,
    "start_time": "2023-09-11T08:54:19.910Z"
   },
   {
    "duration": 3,
    "start_time": "2023-09-11T08:54:21.171Z"
   },
   {
    "duration": 3,
    "start_time": "2023-09-11T08:54:21.324Z"
   },
   {
    "duration": 2,
    "start_time": "2023-09-11T08:54:21.498Z"
   },
   {
    "duration": 2,
    "start_time": "2023-09-11T08:54:22.002Z"
   },
   {
    "duration": 2,
    "start_time": "2023-09-11T08:54:22.194Z"
   },
   {
    "duration": 2,
    "start_time": "2023-09-11T08:54:23.212Z"
   },
   {
    "duration": 28,
    "start_time": "2023-09-11T08:54:23.817Z"
   },
   {
    "duration": 13,
    "start_time": "2023-09-11T08:54:24.341Z"
   },
   {
    "duration": 8,
    "start_time": "2023-09-11T08:54:33.000Z"
   },
   {
    "duration": 3,
    "start_time": "2023-09-11T08:54:38.622Z"
   },
   {
    "duration": 9,
    "start_time": "2023-09-11T08:54:41.278Z"
   },
   {
    "duration": 3,
    "start_time": "2023-09-11T08:54:42.106Z"
   },
   {
    "duration": 35,
    "start_time": "2023-09-11T08:54:42.678Z"
   },
   {
    "duration": 12,
    "start_time": "2023-09-11T08:57:12.133Z"
   },
   {
    "duration": 31,
    "start_time": "2023-09-11T08:57:15.735Z"
   },
   {
    "duration": 2527,
    "start_time": "2023-09-11T08:57:25.931Z"
   },
   {
    "duration": 13,
    "start_time": "2023-09-11T08:57:37.355Z"
   },
   {
    "duration": 28,
    "start_time": "2023-09-11T08:57:54.568Z"
   },
   {
    "duration": 3,
    "start_time": "2023-09-11T08:58:29.755Z"
   },
   {
    "duration": 28,
    "start_time": "2023-09-11T08:58:30.181Z"
   },
   {
    "duration": 31,
    "start_time": "2023-09-11T08:58:30.950Z"
   },
   {
    "duration": 14,
    "start_time": "2023-09-11T08:58:33.858Z"
   },
   {
    "duration": 16,
    "start_time": "2023-09-11T08:58:34.257Z"
   },
   {
    "duration": 287,
    "start_time": "2023-09-11T08:58:34.426Z"
   },
   {
    "duration": 247,
    "start_time": "2023-09-11T09:03:06.783Z"
   },
   {
    "duration": 176,
    "start_time": "2023-09-11T09:05:20.402Z"
   },
   {
    "duration": 261,
    "start_time": "2023-09-11T09:05:44.713Z"
   },
   {
    "duration": 218,
    "start_time": "2023-09-11T09:05:52.496Z"
   },
   {
    "duration": 249,
    "start_time": "2023-09-11T09:07:34.409Z"
   },
   {
    "duration": 2743,
    "start_time": "2023-09-11T09:07:46.579Z"
   },
   {
    "duration": 10,
    "start_time": "2023-09-11T09:07:52.757Z"
   },
   {
    "duration": 35,
    "start_time": "2023-09-11T09:09:39.882Z"
   },
   {
    "duration": 5,
    "start_time": "2023-09-11T09:09:43.469Z"
   },
   {
    "duration": 6,
    "start_time": "2023-09-11T09:09:47.445Z"
   },
   {
    "duration": 1599,
    "start_time": "2023-09-11T09:10:16.349Z"
   },
   {
    "duration": 2,
    "start_time": "2023-09-11T09:10:17.950Z"
   },
   {
    "duration": 10,
    "start_time": "2023-09-11T09:10:17.954Z"
   },
   {
    "duration": 422,
    "start_time": "2023-09-11T09:10:17.966Z"
   },
   {
    "duration": 2373,
    "start_time": "2023-09-11T09:10:18.390Z"
   },
   {
    "duration": 76,
    "start_time": "2023-09-11T09:10:20.766Z"
   },
   {
    "duration": 980,
    "start_time": "2023-09-11T09:10:20.846Z"
   },
   {
    "duration": 4,
    "start_time": "2023-09-11T09:10:21.829Z"
   },
   {
    "duration": 33,
    "start_time": "2023-09-11T09:10:21.836Z"
   },
   {
    "duration": 902,
    "start_time": "2023-09-11T09:10:21.871Z"
   },
   {
    "duration": 5,
    "start_time": "2023-09-11T09:10:22.776Z"
   },
   {
    "duration": 20,
    "start_time": "2023-09-11T09:10:22.783Z"
   },
   {
    "duration": 18,
    "start_time": "2023-09-11T09:10:22.805Z"
   },
   {
    "duration": 170,
    "start_time": "2023-09-11T09:10:22.826Z"
   },
   {
    "duration": 115,
    "start_time": "2023-09-11T09:10:22.998Z"
   },
   {
    "duration": 482,
    "start_time": "2023-09-11T09:10:23.115Z"
   },
   {
    "duration": 482,
    "start_time": "2023-09-11T09:10:23.599Z"
   },
   {
    "duration": 23,
    "start_time": "2023-09-11T09:10:24.083Z"
   },
   {
    "duration": 57,
    "start_time": "2023-09-11T09:10:24.108Z"
   },
   {
    "duration": 46,
    "start_time": "2023-09-11T09:10:24.167Z"
   },
   {
    "duration": 70,
    "start_time": "2023-09-11T09:10:24.215Z"
   },
   {
    "duration": 38,
    "start_time": "2023-09-11T09:10:24.287Z"
   },
   {
    "duration": 36,
    "start_time": "2023-09-11T09:10:24.327Z"
   },
   {
    "duration": 157,
    "start_time": "2023-09-11T09:10:24.365Z"
   },
   {
    "duration": 3,
    "start_time": "2023-09-11T09:10:24.525Z"
   },
   {
    "duration": 10,
    "start_time": "2023-09-11T09:10:24.531Z"
   },
   {
    "duration": 9,
    "start_time": "2023-09-11T09:10:24.544Z"
   },
   {
    "duration": 7,
    "start_time": "2023-09-11T09:10:24.555Z"
   },
   {
    "duration": 9,
    "start_time": "2023-09-11T09:10:24.563Z"
   },
   {
    "duration": 11,
    "start_time": "2023-09-11T09:10:24.573Z"
   },
   {
    "duration": 58,
    "start_time": "2023-09-11T09:10:24.585Z"
   },
   {
    "duration": 15,
    "start_time": "2023-09-11T09:10:24.645Z"
   },
   {
    "duration": 17,
    "start_time": "2023-09-11T09:10:24.662Z"
   },
   {
    "duration": 4,
    "start_time": "2023-09-11T09:10:24.681Z"
   },
   {
    "duration": 49,
    "start_time": "2023-09-11T09:10:24.687Z"
   },
   {
    "duration": 29,
    "start_time": "2023-09-11T09:10:24.738Z"
   },
   {
    "duration": 13,
    "start_time": "2023-09-11T09:10:24.768Z"
   },
   {
    "duration": 16,
    "start_time": "2023-09-11T09:10:24.783Z"
   },
   {
    "duration": 270,
    "start_time": "2023-09-11T09:10:24.801Z"
   },
   {
    "duration": 33,
    "start_time": "2023-09-11T09:10:25.073Z"
   },
   {
    "duration": 288,
    "start_time": "2023-09-11T09:10:25.110Z"
   },
   {
    "duration": 8,
    "start_time": "2023-09-11T09:10:25.401Z"
   },
   {
    "duration": 60,
    "start_time": "2023-09-11T09:10:25.411Z"
   },
   {
    "duration": 2,
    "start_time": "2023-09-11T09:10:25.474Z"
   },
   {
    "duration": 55,
    "start_time": "2023-09-11T09:10:25.478Z"
   },
   {
    "duration": 16,
    "start_time": "2023-09-11T09:10:25.535Z"
   },
   {
    "duration": 127,
    "start_time": "2023-09-11T09:10:25.552Z"
   },
   {
    "duration": 2,
    "start_time": "2023-09-11T09:10:25.681Z"
   },
   {
    "duration": 6079,
    "start_time": "2023-09-11T09:10:25.685Z"
   },
   {
    "duration": 369,
    "start_time": "2023-09-11T09:10:31.765Z"
   },
   {
    "duration": 0,
    "start_time": "2023-09-11T09:10:32.136Z"
   },
   {
    "duration": 0,
    "start_time": "2023-09-11T09:10:32.139Z"
   },
   {
    "duration": 0,
    "start_time": "2023-09-11T09:10:32.141Z"
   },
   {
    "duration": 0,
    "start_time": "2023-09-11T09:10:32.143Z"
   },
   {
    "duration": 1,
    "start_time": "2023-09-11T09:10:32.145Z"
   },
   {
    "duration": 0,
    "start_time": "2023-09-11T09:10:32.147Z"
   },
   {
    "duration": 0,
    "start_time": "2023-09-11T09:10:32.149Z"
   },
   {
    "duration": 0,
    "start_time": "2023-09-11T09:10:32.150Z"
   },
   {
    "duration": 1531,
    "start_time": "2023-09-11T09:10:47.864Z"
   },
   {
    "duration": 2,
    "start_time": "2023-09-11T09:10:49.397Z"
   },
   {
    "duration": 25,
    "start_time": "2023-09-11T09:10:49.401Z"
   },
   {
    "duration": 441,
    "start_time": "2023-09-11T09:10:49.427Z"
   },
   {
    "duration": 2640,
    "start_time": "2023-09-11T09:10:49.870Z"
   },
   {
    "duration": 69,
    "start_time": "2023-09-11T09:10:52.512Z"
   },
   {
    "duration": 886,
    "start_time": "2023-09-11T09:10:52.583Z"
   },
   {
    "duration": 2,
    "start_time": "2023-09-11T09:10:53.471Z"
   },
   {
    "duration": 27,
    "start_time": "2023-09-11T09:10:53.474Z"
   },
   {
    "duration": 919,
    "start_time": "2023-09-11T09:10:53.502Z"
   },
   {
    "duration": 5,
    "start_time": "2023-09-11T09:10:54.423Z"
   },
   {
    "duration": 18,
    "start_time": "2023-09-11T09:10:54.430Z"
   },
   {
    "duration": 6,
    "start_time": "2023-09-11T09:10:54.450Z"
   },
   {
    "duration": 170,
    "start_time": "2023-09-11T09:10:54.459Z"
   },
   {
    "duration": 115,
    "start_time": "2023-09-11T09:10:54.632Z"
   },
   {
    "duration": 453,
    "start_time": "2023-09-11T09:10:54.749Z"
   },
   {
    "duration": 523,
    "start_time": "2023-09-11T09:10:55.204Z"
   },
   {
    "duration": 33,
    "start_time": "2023-09-11T09:10:55.729Z"
   },
   {
    "duration": 39,
    "start_time": "2023-09-11T09:10:55.764Z"
   },
   {
    "duration": 79,
    "start_time": "2023-09-11T09:10:55.805Z"
   },
   {
    "duration": 69,
    "start_time": "2023-09-11T09:10:55.886Z"
   },
   {
    "duration": 28,
    "start_time": "2023-09-11T09:10:55.958Z"
   },
   {
    "duration": 50,
    "start_time": "2023-09-11T09:10:55.988Z"
   },
   {
    "duration": 156,
    "start_time": "2023-09-11T09:10:56.041Z"
   },
   {
    "duration": 3,
    "start_time": "2023-09-11T09:10:56.199Z"
   },
   {
    "duration": 16,
    "start_time": "2023-09-11T09:10:56.203Z"
   },
   {
    "duration": 3,
    "start_time": "2023-09-11T09:10:56.223Z"
   },
   {
    "duration": 9,
    "start_time": "2023-09-11T09:10:56.229Z"
   },
   {
    "duration": 10,
    "start_time": "2023-09-11T09:10:56.240Z"
   },
   {
    "duration": 20,
    "start_time": "2023-09-11T09:10:56.251Z"
   },
   {
    "duration": 41,
    "start_time": "2023-09-11T09:10:56.272Z"
   },
   {
    "duration": 37,
    "start_time": "2023-09-11T09:10:56.314Z"
   },
   {
    "duration": 15,
    "start_time": "2023-09-11T09:10:56.352Z"
   },
   {
    "duration": 11,
    "start_time": "2023-09-11T09:10:56.369Z"
   },
   {
    "duration": 42,
    "start_time": "2023-09-11T09:10:56.382Z"
   },
   {
    "duration": 30,
    "start_time": "2023-09-11T09:10:56.426Z"
   },
   {
    "duration": 14,
    "start_time": "2023-09-11T09:10:56.458Z"
   },
   {
    "duration": 16,
    "start_time": "2023-09-11T09:10:56.473Z"
   },
   {
    "duration": 294,
    "start_time": "2023-09-11T09:10:56.490Z"
   },
   {
    "duration": 25,
    "start_time": "2023-09-11T09:10:56.786Z"
   },
   {
    "duration": 278,
    "start_time": "2023-09-11T09:10:56.815Z"
   },
   {
    "duration": 9,
    "start_time": "2023-09-11T09:10:57.095Z"
   },
   {
    "duration": 45,
    "start_time": "2023-09-11T09:10:57.106Z"
   },
   {
    "duration": 2,
    "start_time": "2023-09-11T09:10:57.153Z"
   },
   {
    "duration": 14,
    "start_time": "2023-09-11T09:16:00.713Z"
   },
   {
    "duration": 3,
    "start_time": "2023-09-11T09:16:00.898Z"
   },
   {
    "duration": 3,
    "start_time": "2023-09-11T09:16:01.086Z"
   },
   {
    "duration": 146,
    "start_time": "2023-09-11T09:16:01.698Z"
   },
   {
    "duration": 23,
    "start_time": "2023-09-11T09:16:31.988Z"
   },
   {
    "duration": 4,
    "start_time": "2023-09-11T09:16:32.223Z"
   },
   {
    "duration": 3,
    "start_time": "2023-09-11T09:16:32.390Z"
   },
   {
    "duration": 124,
    "start_time": "2023-09-11T09:16:32.716Z"
   },
   {
    "duration": 2,
    "start_time": "2023-09-11T09:17:04.113Z"
   },
   {
    "duration": 195707,
    "start_time": "2023-09-11T09:17:04.369Z"
   },
   {
    "duration": 702,
    "start_time": "2023-09-11T09:20:20.077Z"
   },
   {
    "duration": 162,
    "start_time": "2023-09-11T09:20:20.780Z"
   },
   {
    "duration": 5,
    "start_time": "2023-09-11T09:20:28.443Z"
   },
   {
    "duration": 236,
    "start_time": "2023-09-11T09:20:28.612Z"
   },
   {
    "duration": 541,
    "start_time": "2023-09-11T09:20:28.933Z"
   },
   {
    "duration": 13,
    "start_time": "2023-09-11T09:20:29.476Z"
   },
   {
    "duration": 4,
    "start_time": "2023-09-11T09:20:30.168Z"
   },
   {
    "duration": 6,
    "start_time": "2023-09-11T09:20:30.794Z"
   },
   {
    "duration": 3,
    "start_time": "2023-09-11T09:20:31.111Z"
   },
   {
    "duration": 195,
    "start_time": "2023-09-11T09:20:31.447Z"
   },
   {
    "duration": 3,
    "start_time": "2023-09-11T09:20:31.975Z"
   },
   {
    "duration": 3,
    "start_time": "2023-09-11T09:20:32.317Z"
   },
   {
    "duration": 3,
    "start_time": "2023-09-11T09:20:32.486Z"
   },
   {
    "duration": 2256,
    "start_time": "2023-09-11T09:20:32.677Z"
   },
   {
    "duration": 9,
    "start_time": "2023-09-11T09:20:34.937Z"
   },
   {
    "duration": 104836,
    "start_time": "2023-09-11T09:20:34.949Z"
   },
   {
    "duration": 3,
    "start_time": "2023-09-11T09:22:19.787Z"
   },
   {
    "duration": 275013,
    "start_time": "2023-09-11T09:22:19.792Z"
   },
   {
    "duration": 27888,
    "start_time": "2023-09-11T09:26:54.807Z"
   },
   {
    "duration": 113,
    "start_time": "2023-09-11T09:27:22.697Z"
   },
   {
    "duration": 954257,
    "start_time": "2023-09-11T09:27:22.812Z"
   },
   {
    "duration": 344878,
    "start_time": "2023-09-11T09:43:17.071Z"
   },
   {
    "duration": 680,
    "start_time": "2023-09-11T09:49:01.953Z"
   },
   {
    "duration": 13,
    "start_time": "2023-09-11T09:49:02.636Z"
   },
   {
    "duration": 1307,
    "start_time": "2023-09-11T09:52:13.702Z"
   },
   {
    "duration": 3,
    "start_time": "2023-09-11T09:52:15.011Z"
   },
   {
    "duration": 66,
    "start_time": "2023-09-11T09:52:15.016Z"
   },
   {
    "duration": 482,
    "start_time": "2023-09-11T09:52:15.084Z"
   },
   {
    "duration": 2534,
    "start_time": "2023-09-11T09:52:15.568Z"
   },
   {
    "duration": 73,
    "start_time": "2023-09-11T09:52:18.105Z"
   },
   {
    "duration": 998,
    "start_time": "2023-09-11T09:52:18.179Z"
   },
   {
    "duration": 2,
    "start_time": "2023-09-11T09:52:19.179Z"
   },
   {
    "duration": 25,
    "start_time": "2023-09-11T09:52:19.182Z"
   },
   {
    "duration": 972,
    "start_time": "2023-09-11T09:52:19.209Z"
   },
   {
    "duration": 4,
    "start_time": "2023-09-11T09:52:20.182Z"
   },
   {
    "duration": 30,
    "start_time": "2023-09-11T09:52:20.188Z"
   },
   {
    "duration": 26,
    "start_time": "2023-09-11T09:52:20.220Z"
   },
   {
    "duration": 194,
    "start_time": "2023-09-11T09:52:20.248Z"
   },
   {
    "duration": 133,
    "start_time": "2023-09-11T09:52:20.450Z"
   },
   {
    "duration": 586,
    "start_time": "2023-09-11T09:52:20.585Z"
   },
   {
    "duration": 571,
    "start_time": "2023-09-11T09:52:21.173Z"
   },
   {
    "duration": 24,
    "start_time": "2023-09-11T09:52:21.750Z"
   },
   {
    "duration": 66,
    "start_time": "2023-09-11T09:52:21.776Z"
   },
   {
    "duration": 52,
    "start_time": "2023-09-11T09:52:21.845Z"
   },
   {
    "duration": 86,
    "start_time": "2023-09-11T09:52:21.899Z"
   },
   {
    "duration": 24,
    "start_time": "2023-09-11T09:52:21.987Z"
   },
   {
    "duration": 37,
    "start_time": "2023-09-11T09:52:22.028Z"
   },
   {
    "duration": 145,
    "start_time": "2023-09-11T09:52:22.067Z"
   },
   {
    "duration": 2,
    "start_time": "2023-09-11T09:52:22.214Z"
   },
   {
    "duration": 28,
    "start_time": "2023-09-11T09:52:22.217Z"
   },
   {
    "duration": 12,
    "start_time": "2023-09-11T09:52:22.247Z"
   },
   {
    "duration": 15,
    "start_time": "2023-09-11T09:52:22.260Z"
   },
   {
    "duration": 15,
    "start_time": "2023-09-11T09:52:22.277Z"
   },
   {
    "duration": 16,
    "start_time": "2023-09-11T09:52:22.294Z"
   },
   {
    "duration": 44,
    "start_time": "2023-09-11T09:52:22.312Z"
   },
   {
    "duration": 3,
    "start_time": "2023-09-11T09:52:22.358Z"
   },
   {
    "duration": 38,
    "start_time": "2023-09-11T09:52:22.362Z"
   },
   {
    "duration": 31,
    "start_time": "2023-09-11T09:52:22.402Z"
   },
   {
    "duration": 60,
    "start_time": "2023-09-11T09:52:22.435Z"
   },
   {
    "duration": 47,
    "start_time": "2023-09-11T09:52:22.497Z"
   },
   {
    "duration": 15,
    "start_time": "2023-09-11T09:52:22.553Z"
   },
   {
    "duration": 29,
    "start_time": "2023-09-11T09:52:22.570Z"
   },
   {
    "duration": 315,
    "start_time": "2023-09-11T09:52:22.601Z"
   },
   {
    "duration": 51,
    "start_time": "2023-09-11T09:52:22.918Z"
   },
   {
    "duration": 291,
    "start_time": "2023-09-11T09:52:22.975Z"
   },
   {
    "duration": 10,
    "start_time": "2023-09-11T09:52:23.268Z"
   },
   {
    "duration": 285,
    "start_time": "2023-09-11T09:52:23.279Z"
   },
   {
    "duration": 96,
    "start_time": "2023-09-11T09:52:23.566Z"
   },
   {
    "duration": 101,
    "start_time": "2023-09-11T09:52:23.664Z"
   },
   {
    "duration": 245,
    "start_time": "2023-09-11T09:52:23.767Z"
   },
   {
    "duration": 56,
    "start_time": "2023-09-11T09:52:24.014Z"
   },
   {
    "duration": 191,
    "start_time": "2023-09-11T09:52:24.072Z"
   },
   {
    "duration": 2,
    "start_time": "2023-09-11T09:52:24.265Z"
   },
   {
    "duration": 205498,
    "start_time": "2023-09-11T09:52:24.268Z"
   },
   {
    "duration": 712,
    "start_time": "2023-09-11T09:55:49.768Z"
   },
   {
    "duration": 3,
    "start_time": "2023-09-11T09:55:50.482Z"
   },
   {
    "duration": 10,
    "start_time": "2023-09-11T09:55:50.486Z"
   },
   {
    "duration": 249,
    "start_time": "2023-09-11T09:55:50.498Z"
   },
   {
    "duration": 568,
    "start_time": "2023-09-11T09:55:50.750Z"
   },
   {
    "duration": 32,
    "start_time": "2023-09-11T09:55:51.319Z"
   },
   {
    "duration": 8,
    "start_time": "2023-09-11T09:55:51.353Z"
   },
   {
    "duration": 19,
    "start_time": "2023-09-11T09:55:51.363Z"
   },
   {
    "duration": 16,
    "start_time": "2023-09-11T09:55:51.384Z"
   },
   {
    "duration": 333,
    "start_time": "2023-09-11T09:55:51.402Z"
   },
   {
    "duration": 6,
    "start_time": "2023-09-11T09:55:51.746Z"
   },
   {
    "duration": 72,
    "start_time": "2023-09-11T09:55:51.756Z"
   },
   {
    "duration": 4,
    "start_time": "2023-09-11T09:55:51.830Z"
   },
   {
    "duration": 2150,
    "start_time": "2023-09-11T09:55:51.836Z"
   },
   {
    "duration": 3,
    "start_time": "2023-09-11T09:55:53.987Z"
   },
   {
    "duration": 98008,
    "start_time": "2023-09-11T09:55:53.991Z"
   },
   {
    "duration": 3,
    "start_time": "2023-09-11T09:57:32.002Z"
   },
   {
    "duration": 278227,
    "start_time": "2023-09-11T09:57:32.007Z"
   },
   {
    "duration": 27756,
    "start_time": "2023-09-11T10:02:10.235Z"
   },
   {
    "duration": 173,
    "start_time": "2023-09-11T10:02:37.993Z"
   },
   {
    "duration": 978868,
    "start_time": "2023-09-11T10:02:38.168Z"
   },
   {
    "duration": 313111,
    "start_time": "2023-09-11T10:18:57.038Z"
   },
   {
    "duration": 698,
    "start_time": "2023-09-11T10:24:10.152Z"
   },
   {
    "duration": 89,
    "start_time": "2023-09-11T10:24:10.851Z"
   },
   {
    "duration": 242049,
    "start_time": "2023-09-11T10:26:33.798Z"
   },
   {
    "duration": 66334,
    "start_time": "2023-09-11T10:30:35.925Z"
   },
   {
    "duration": 569,
    "start_time": "2023-09-11T10:31:42.261Z"
   },
   {
    "duration": 12,
    "start_time": "2023-09-11T10:31:42.833Z"
   },
   {
    "duration": 133,
    "start_time": "2023-09-11T10:46:01.053Z"
   },
   {
    "duration": 139,
    "start_time": "2023-09-11T10:46:36.039Z"
   },
   {
    "duration": 21,
    "start_time": "2023-09-11T10:46:51.054Z"
   },
   {
    "duration": 496,
    "start_time": "2023-09-11T10:47:02.955Z"
   },
   {
    "duration": 10,
    "start_time": "2023-09-11T10:47:05.309Z"
   },
   {
    "duration": 143,
    "start_time": "2023-09-11T10:47:48.330Z"
   },
   {
    "duration": 4,
    "start_time": "2023-09-11T10:48:23.803Z"
   },
   {
    "duration": 5,
    "start_time": "2023-09-11T10:51:37.376Z"
   },
   {
    "duration": 6,
    "start_time": "2023-09-11T10:53:21.843Z"
   },
   {
    "duration": 3,
    "start_time": "2023-09-11T10:53:23.185Z"
   },
   {
    "duration": 3,
    "start_time": "2023-09-11T10:53:40.275Z"
   },
   {
    "duration": 1256,
    "start_time": "2023-09-11T10:57:07.075Z"
   },
   {
    "duration": 3,
    "start_time": "2023-09-11T10:57:08.350Z"
   },
   {
    "duration": 4,
    "start_time": "2023-09-11T10:57:08.357Z"
   },
   {
    "duration": 375,
    "start_time": "2023-09-11T10:57:08.362Z"
   },
   {
    "duration": 2620,
    "start_time": "2023-09-11T10:57:08.748Z"
   },
   {
    "duration": 88,
    "start_time": "2023-09-11T10:57:11.370Z"
   },
   {
    "duration": 1071,
    "start_time": "2023-09-11T10:57:11.460Z"
   },
   {
    "duration": 8,
    "start_time": "2023-09-11T10:57:12.538Z"
   },
   {
    "duration": 46,
    "start_time": "2023-09-11T10:57:12.549Z"
   },
   {
    "duration": 1084,
    "start_time": "2023-09-11T10:57:12.596Z"
   },
   {
    "duration": 4,
    "start_time": "2023-09-11T10:57:13.682Z"
   },
   {
    "duration": 41,
    "start_time": "2023-09-11T10:57:13.687Z"
   },
   {
    "duration": 17,
    "start_time": "2023-09-11T10:57:13.736Z"
   },
   {
    "duration": 196,
    "start_time": "2023-09-11T10:57:13.757Z"
   },
   {
    "duration": 114,
    "start_time": "2023-09-11T10:57:13.955Z"
   },
   {
    "duration": 514,
    "start_time": "2023-09-11T10:57:14.070Z"
   },
   {
    "duration": 594,
    "start_time": "2023-09-11T10:57:14.586Z"
   },
   {
    "duration": 22,
    "start_time": "2023-09-11T10:57:15.182Z"
   },
   {
    "duration": 65,
    "start_time": "2023-09-11T10:57:15.205Z"
   },
   {
    "duration": 87,
    "start_time": "2023-09-11T10:57:15.272Z"
   },
   {
    "duration": 150,
    "start_time": "2023-09-11T10:57:15.361Z"
   },
   {
    "duration": 52,
    "start_time": "2023-09-11T10:57:15.513Z"
   },
   {
    "duration": 54,
    "start_time": "2023-09-11T10:57:15.566Z"
   },
   {
    "duration": 239,
    "start_time": "2023-09-11T10:57:15.621Z"
   },
   {
    "duration": 3,
    "start_time": "2023-09-11T10:57:15.863Z"
   },
   {
    "duration": 34,
    "start_time": "2023-09-11T10:57:15.868Z"
   },
   {
    "duration": 47,
    "start_time": "2023-09-11T10:57:15.903Z"
   },
   {
    "duration": 35,
    "start_time": "2023-09-11T10:57:15.952Z"
   },
   {
    "duration": 57,
    "start_time": "2023-09-11T10:57:15.989Z"
   },
   {
    "duration": 9,
    "start_time": "2023-09-11T10:57:16.053Z"
   },
   {
    "duration": 100,
    "start_time": "2023-09-11T10:57:16.064Z"
   },
   {
    "duration": 129,
    "start_time": "2023-09-11T10:57:16.168Z"
   },
   {
    "duration": 137,
    "start_time": "2023-09-11T10:57:16.299Z"
   },
   {
    "duration": 43,
    "start_time": "2023-09-11T10:57:16.438Z"
   },
   {
    "duration": 39,
    "start_time": "2023-09-11T10:57:16.483Z"
   },
   {
    "duration": 47,
    "start_time": "2023-09-11T10:57:16.524Z"
   },
   {
    "duration": 29,
    "start_time": "2023-09-11T10:57:16.573Z"
   },
   {
    "duration": 32,
    "start_time": "2023-09-11T10:57:16.605Z"
   },
   {
    "duration": 352,
    "start_time": "2023-09-11T10:57:16.640Z"
   },
   {
    "duration": 31,
    "start_time": "2023-09-11T10:57:16.994Z"
   },
   {
    "duration": 316,
    "start_time": "2023-09-11T10:57:17.032Z"
   },
   {
    "duration": 10,
    "start_time": "2023-09-11T10:57:17.351Z"
   },
   {
    "duration": 197,
    "start_time": "2023-09-11T10:57:17.362Z"
   },
   {
    "duration": 89,
    "start_time": "2023-09-11T10:57:17.561Z"
   },
   {
    "duration": 99,
    "start_time": "2023-09-11T10:57:17.652Z"
   },
   {
    "duration": 202,
    "start_time": "2023-09-11T10:57:17.754Z"
   },
   {
    "duration": 94,
    "start_time": "2023-09-11T10:57:17.958Z"
   },
   {
    "duration": 222,
    "start_time": "2023-09-11T10:57:18.053Z"
   },
   {
    "duration": 3,
    "start_time": "2023-09-11T10:57:18.277Z"
   }
  ],
  "kernelspec": {
   "display_name": "Python 3 (ipykernel)",
   "language": "python",
   "name": "python3"
  },
  "language_info": {
   "codemirror_mode": {
    "name": "ipython",
    "version": 3
   },
   "file_extension": ".py",
   "mimetype": "text/x-python",
   "name": "python",
   "nbconvert_exporter": "python",
   "pygments_lexer": "ipython3",
   "version": "3.9.5"
  },
  "toc": {
   "base_numbering": 1,
   "nav_menu": {},
   "number_sections": true,
   "sideBar": true,
   "skip_h1_title": true,
   "title_cell": "Table of Contents",
   "title_sidebar": "Contents",
   "toc_cell": false,
   "toc_position": {
    "height": "calc(100% - 180px)",
    "left": "10px",
    "top": "150px",
    "width": "406.438px"
   },
   "toc_section_display": true,
   "toc_window_display": true
  }
 },
 "nbformat": 4,
 "nbformat_minor": 2
}
